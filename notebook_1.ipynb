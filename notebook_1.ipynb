{
 "cells": [
  {
   "cell_type": "markdown",
   "id": "62cebdcf",
   "metadata": {},
   "source": [
    "# Business Problem"
   ]
  },
  {
   "cell_type": "markdown",
   "id": "a080dcde",
   "metadata": {},
   "source": [
    "Who are the stakeholders in this project? Who will be directly affected by the creation of this project?\n",
    "\n",
    "A NHL team\n",
    "\n",
    "What business problem(s) will this Data Science project solve for the organization?\n",
    "\n",
    "An NHL team is looking to determine who is likely, or more likely to suffer a concussion based on past performance and information. \n",
    "\n",
    "What problems are inside the scope of this project?\n",
    "\n",
    "What problems are outside the scope of this project?\n",
    "\n",
    "What data sources are available to us?\n",
    "\n",
    "Eliteprospect_scraper package and a csv of nhl injuries\n",
    "\n",
    "What is the expected timeline for this project? Are there hard deadlines (e.g. \"must be live before holiday season shopping\") or is this an ongoing project?\n",
    "\n",
    "Finish bones of project by 1/17/2023\n",
    "\n",
    "Do stakeholders from different parts of the company or organization all have the exact same understanding about what this project is and isn't?"
   ]
  },
  {
   "cell_type": "markdown",
   "id": "44dbaba5",
   "metadata": {},
   "source": [
    "### Obtain"
   ]
  },
  {
   "cell_type": "code",
   "execution_count": 1,
   "id": "3925afb9",
   "metadata": {},
   "outputs": [],
   "source": [
    "import pandas as pd\n",
    "import numpy as np\n",
    "\n",
    "import matplotlib.pyplot as plt\n",
    "from scipy import stats\n",
    "import seaborn as sns"
   ]
  },
  {
   "cell_type": "code",
   "execution_count": 2,
   "id": "a174d3fd",
   "metadata": {},
   "outputs": [
    {
     "data": {
      "text/html": [
       "<div>\n",
       "<style scoped>\n",
       "    .dataframe tbody tr th:only-of-type {\n",
       "        vertical-align: middle;\n",
       "    }\n",
       "\n",
       "    .dataframe tbody tr th {\n",
       "        vertical-align: top;\n",
       "    }\n",
       "\n",
       "    .dataframe thead th {\n",
       "        text-align: right;\n",
       "    }\n",
       "</style>\n",
       "<table border=\"1\" class=\"dataframe\">\n",
       "  <thead>\n",
       "    <tr style=\"text-align: right;\">\n",
       "      <th></th>\n",
       "      <th>player</th>\n",
       "      <th>team</th>\n",
       "      <th>gp</th>\n",
       "      <th>g</th>\n",
       "      <th>a</th>\n",
       "      <th>tp</th>\n",
       "      <th>ppg</th>\n",
       "      <th>pim</th>\n",
       "      <th>+/-</th>\n",
       "      <th>link</th>\n",
       "      <th>season</th>\n",
       "      <th>league</th>\n",
       "      <th>playername</th>\n",
       "      <th>position</th>\n",
       "      <th>fw_def</th>\n",
       "      <th>Name</th>\n",
       "      <th>Games Missed</th>\n",
       "      <th>Concussion</th>\n",
       "    </tr>\n",
       "  </thead>\n",
       "  <tbody>\n",
       "    <tr>\n",
       "      <th>0</th>\n",
       "      <td>Jaromír Jágr (RW)</td>\n",
       "      <td>Pittsburgh Penguins</td>\n",
       "      <td>81</td>\n",
       "      <td>52</td>\n",
       "      <td>69</td>\n",
       "      <td>121</td>\n",
       "      <td>1.49</td>\n",
       "      <td>42</td>\n",
       "      <td>19</td>\n",
       "      <td>https://www.eliteprospects.com/player/8627/jar...</td>\n",
       "      <td>2000-01</td>\n",
       "      <td>nhl</td>\n",
       "      <td>Jaromír Jágr</td>\n",
       "      <td>RW</td>\n",
       "      <td>FW</td>\n",
       "      <td>0</td>\n",
       "      <td>0.0</td>\n",
       "      <td>0</td>\n",
       "    </tr>\n",
       "    <tr>\n",
       "      <th>1</th>\n",
       "      <td>Joe Sakic (C)</td>\n",
       "      <td>Colorado Avalanche</td>\n",
       "      <td>82</td>\n",
       "      <td>54</td>\n",
       "      <td>64</td>\n",
       "      <td>118</td>\n",
       "      <td>1.44</td>\n",
       "      <td>30</td>\n",
       "      <td>45</td>\n",
       "      <td>https://www.eliteprospects.com/player/8862/joe...</td>\n",
       "      <td>2000-01</td>\n",
       "      <td>nhl</td>\n",
       "      <td>Joe Sakic</td>\n",
       "      <td>C</td>\n",
       "      <td>FW</td>\n",
       "      <td>0</td>\n",
       "      <td>0.0</td>\n",
       "      <td>0</td>\n",
       "    </tr>\n",
       "    <tr>\n",
       "      <th>2</th>\n",
       "      <td>Patrik Elias (LW)</td>\n",
       "      <td>New Jersey Devils</td>\n",
       "      <td>82</td>\n",
       "      <td>40</td>\n",
       "      <td>56</td>\n",
       "      <td>96</td>\n",
       "      <td>1.17</td>\n",
       "      <td>51</td>\n",
       "      <td>45</td>\n",
       "      <td>https://www.eliteprospects.com/player/8698/pat...</td>\n",
       "      <td>2000-01</td>\n",
       "      <td>nhl</td>\n",
       "      <td>Patrik Elias</td>\n",
       "      <td>LW</td>\n",
       "      <td>FW</td>\n",
       "      <td>0</td>\n",
       "      <td>0.0</td>\n",
       "      <td>0</td>\n",
       "    </tr>\n",
       "    <tr>\n",
       "      <th>3</th>\n",
       "      <td>Alexei Kovalev (RW)</td>\n",
       "      <td>Pittsburgh Penguins</td>\n",
       "      <td>79</td>\n",
       "      <td>44</td>\n",
       "      <td>51</td>\n",
       "      <td>95</td>\n",
       "      <td>1.2</td>\n",
       "      <td>96</td>\n",
       "      <td>12</td>\n",
       "      <td>https://www.eliteprospects.com/player/8670/ale...</td>\n",
       "      <td>2000-01</td>\n",
       "      <td>nhl</td>\n",
       "      <td>Alexei Kovalev</td>\n",
       "      <td>RW</td>\n",
       "      <td>FW</td>\n",
       "      <td>0</td>\n",
       "      <td>0.0</td>\n",
       "      <td>0</td>\n",
       "    </tr>\n",
       "    <tr>\n",
       "      <th>4</th>\n",
       "      <td>Jason Allison (C)</td>\n",
       "      <td>Boston Bruins</td>\n",
       "      <td>82</td>\n",
       "      <td>36</td>\n",
       "      <td>59</td>\n",
       "      <td>95</td>\n",
       "      <td>1.16</td>\n",
       "      <td>85</td>\n",
       "      <td>-8</td>\n",
       "      <td>https://www.eliteprospects.com/player/9064/jas...</td>\n",
       "      <td>2000-01</td>\n",
       "      <td>nhl</td>\n",
       "      <td>Jason Allison</td>\n",
       "      <td>C</td>\n",
       "      <td>FW</td>\n",
       "      <td>0</td>\n",
       "      <td>0.0</td>\n",
       "      <td>0</td>\n",
       "    </tr>\n",
       "  </tbody>\n",
       "</table>\n",
       "</div>"
      ],
      "text/plain": [
       "                player                 team  gp   g   a   tp   ppg pim +/-  \\\n",
       "0    Jaromír Jágr (RW)  Pittsburgh Penguins  81  52  69  121  1.49  42  19   \n",
       "1        Joe Sakic (C)   Colorado Avalanche  82  54  64  118  1.44  30  45   \n",
       "2    Patrik Elias (LW)    New Jersey Devils  82  40  56   96  1.17  51  45   \n",
       "3  Alexei Kovalev (RW)  Pittsburgh Penguins  79  44  51   95   1.2  96  12   \n",
       "4    Jason Allison (C)        Boston Bruins  82  36  59   95  1.16  85  -8   \n",
       "\n",
       "                                                link   season league  \\\n",
       "0  https://www.eliteprospects.com/player/8627/jar...  2000-01    nhl   \n",
       "1  https://www.eliteprospects.com/player/8862/joe...  2000-01    nhl   \n",
       "2  https://www.eliteprospects.com/player/8698/pat...  2000-01    nhl   \n",
       "3  https://www.eliteprospects.com/player/8670/ale...  2000-01    nhl   \n",
       "4  https://www.eliteprospects.com/player/9064/jas...  2000-01    nhl   \n",
       "\n",
       "       playername position fw_def Name  Games Missed  Concussion  \n",
       "0    Jaromír Jágr       RW     FW    0           0.0           0  \n",
       "1       Joe Sakic        C     FW    0           0.0           0  \n",
       "2    Patrik Elias       LW     FW    0           0.0           0  \n",
       "3  Alexei Kovalev       RW     FW    0           0.0           0  \n",
       "4   Jason Allison        C     FW    0           0.0           0  "
      ]
     },
     "execution_count": 2,
     "metadata": {},
     "output_type": "execute_result"
    }
   ],
   "source": [
    "df = pd.read_csv(\"df\")\n",
    "df.head()"
   ]
  },
  {
   "cell_type": "markdown",
   "id": "535bda5d",
   "metadata": {},
   "source": [
    "### Scrub"
   ]
  },
  {
   "cell_type": "code",
   "execution_count": 3,
   "id": "85de7906",
   "metadata": {},
   "outputs": [
    {
     "data": {
      "text/plain": [
       "Index(['player', 'team', 'gp', 'g', 'a', 'tp', 'ppg', 'pim', '+/-', 'link',\n",
       "       'season', 'league', 'playername', 'position', 'fw_def', 'Name',\n",
       "       'Games Missed', 'Concussion'],\n",
       "      dtype='object')"
      ]
     },
     "execution_count": 3,
     "metadata": {},
     "output_type": "execute_result"
    }
   ],
   "source": [
    "df.columns"
   ]
  },
  {
   "cell_type": "code",
   "execution_count": 4,
   "id": "3e85c0bf",
   "metadata": {},
   "outputs": [
    {
     "data": {
      "text/html": [
       "<div>\n",
       "<style scoped>\n",
       "    .dataframe tbody tr th:only-of-type {\n",
       "        vertical-align: middle;\n",
       "    }\n",
       "\n",
       "    .dataframe tbody tr th {\n",
       "        vertical-align: top;\n",
       "    }\n",
       "\n",
       "    .dataframe thead th {\n",
       "        text-align: right;\n",
       "    }\n",
       "</style>\n",
       "<table border=\"1\" class=\"dataframe\">\n",
       "  <thead>\n",
       "    <tr style=\"text-align: right;\">\n",
       "      <th></th>\n",
       "      <th>player</th>\n",
       "      <th>team</th>\n",
       "      <th>gp</th>\n",
       "      <th>g</th>\n",
       "      <th>a</th>\n",
       "      <th>tp</th>\n",
       "      <th>ppg</th>\n",
       "      <th>pim</th>\n",
       "      <th>+/-</th>\n",
       "      <th>link</th>\n",
       "      <th>season</th>\n",
       "      <th>league</th>\n",
       "      <th>playername</th>\n",
       "      <th>position</th>\n",
       "      <th>fw_def</th>\n",
       "      <th>Name</th>\n",
       "      <th>Games Missed</th>\n",
       "      <th>Concussion</th>\n",
       "    </tr>\n",
       "  </thead>\n",
       "  <tbody>\n",
       "    <tr>\n",
       "      <th>0</th>\n",
       "      <td>Jaromír Jágr (RW)</td>\n",
       "      <td>Pittsburgh Penguins</td>\n",
       "      <td>81</td>\n",
       "      <td>52</td>\n",
       "      <td>69</td>\n",
       "      <td>121</td>\n",
       "      <td>1.49</td>\n",
       "      <td>42</td>\n",
       "      <td>19</td>\n",
       "      <td>https://www.eliteprospects.com/player/8627/jar...</td>\n",
       "      <td>2000-01</td>\n",
       "      <td>nhl</td>\n",
       "      <td>Jaromír Jágr</td>\n",
       "      <td>RW</td>\n",
       "      <td>FW</td>\n",
       "      <td>0</td>\n",
       "      <td>0.0</td>\n",
       "      <td>0</td>\n",
       "    </tr>\n",
       "    <tr>\n",
       "      <th>1</th>\n",
       "      <td>Joe Sakic (C)</td>\n",
       "      <td>Colorado Avalanche</td>\n",
       "      <td>82</td>\n",
       "      <td>54</td>\n",
       "      <td>64</td>\n",
       "      <td>118</td>\n",
       "      <td>1.44</td>\n",
       "      <td>30</td>\n",
       "      <td>45</td>\n",
       "      <td>https://www.eliteprospects.com/player/8862/joe...</td>\n",
       "      <td>2000-01</td>\n",
       "      <td>nhl</td>\n",
       "      <td>Joe Sakic</td>\n",
       "      <td>C</td>\n",
       "      <td>FW</td>\n",
       "      <td>0</td>\n",
       "      <td>0.0</td>\n",
       "      <td>0</td>\n",
       "    </tr>\n",
       "    <tr>\n",
       "      <th>2</th>\n",
       "      <td>Patrik Elias (LW)</td>\n",
       "      <td>New Jersey Devils</td>\n",
       "      <td>82</td>\n",
       "      <td>40</td>\n",
       "      <td>56</td>\n",
       "      <td>96</td>\n",
       "      <td>1.17</td>\n",
       "      <td>51</td>\n",
       "      <td>45</td>\n",
       "      <td>https://www.eliteprospects.com/player/8698/pat...</td>\n",
       "      <td>2000-01</td>\n",
       "      <td>nhl</td>\n",
       "      <td>Patrik Elias</td>\n",
       "      <td>LW</td>\n",
       "      <td>FW</td>\n",
       "      <td>0</td>\n",
       "      <td>0.0</td>\n",
       "      <td>0</td>\n",
       "    </tr>\n",
       "    <tr>\n",
       "      <th>3</th>\n",
       "      <td>Alexei Kovalev (RW)</td>\n",
       "      <td>Pittsburgh Penguins</td>\n",
       "      <td>79</td>\n",
       "      <td>44</td>\n",
       "      <td>51</td>\n",
       "      <td>95</td>\n",
       "      <td>1.2</td>\n",
       "      <td>96</td>\n",
       "      <td>12</td>\n",
       "      <td>https://www.eliteprospects.com/player/8670/ale...</td>\n",
       "      <td>2000-01</td>\n",
       "      <td>nhl</td>\n",
       "      <td>Alexei Kovalev</td>\n",
       "      <td>RW</td>\n",
       "      <td>FW</td>\n",
       "      <td>0</td>\n",
       "      <td>0.0</td>\n",
       "      <td>0</td>\n",
       "    </tr>\n",
       "    <tr>\n",
       "      <th>4</th>\n",
       "      <td>Jason Allison (C)</td>\n",
       "      <td>Boston Bruins</td>\n",
       "      <td>82</td>\n",
       "      <td>36</td>\n",
       "      <td>59</td>\n",
       "      <td>95</td>\n",
       "      <td>1.16</td>\n",
       "      <td>85</td>\n",
       "      <td>-8</td>\n",
       "      <td>https://www.eliteprospects.com/player/9064/jas...</td>\n",
       "      <td>2000-01</td>\n",
       "      <td>nhl</td>\n",
       "      <td>Jason Allison</td>\n",
       "      <td>C</td>\n",
       "      <td>FW</td>\n",
       "      <td>0</td>\n",
       "      <td>0.0</td>\n",
       "      <td>0</td>\n",
       "    </tr>\n",
       "  </tbody>\n",
       "</table>\n",
       "</div>"
      ],
      "text/plain": [
       "                player                 team  gp   g   a   tp   ppg pim +/-  \\\n",
       "0    Jaromír Jágr (RW)  Pittsburgh Penguins  81  52  69  121  1.49  42  19   \n",
       "1        Joe Sakic (C)   Colorado Avalanche  82  54  64  118  1.44  30  45   \n",
       "2    Patrik Elias (LW)    New Jersey Devils  82  40  56   96  1.17  51  45   \n",
       "3  Alexei Kovalev (RW)  Pittsburgh Penguins  79  44  51   95   1.2  96  12   \n",
       "4    Jason Allison (C)        Boston Bruins  82  36  59   95  1.16  85  -8   \n",
       "\n",
       "                                                link   season league  \\\n",
       "0  https://www.eliteprospects.com/player/8627/jar...  2000-01    nhl   \n",
       "1  https://www.eliteprospects.com/player/8862/joe...  2000-01    nhl   \n",
       "2  https://www.eliteprospects.com/player/8698/pat...  2000-01    nhl   \n",
       "3  https://www.eliteprospects.com/player/8670/ale...  2000-01    nhl   \n",
       "4  https://www.eliteprospects.com/player/9064/jas...  2000-01    nhl   \n",
       "\n",
       "       playername position fw_def Name  Games Missed  Concussion  \n",
       "0    Jaromír Jágr       RW     FW    0           0.0           0  \n",
       "1       Joe Sakic        C     FW    0           0.0           0  \n",
       "2    Patrik Elias       LW     FW    0           0.0           0  \n",
       "3  Alexei Kovalev       RW     FW    0           0.0           0  \n",
       "4   Jason Allison        C     FW    0           0.0           0  "
      ]
     },
     "execution_count": 4,
     "metadata": {},
     "output_type": "execute_result"
    }
   ],
   "source": [
    "df.head()"
   ]
  },
  {
   "cell_type": "code",
   "execution_count": 5,
   "id": "3b1007a7",
   "metadata": {},
   "outputs": [
    {
     "data": {
      "text/plain": [
       "array(['2000-01', '2001-02', '2002-03', '2003-04', '2004-05', '2005-06',\n",
       "       '2006-07', '2007-08', '2008-09', '2009-10', '2010-11', '2011-12',\n",
       "       '2012-13', '2013-14', '2014-15', '2015-16', '2016-17', '2017-18',\n",
       "       '2018-19', '2019-20', '2020-21'], dtype=object)"
      ]
     },
     "execution_count": 5,
     "metadata": {},
     "output_type": "execute_result"
    }
   ],
   "source": [
    "df[\"season\"].unique()\n"
   ]
  },
  {
   "cell_type": "code",
   "execution_count": 6,
   "id": "e4edd92f",
   "metadata": {},
   "outputs": [
    {
     "data": {
      "text/html": [
       "<div>\n",
       "<style scoped>\n",
       "    .dataframe tbody tr th:only-of-type {\n",
       "        vertical-align: middle;\n",
       "    }\n",
       "\n",
       "    .dataframe tbody tr th {\n",
       "        vertical-align: top;\n",
       "    }\n",
       "\n",
       "    .dataframe thead th {\n",
       "        text-align: right;\n",
       "    }\n",
       "</style>\n",
       "<table border=\"1\" class=\"dataframe\">\n",
       "  <thead>\n",
       "    <tr style=\"text-align: right;\">\n",
       "      <th></th>\n",
       "      <th>player</th>\n",
       "      <th>team</th>\n",
       "      <th>gp</th>\n",
       "      <th>g</th>\n",
       "      <th>a</th>\n",
       "      <th>tp</th>\n",
       "      <th>ppg</th>\n",
       "      <th>pim</th>\n",
       "      <th>+/-</th>\n",
       "      <th>link</th>\n",
       "      <th>season</th>\n",
       "      <th>league</th>\n",
       "      <th>playername</th>\n",
       "      <th>position</th>\n",
       "      <th>fw_def</th>\n",
       "      <th>Name</th>\n",
       "      <th>Games Missed</th>\n",
       "      <th>Concussion</th>\n",
       "    </tr>\n",
       "  </thead>\n",
       "  <tbody>\n",
       "    <tr>\n",
       "      <th>0</th>\n",
       "      <td>Jaromír Jágr (RW)</td>\n",
       "      <td>Pittsburgh Penguins</td>\n",
       "      <td>81</td>\n",
       "      <td>52</td>\n",
       "      <td>69</td>\n",
       "      <td>121</td>\n",
       "      <td>1.49</td>\n",
       "      <td>42</td>\n",
       "      <td>19</td>\n",
       "      <td>https://www.eliteprospects.com/player/8627/jar...</td>\n",
       "      <td>2000-01</td>\n",
       "      <td>nhl</td>\n",
       "      <td>Jaromír Jágr</td>\n",
       "      <td>RW</td>\n",
       "      <td>FW</td>\n",
       "      <td>0</td>\n",
       "      <td>0.0</td>\n",
       "      <td>0</td>\n",
       "    </tr>\n",
       "    <tr>\n",
       "      <th>1</th>\n",
       "      <td>Joe Sakic (C)</td>\n",
       "      <td>Colorado Avalanche</td>\n",
       "      <td>82</td>\n",
       "      <td>54</td>\n",
       "      <td>64</td>\n",
       "      <td>118</td>\n",
       "      <td>1.44</td>\n",
       "      <td>30</td>\n",
       "      <td>45</td>\n",
       "      <td>https://www.eliteprospects.com/player/8862/joe...</td>\n",
       "      <td>2000-01</td>\n",
       "      <td>nhl</td>\n",
       "      <td>Joe Sakic</td>\n",
       "      <td>C</td>\n",
       "      <td>FW</td>\n",
       "      <td>0</td>\n",
       "      <td>0.0</td>\n",
       "      <td>0</td>\n",
       "    </tr>\n",
       "    <tr>\n",
       "      <th>2</th>\n",
       "      <td>Patrik Elias (LW)</td>\n",
       "      <td>New Jersey Devils</td>\n",
       "      <td>82</td>\n",
       "      <td>40</td>\n",
       "      <td>56</td>\n",
       "      <td>96</td>\n",
       "      <td>1.17</td>\n",
       "      <td>51</td>\n",
       "      <td>45</td>\n",
       "      <td>https://www.eliteprospects.com/player/8698/pat...</td>\n",
       "      <td>2000-01</td>\n",
       "      <td>nhl</td>\n",
       "      <td>Patrik Elias</td>\n",
       "      <td>LW</td>\n",
       "      <td>FW</td>\n",
       "      <td>0</td>\n",
       "      <td>0.0</td>\n",
       "      <td>0</td>\n",
       "    </tr>\n",
       "    <tr>\n",
       "      <th>3</th>\n",
       "      <td>Alexei Kovalev (RW)</td>\n",
       "      <td>Pittsburgh Penguins</td>\n",
       "      <td>79</td>\n",
       "      <td>44</td>\n",
       "      <td>51</td>\n",
       "      <td>95</td>\n",
       "      <td>1.2</td>\n",
       "      <td>96</td>\n",
       "      <td>12</td>\n",
       "      <td>https://www.eliteprospects.com/player/8670/ale...</td>\n",
       "      <td>2000-01</td>\n",
       "      <td>nhl</td>\n",
       "      <td>Alexei Kovalev</td>\n",
       "      <td>RW</td>\n",
       "      <td>FW</td>\n",
       "      <td>0</td>\n",
       "      <td>0.0</td>\n",
       "      <td>0</td>\n",
       "    </tr>\n",
       "    <tr>\n",
       "      <th>4</th>\n",
       "      <td>Jason Allison (C)</td>\n",
       "      <td>Boston Bruins</td>\n",
       "      <td>82</td>\n",
       "      <td>36</td>\n",
       "      <td>59</td>\n",
       "      <td>95</td>\n",
       "      <td>1.16</td>\n",
       "      <td>85</td>\n",
       "      <td>-8</td>\n",
       "      <td>https://www.eliteprospects.com/player/9064/jas...</td>\n",
       "      <td>2000-01</td>\n",
       "      <td>nhl</td>\n",
       "      <td>Jason Allison</td>\n",
       "      <td>C</td>\n",
       "      <td>FW</td>\n",
       "      <td>0</td>\n",
       "      <td>0.0</td>\n",
       "      <td>0</td>\n",
       "    </tr>\n",
       "  </tbody>\n",
       "</table>\n",
       "</div>"
      ],
      "text/plain": [
       "                player                 team  gp   g   a   tp   ppg pim +/-  \\\n",
       "0    Jaromír Jágr (RW)  Pittsburgh Penguins  81  52  69  121  1.49  42  19   \n",
       "1        Joe Sakic (C)   Colorado Avalanche  82  54  64  118  1.44  30  45   \n",
       "2    Patrik Elias (LW)    New Jersey Devils  82  40  56   96  1.17  51  45   \n",
       "3  Alexei Kovalev (RW)  Pittsburgh Penguins  79  44  51   95   1.2  96  12   \n",
       "4    Jason Allison (C)        Boston Bruins  82  36  59   95  1.16  85  -8   \n",
       "\n",
       "                                                link   season league  \\\n",
       "0  https://www.eliteprospects.com/player/8627/jar...  2000-01    nhl   \n",
       "1  https://www.eliteprospects.com/player/8862/joe...  2000-01    nhl   \n",
       "2  https://www.eliteprospects.com/player/8698/pat...  2000-01    nhl   \n",
       "3  https://www.eliteprospects.com/player/8670/ale...  2000-01    nhl   \n",
       "4  https://www.eliteprospects.com/player/9064/jas...  2000-01    nhl   \n",
       "\n",
       "       playername position fw_def Name  Games Missed  Concussion  \n",
       "0    Jaromír Jágr       RW     FW    0           0.0           0  \n",
       "1       Joe Sakic        C     FW    0           0.0           0  \n",
       "2    Patrik Elias       LW     FW    0           0.0           0  \n",
       "3  Alexei Kovalev       RW     FW    0           0.0           0  \n",
       "4   Jason Allison        C     FW    0           0.0           0  "
      ]
     },
     "execution_count": 6,
     "metadata": {},
     "output_type": "execute_result"
    }
   ],
   "source": [
    "df.head()"
   ]
  },
  {
   "cell_type": "code",
   "execution_count": 7,
   "id": "7407713f",
   "metadata": {},
   "outputs": [
    {
     "data": {
      "text/plain": [
       "player          0\n",
       "team            0\n",
       "gp              0\n",
       "g               0\n",
       "a               0\n",
       "tp              0\n",
       "ppg             0\n",
       "pim             0\n",
       "+/-             0\n",
       "link            0\n",
       "season          0\n",
       "league          0\n",
       "playername      0\n",
       "position        0\n",
       "fw_def          0\n",
       "Name            0\n",
       "Games Missed    0\n",
       "Concussion      0\n",
       "dtype: int64"
      ]
     },
     "execution_count": 7,
     "metadata": {},
     "output_type": "execute_result"
    }
   ],
   "source": [
    "# look for missing values\n",
    "df.isnull().sum()"
   ]
  },
  {
   "cell_type": "code",
   "execution_count": 8,
   "id": "9bf328b6",
   "metadata": {},
   "outputs": [
    {
     "data": {
      "text/html": [
       "<div>\n",
       "<style scoped>\n",
       "    .dataframe tbody tr th:only-of-type {\n",
       "        vertical-align: middle;\n",
       "    }\n",
       "\n",
       "    .dataframe tbody tr th {\n",
       "        vertical-align: top;\n",
       "    }\n",
       "\n",
       "    .dataframe thead th {\n",
       "        text-align: right;\n",
       "    }\n",
       "</style>\n",
       "<table border=\"1\" class=\"dataframe\">\n",
       "  <thead>\n",
       "    <tr style=\"text-align: right;\">\n",
       "      <th></th>\n",
       "      <th>player</th>\n",
       "      <th>team</th>\n",
       "      <th>gp</th>\n",
       "      <th>g</th>\n",
       "      <th>a</th>\n",
       "      <th>tp</th>\n",
       "      <th>ppg</th>\n",
       "      <th>pim</th>\n",
       "      <th>+/-</th>\n",
       "      <th>link</th>\n",
       "      <th>season</th>\n",
       "      <th>league</th>\n",
       "      <th>playername</th>\n",
       "      <th>position</th>\n",
       "      <th>fw_def</th>\n",
       "      <th>Name</th>\n",
       "      <th>Games Missed</th>\n",
       "      <th>Concussion</th>\n",
       "    </tr>\n",
       "  </thead>\n",
       "  <tbody>\n",
       "  </tbody>\n",
       "</table>\n",
       "</div>"
      ],
      "text/plain": [
       "Empty DataFrame\n",
       "Columns: [player, team, gp, g, a, tp, ppg, pim, +/-, link, season, league, playername, position, fw_def, Name, Games Missed, Concussion]\n",
       "Index: []"
      ]
     },
     "execution_count": 8,
     "metadata": {},
     "output_type": "execute_result"
    }
   ],
   "source": [
    "# remove duplicate values - there are not duplicate values to remove\n",
    "duplicates = df[df.duplicated()]\n",
    "duplicates"
   ]
  },
  {
   "cell_type": "code",
   "execution_count": 9,
   "id": "d599dff3",
   "metadata": {},
   "outputs": [],
   "source": [
    "# check for outliers using a box plot\n",
    "# df.boxplot()\n",
    "# plt.show()"
   ]
  },
  {
   "cell_type": "code",
   "execution_count": 10,
   "id": "cd374f98",
   "metadata": {},
   "outputs": [],
   "source": [
    "# df_numeric = df.select_dtypes(include=[np.number])\n",
    "# z = np.abs(stats.zscore(df_numeric))\n",
    "# print(df[(z > 3).any(axis=1)])"
   ]
  },
  {
   "cell_type": "code",
   "execution_count": 11,
   "id": "899de52f",
   "metadata": {},
   "outputs": [],
   "source": [
    "# rename columns\n",
    "df.rename(columns={'gp': 'games_played', 'g': 'goals', 'a': 'assists',\n",
    "                   'tp': 'total_points', 'ppg': 'points_per_game', 'pim': 'penalty_minutes',\n",
    "                  '+/-': 'team_goal_differential', 'playername': 'player_name', 'fw_def': 'forward_defense',\n",
    "                  'Name': 'name', 'Games Missed': 'games_missed', 'Concussion': 'concussion'}, inplace=True)\n"
   ]
  },
  {
   "cell_type": "code",
   "execution_count": 12,
   "id": "37ee2c9d",
   "metadata": {},
   "outputs": [
    {
     "data": {
      "text/plain": [
       "Index(['player', 'team', 'games_played', 'goals', 'assists', 'total_points',\n",
       "       'points_per_game', 'penalty_minutes', 'team_goal_differential', 'link',\n",
       "       'season', 'league', 'player_name', 'position', 'forward_defense',\n",
       "       'name', 'games_missed', 'concussion'],\n",
       "      dtype='object')"
      ]
     },
     "execution_count": 12,
     "metadata": {},
     "output_type": "execute_result"
    }
   ],
   "source": [
    "# view updated column names\n",
    "df.columns"
   ]
  },
  {
   "cell_type": "code",
   "execution_count": 13,
   "id": "5af239ee",
   "metadata": {},
   "outputs": [],
   "source": [
    "# drop unnecessary columns\n",
    "df.drop(columns=['player', 'link', 'name', 'season', 'forward_defense', 'games_missed'], axis=1, inplace=True)"
   ]
  },
  {
   "cell_type": "code",
   "execution_count": 14,
   "id": "f87e6904",
   "metadata": {},
   "outputs": [
    {
     "data": {
      "text/html": [
       "<div>\n",
       "<style scoped>\n",
       "    .dataframe tbody tr th:only-of-type {\n",
       "        vertical-align: middle;\n",
       "    }\n",
       "\n",
       "    .dataframe tbody tr th {\n",
       "        vertical-align: top;\n",
       "    }\n",
       "\n",
       "    .dataframe thead th {\n",
       "        text-align: right;\n",
       "    }\n",
       "</style>\n",
       "<table border=\"1\" class=\"dataframe\">\n",
       "  <thead>\n",
       "    <tr style=\"text-align: right;\">\n",
       "      <th></th>\n",
       "      <th>team</th>\n",
       "      <th>games_played</th>\n",
       "      <th>goals</th>\n",
       "      <th>assists</th>\n",
       "      <th>total_points</th>\n",
       "      <th>points_per_game</th>\n",
       "      <th>penalty_minutes</th>\n",
       "      <th>team_goal_differential</th>\n",
       "      <th>league</th>\n",
       "      <th>player_name</th>\n",
       "      <th>position</th>\n",
       "      <th>concussion</th>\n",
       "    </tr>\n",
       "  </thead>\n",
       "  <tbody>\n",
       "    <tr>\n",
       "      <th>0</th>\n",
       "      <td>Pittsburgh Penguins</td>\n",
       "      <td>81</td>\n",
       "      <td>52</td>\n",
       "      <td>69</td>\n",
       "      <td>121</td>\n",
       "      <td>1.49</td>\n",
       "      <td>42</td>\n",
       "      <td>19</td>\n",
       "      <td>nhl</td>\n",
       "      <td>Jaromír Jágr</td>\n",
       "      <td>RW</td>\n",
       "      <td>0</td>\n",
       "    </tr>\n",
       "    <tr>\n",
       "      <th>1</th>\n",
       "      <td>Colorado Avalanche</td>\n",
       "      <td>82</td>\n",
       "      <td>54</td>\n",
       "      <td>64</td>\n",
       "      <td>118</td>\n",
       "      <td>1.44</td>\n",
       "      <td>30</td>\n",
       "      <td>45</td>\n",
       "      <td>nhl</td>\n",
       "      <td>Joe Sakic</td>\n",
       "      <td>C</td>\n",
       "      <td>0</td>\n",
       "    </tr>\n",
       "    <tr>\n",
       "      <th>2</th>\n",
       "      <td>New Jersey Devils</td>\n",
       "      <td>82</td>\n",
       "      <td>40</td>\n",
       "      <td>56</td>\n",
       "      <td>96</td>\n",
       "      <td>1.17</td>\n",
       "      <td>51</td>\n",
       "      <td>45</td>\n",
       "      <td>nhl</td>\n",
       "      <td>Patrik Elias</td>\n",
       "      <td>LW</td>\n",
       "      <td>0</td>\n",
       "    </tr>\n",
       "    <tr>\n",
       "      <th>3</th>\n",
       "      <td>Pittsburgh Penguins</td>\n",
       "      <td>79</td>\n",
       "      <td>44</td>\n",
       "      <td>51</td>\n",
       "      <td>95</td>\n",
       "      <td>1.2</td>\n",
       "      <td>96</td>\n",
       "      <td>12</td>\n",
       "      <td>nhl</td>\n",
       "      <td>Alexei Kovalev</td>\n",
       "      <td>RW</td>\n",
       "      <td>0</td>\n",
       "    </tr>\n",
       "    <tr>\n",
       "      <th>4</th>\n",
       "      <td>Boston Bruins</td>\n",
       "      <td>82</td>\n",
       "      <td>36</td>\n",
       "      <td>59</td>\n",
       "      <td>95</td>\n",
       "      <td>1.16</td>\n",
       "      <td>85</td>\n",
       "      <td>-8</td>\n",
       "      <td>nhl</td>\n",
       "      <td>Jason Allison</td>\n",
       "      <td>C</td>\n",
       "      <td>0</td>\n",
       "    </tr>\n",
       "  </tbody>\n",
       "</table>\n",
       "</div>"
      ],
      "text/plain": [
       "                  team  games_played  goals  assists  total_points  \\\n",
       "0  Pittsburgh Penguins            81     52       69           121   \n",
       "1   Colorado Avalanche            82     54       64           118   \n",
       "2    New Jersey Devils            82     40       56            96   \n",
       "3  Pittsburgh Penguins            79     44       51            95   \n",
       "4        Boston Bruins            82     36       59            95   \n",
       "\n",
       "  points_per_game penalty_minutes team_goal_differential league  \\\n",
       "0            1.49              42                     19    nhl   \n",
       "1            1.44              30                     45    nhl   \n",
       "2            1.17              51                     45    nhl   \n",
       "3             1.2              96                     12    nhl   \n",
       "4            1.16              85                     -8    nhl   \n",
       "\n",
       "      player_name position  concussion  \n",
       "0    Jaromír Jágr       RW           0  \n",
       "1       Joe Sakic        C           0  \n",
       "2    Patrik Elias       LW           0  \n",
       "3  Alexei Kovalev       RW           0  \n",
       "4   Jason Allison        C           0  "
      ]
     },
     "execution_count": 14,
     "metadata": {},
     "output_type": "execute_result"
    }
   ],
   "source": [
    "df.head()"
   ]
  },
  {
   "cell_type": "code",
   "execution_count": 15,
   "id": "137f08d5",
   "metadata": {},
   "outputs": [
    {
     "data": {
      "text/plain": [
       "'nhl'"
      ]
     },
     "execution_count": 15,
     "metadata": {},
     "output_type": "execute_result"
    }
   ],
   "source": [
    "# view unique valaues in 'league' column. \n",
    "df['league'].unique().sum()"
   ]
  },
  {
   "cell_type": "code",
   "execution_count": 16,
   "id": "92caaca6",
   "metadata": {},
   "outputs": [],
   "source": [
    "# drop player_name and league from the dataframe. The column, 'player_name' is not needed and 'league' has only one value\n",
    "df.drop(columns=['player_name', 'league'], axis=1, inplace=True)"
   ]
  },
  {
   "cell_type": "code",
   "execution_count": 17,
   "id": "3bc6fada",
   "metadata": {},
   "outputs": [
    {
     "data": {
      "text/plain": [
       "(18692, 10)"
      ]
     },
     "execution_count": 17,
     "metadata": {},
     "output_type": "execute_result"
    }
   ],
   "source": [
    "df.shape"
   ]
  },
  {
   "cell_type": "code",
   "execution_count": 18,
   "id": "5b108cee",
   "metadata": {},
   "outputs": [
    {
     "data": {
      "text/html": [
       "<div>\n",
       "<style scoped>\n",
       "    .dataframe tbody tr th:only-of-type {\n",
       "        vertical-align: middle;\n",
       "    }\n",
       "\n",
       "    .dataframe tbody tr th {\n",
       "        vertical-align: top;\n",
       "    }\n",
       "\n",
       "    .dataframe thead th {\n",
       "        text-align: right;\n",
       "    }\n",
       "</style>\n",
       "<table border=\"1\" class=\"dataframe\">\n",
       "  <thead>\n",
       "    <tr style=\"text-align: right;\">\n",
       "      <th></th>\n",
       "      <th>games_played</th>\n",
       "      <th>goals</th>\n",
       "      <th>assists</th>\n",
       "      <th>total_points</th>\n",
       "      <th>concussion</th>\n",
       "    </tr>\n",
       "  </thead>\n",
       "  <tbody>\n",
       "    <tr>\n",
       "      <th>count</th>\n",
       "      <td>18692.000000</td>\n",
       "      <td>18692.000000</td>\n",
       "      <td>18692.000000</td>\n",
       "      <td>18692.000000</td>\n",
       "      <td>18692.000000</td>\n",
       "    </tr>\n",
       "    <tr>\n",
       "      <th>mean</th>\n",
       "      <td>47.958485</td>\n",
       "      <td>7.373368</td>\n",
       "      <td>12.538680</td>\n",
       "      <td>19.912155</td>\n",
       "      <td>0.033169</td>\n",
       "    </tr>\n",
       "    <tr>\n",
       "      <th>std</th>\n",
       "      <td>28.509130</td>\n",
       "      <td>8.777233</td>\n",
       "      <td>12.974665</td>\n",
       "      <td>20.598373</td>\n",
       "      <td>0.179083</td>\n",
       "    </tr>\n",
       "    <tr>\n",
       "      <th>min</th>\n",
       "      <td>0.000000</td>\n",
       "      <td>0.000000</td>\n",
       "      <td>0.000000</td>\n",
       "      <td>0.000000</td>\n",
       "      <td>0.000000</td>\n",
       "    </tr>\n",
       "    <tr>\n",
       "      <th>25%</th>\n",
       "      <td>20.000000</td>\n",
       "      <td>1.000000</td>\n",
       "      <td>2.000000</td>\n",
       "      <td>3.000000</td>\n",
       "      <td>0.000000</td>\n",
       "    </tr>\n",
       "    <tr>\n",
       "      <th>50%</th>\n",
       "      <td>55.000000</td>\n",
       "      <td>4.000000</td>\n",
       "      <td>9.000000</td>\n",
       "      <td>13.000000</td>\n",
       "      <td>0.000000</td>\n",
       "    </tr>\n",
       "    <tr>\n",
       "      <th>75%</th>\n",
       "      <td>75.000000</td>\n",
       "      <td>11.000000</td>\n",
       "      <td>19.000000</td>\n",
       "      <td>31.000000</td>\n",
       "      <td>0.000000</td>\n",
       "    </tr>\n",
       "    <tr>\n",
       "      <th>max</th>\n",
       "      <td>85.000000</td>\n",
       "      <td>65.000000</td>\n",
       "      <td>96.000000</td>\n",
       "      <td>128.000000</td>\n",
       "      <td>1.000000</td>\n",
       "    </tr>\n",
       "  </tbody>\n",
       "</table>\n",
       "</div>"
      ],
      "text/plain": [
       "       games_played         goals       assists  total_points    concussion\n",
       "count  18692.000000  18692.000000  18692.000000  18692.000000  18692.000000\n",
       "mean      47.958485      7.373368     12.538680     19.912155      0.033169\n",
       "std       28.509130      8.777233     12.974665     20.598373      0.179083\n",
       "min        0.000000      0.000000      0.000000      0.000000      0.000000\n",
       "25%       20.000000      1.000000      2.000000      3.000000      0.000000\n",
       "50%       55.000000      4.000000      9.000000     13.000000      0.000000\n",
       "75%       75.000000     11.000000     19.000000     31.000000      0.000000\n",
       "max       85.000000     65.000000     96.000000    128.000000      1.000000"
      ]
     },
     "execution_count": 18,
     "metadata": {},
     "output_type": "execute_result"
    }
   ],
   "source": [
    "df.describe()"
   ]
  },
  {
   "cell_type": "code",
   "execution_count": 19,
   "id": "d4d025d9",
   "metadata": {},
   "outputs": [
    {
     "data": {
      "text/plain": [
       "array(['RW', 'C', 'LW', 'D', 'LW/RW', 'RW/LW', 'W/C', 'C/LW', 'C/RW',\n",
       "       'RW/C', 'LW/C', 'D/RW', 'D/LW', 'D/C', 'RW/D', 'C/W', 'C/D', 'F',\n",
       "       'LW/D', 'D/W'], dtype=object)"
      ]
     },
     "execution_count": 19,
     "metadata": {},
     "output_type": "execute_result"
    }
   ],
   "source": [
    "df['position'].unique()"
   ]
  },
  {
   "cell_type": "code",
   "execution_count": 20,
   "id": "e030d88e",
   "metadata": {},
   "outputs": [
    {
     "data": {
      "text/plain": [
       "team                      object\n",
       "games_played               int64\n",
       "goals                      int64\n",
       "assists                    int64\n",
       "total_points               int64\n",
       "points_per_game           object\n",
       "penalty_minutes           object\n",
       "team_goal_differential    object\n",
       "position                  object\n",
       "concussion                 int64\n",
       "dtype: object"
      ]
     },
     "execution_count": 20,
     "metadata": {},
     "output_type": "execute_result"
    }
   ],
   "source": [
    "# view df data types\n",
    "df.dtypes"
   ]
  },
  {
   "cell_type": "code",
   "execution_count": 21,
   "id": "abc3f011",
   "metadata": {},
   "outputs": [
    {
     "data": {
      "text/html": [
       "<div>\n",
       "<style scoped>\n",
       "    .dataframe tbody tr th:only-of-type {\n",
       "        vertical-align: middle;\n",
       "    }\n",
       "\n",
       "    .dataframe tbody tr th {\n",
       "        vertical-align: top;\n",
       "    }\n",
       "\n",
       "    .dataframe thead th {\n",
       "        text-align: right;\n",
       "    }\n",
       "</style>\n",
       "<table border=\"1\" class=\"dataframe\">\n",
       "  <thead>\n",
       "    <tr style=\"text-align: right;\">\n",
       "      <th></th>\n",
       "      <th>team</th>\n",
       "      <th>games_played</th>\n",
       "      <th>goals</th>\n",
       "      <th>assists</th>\n",
       "      <th>total_points</th>\n",
       "      <th>points_per_game</th>\n",
       "      <th>penalty_minutes</th>\n",
       "      <th>team_goal_differential</th>\n",
       "      <th>position</th>\n",
       "      <th>concussion</th>\n",
       "    </tr>\n",
       "  </thead>\n",
       "  <tbody>\n",
       "    <tr>\n",
       "      <th>0</th>\n",
       "      <td>Pittsburgh Penguins</td>\n",
       "      <td>81</td>\n",
       "      <td>52</td>\n",
       "      <td>69</td>\n",
       "      <td>121</td>\n",
       "      <td>1.49</td>\n",
       "      <td>42</td>\n",
       "      <td>19</td>\n",
       "      <td>RW</td>\n",
       "      <td>0</td>\n",
       "    </tr>\n",
       "    <tr>\n",
       "      <th>1</th>\n",
       "      <td>Colorado Avalanche</td>\n",
       "      <td>82</td>\n",
       "      <td>54</td>\n",
       "      <td>64</td>\n",
       "      <td>118</td>\n",
       "      <td>1.44</td>\n",
       "      <td>30</td>\n",
       "      <td>45</td>\n",
       "      <td>C</td>\n",
       "      <td>0</td>\n",
       "    </tr>\n",
       "  </tbody>\n",
       "</table>\n",
       "</div>"
      ],
      "text/plain": [
       "                  team  games_played  goals  assists  total_points  \\\n",
       "0  Pittsburgh Penguins            81     52       69           121   \n",
       "1   Colorado Avalanche            82     54       64           118   \n",
       "\n",
       "  points_per_game penalty_minutes team_goal_differential position  concussion  \n",
       "0            1.49              42                     19       RW           0  \n",
       "1            1.44              30                     45        C           0  "
      ]
     },
     "execution_count": 21,
     "metadata": {},
     "output_type": "execute_result"
    }
   ],
   "source": [
    "df.head(2)"
   ]
  },
  {
   "cell_type": "code",
   "execution_count": 29,
   "id": "63a287ca",
   "metadata": {},
   "outputs": [
    {
     "ename": "ValueError",
     "evalue": "could not convert string to float: '-'",
     "output_type": "error",
     "traceback": [
      "\u001b[1;31m---------------------------------------------------------------------------\u001b[0m",
      "\u001b[1;31mValueError\u001b[0m                                Traceback (most recent call last)",
      "Input \u001b[1;32mIn [29]\u001b[0m, in \u001b[0;36m<cell line: 1>\u001b[1;34m()\u001b[0m\n\u001b[1;32m----> 1\u001b[0m df[\u001b[38;5;124m'\u001b[39m\u001b[38;5;124mpoints_per_game\u001b[39m\u001b[38;5;124m'\u001b[39m] \u001b[38;5;241m=\u001b[39m \u001b[43mdf\u001b[49m\u001b[43m[\u001b[49m\u001b[38;5;124;43m'\u001b[39;49m\u001b[38;5;124;43mpoints_per_game\u001b[39;49m\u001b[38;5;124;43m'\u001b[39;49m\u001b[43m]\u001b[49m\u001b[38;5;241;43m.\u001b[39;49m\u001b[43mastype\u001b[49m\u001b[43m(\u001b[49m\u001b[38;5;28;43mfloat\u001b[39;49m\u001b[43m)\u001b[49m\n",
      "File \u001b[1;32m~\\anaconda3\\lib\\site-packages\\pandas\\core\\generic.py:5912\u001b[0m, in \u001b[0;36mNDFrame.astype\u001b[1;34m(self, dtype, copy, errors)\u001b[0m\n\u001b[0;32m   5905\u001b[0m     results \u001b[38;5;241m=\u001b[39m [\n\u001b[0;32m   5906\u001b[0m         \u001b[38;5;28mself\u001b[39m\u001b[38;5;241m.\u001b[39miloc[:, i]\u001b[38;5;241m.\u001b[39mastype(dtype, copy\u001b[38;5;241m=\u001b[39mcopy)\n\u001b[0;32m   5907\u001b[0m         \u001b[38;5;28;01mfor\u001b[39;00m i \u001b[38;5;129;01min\u001b[39;00m \u001b[38;5;28mrange\u001b[39m(\u001b[38;5;28mlen\u001b[39m(\u001b[38;5;28mself\u001b[39m\u001b[38;5;241m.\u001b[39mcolumns))\n\u001b[0;32m   5908\u001b[0m     ]\n\u001b[0;32m   5910\u001b[0m \u001b[38;5;28;01melse\u001b[39;00m:\n\u001b[0;32m   5911\u001b[0m     \u001b[38;5;66;03m# else, only a single dtype is given\u001b[39;00m\n\u001b[1;32m-> 5912\u001b[0m     new_data \u001b[38;5;241m=\u001b[39m \u001b[38;5;28;43mself\u001b[39;49m\u001b[38;5;241;43m.\u001b[39;49m\u001b[43m_mgr\u001b[49m\u001b[38;5;241;43m.\u001b[39;49m\u001b[43mastype\u001b[49m\u001b[43m(\u001b[49m\u001b[43mdtype\u001b[49m\u001b[38;5;241;43m=\u001b[39;49m\u001b[43mdtype\u001b[49m\u001b[43m,\u001b[49m\u001b[43m \u001b[49m\u001b[43mcopy\u001b[49m\u001b[38;5;241;43m=\u001b[39;49m\u001b[43mcopy\u001b[49m\u001b[43m,\u001b[49m\u001b[43m \u001b[49m\u001b[43merrors\u001b[49m\u001b[38;5;241;43m=\u001b[39;49m\u001b[43merrors\u001b[49m\u001b[43m)\u001b[49m\n\u001b[0;32m   5913\u001b[0m     \u001b[38;5;28;01mreturn\u001b[39;00m \u001b[38;5;28mself\u001b[39m\u001b[38;5;241m.\u001b[39m_constructor(new_data)\u001b[38;5;241m.\u001b[39m__finalize__(\u001b[38;5;28mself\u001b[39m, method\u001b[38;5;241m=\u001b[39m\u001b[38;5;124m\"\u001b[39m\u001b[38;5;124mastype\u001b[39m\u001b[38;5;124m\"\u001b[39m)\n\u001b[0;32m   5915\u001b[0m \u001b[38;5;66;03m# GH 33113: handle empty frame or series\u001b[39;00m\n",
      "File \u001b[1;32m~\\anaconda3\\lib\\site-packages\\pandas\\core\\internals\\managers.py:419\u001b[0m, in \u001b[0;36mBaseBlockManager.astype\u001b[1;34m(self, dtype, copy, errors)\u001b[0m\n\u001b[0;32m    418\u001b[0m \u001b[38;5;28;01mdef\u001b[39;00m \u001b[38;5;21mastype\u001b[39m(\u001b[38;5;28mself\u001b[39m: T, dtype, copy: \u001b[38;5;28mbool\u001b[39m \u001b[38;5;241m=\u001b[39m \u001b[38;5;28;01mFalse\u001b[39;00m, errors: \u001b[38;5;28mstr\u001b[39m \u001b[38;5;241m=\u001b[39m \u001b[38;5;124m\"\u001b[39m\u001b[38;5;124mraise\u001b[39m\u001b[38;5;124m\"\u001b[39m) \u001b[38;5;241m-\u001b[39m\u001b[38;5;241m>\u001b[39m T:\n\u001b[1;32m--> 419\u001b[0m     \u001b[38;5;28;01mreturn\u001b[39;00m \u001b[38;5;28;43mself\u001b[39;49m\u001b[38;5;241;43m.\u001b[39;49m\u001b[43mapply\u001b[49m\u001b[43m(\u001b[49m\u001b[38;5;124;43m\"\u001b[39;49m\u001b[38;5;124;43mastype\u001b[39;49m\u001b[38;5;124;43m\"\u001b[39;49m\u001b[43m,\u001b[49m\u001b[43m \u001b[49m\u001b[43mdtype\u001b[49m\u001b[38;5;241;43m=\u001b[39;49m\u001b[43mdtype\u001b[49m\u001b[43m,\u001b[49m\u001b[43m \u001b[49m\u001b[43mcopy\u001b[49m\u001b[38;5;241;43m=\u001b[39;49m\u001b[43mcopy\u001b[49m\u001b[43m,\u001b[49m\u001b[43m \u001b[49m\u001b[43merrors\u001b[49m\u001b[38;5;241;43m=\u001b[39;49m\u001b[43merrors\u001b[49m\u001b[43m)\u001b[49m\n",
      "File \u001b[1;32m~\\anaconda3\\lib\\site-packages\\pandas\\core\\internals\\managers.py:304\u001b[0m, in \u001b[0;36mBaseBlockManager.apply\u001b[1;34m(self, f, align_keys, ignore_failures, **kwargs)\u001b[0m\n\u001b[0;32m    302\u001b[0m         applied \u001b[38;5;241m=\u001b[39m b\u001b[38;5;241m.\u001b[39mapply(f, \u001b[38;5;241m*\u001b[39m\u001b[38;5;241m*\u001b[39mkwargs)\n\u001b[0;32m    303\u001b[0m     \u001b[38;5;28;01melse\u001b[39;00m:\n\u001b[1;32m--> 304\u001b[0m         applied \u001b[38;5;241m=\u001b[39m \u001b[38;5;28mgetattr\u001b[39m(b, f)(\u001b[38;5;241m*\u001b[39m\u001b[38;5;241m*\u001b[39mkwargs)\n\u001b[0;32m    305\u001b[0m \u001b[38;5;28;01mexcept\u001b[39;00m (\u001b[38;5;167;01mTypeError\u001b[39;00m, \u001b[38;5;167;01mNotImplementedError\u001b[39;00m):\n\u001b[0;32m    306\u001b[0m     \u001b[38;5;28;01mif\u001b[39;00m \u001b[38;5;129;01mnot\u001b[39;00m ignore_failures:\n",
      "File \u001b[1;32m~\\anaconda3\\lib\\site-packages\\pandas\\core\\internals\\blocks.py:580\u001b[0m, in \u001b[0;36mBlock.astype\u001b[1;34m(self, dtype, copy, errors)\u001b[0m\n\u001b[0;32m    562\u001b[0m \u001b[38;5;124;03m\"\"\"\u001b[39;00m\n\u001b[0;32m    563\u001b[0m \u001b[38;5;124;03mCoerce to the new dtype.\u001b[39;00m\n\u001b[0;32m    564\u001b[0m \n\u001b[1;32m   (...)\u001b[0m\n\u001b[0;32m    576\u001b[0m \u001b[38;5;124;03mBlock\u001b[39;00m\n\u001b[0;32m    577\u001b[0m \u001b[38;5;124;03m\"\"\"\u001b[39;00m\n\u001b[0;32m    578\u001b[0m values \u001b[38;5;241m=\u001b[39m \u001b[38;5;28mself\u001b[39m\u001b[38;5;241m.\u001b[39mvalues\n\u001b[1;32m--> 580\u001b[0m new_values \u001b[38;5;241m=\u001b[39m \u001b[43mastype_array_safe\u001b[49m\u001b[43m(\u001b[49m\u001b[43mvalues\u001b[49m\u001b[43m,\u001b[49m\u001b[43m \u001b[49m\u001b[43mdtype\u001b[49m\u001b[43m,\u001b[49m\u001b[43m \u001b[49m\u001b[43mcopy\u001b[49m\u001b[38;5;241;43m=\u001b[39;49m\u001b[43mcopy\u001b[49m\u001b[43m,\u001b[49m\u001b[43m \u001b[49m\u001b[43merrors\u001b[49m\u001b[38;5;241;43m=\u001b[39;49m\u001b[43merrors\u001b[49m\u001b[43m)\u001b[49m\n\u001b[0;32m    582\u001b[0m new_values \u001b[38;5;241m=\u001b[39m maybe_coerce_values(new_values)\n\u001b[0;32m    583\u001b[0m newb \u001b[38;5;241m=\u001b[39m \u001b[38;5;28mself\u001b[39m\u001b[38;5;241m.\u001b[39mmake_block(new_values)\n",
      "File \u001b[1;32m~\\anaconda3\\lib\\site-packages\\pandas\\core\\dtypes\\cast.py:1292\u001b[0m, in \u001b[0;36mastype_array_safe\u001b[1;34m(values, dtype, copy, errors)\u001b[0m\n\u001b[0;32m   1289\u001b[0m     dtype \u001b[38;5;241m=\u001b[39m dtype\u001b[38;5;241m.\u001b[39mnumpy_dtype\n\u001b[0;32m   1291\u001b[0m \u001b[38;5;28;01mtry\u001b[39;00m:\n\u001b[1;32m-> 1292\u001b[0m     new_values \u001b[38;5;241m=\u001b[39m \u001b[43mastype_array\u001b[49m\u001b[43m(\u001b[49m\u001b[43mvalues\u001b[49m\u001b[43m,\u001b[49m\u001b[43m \u001b[49m\u001b[43mdtype\u001b[49m\u001b[43m,\u001b[49m\u001b[43m \u001b[49m\u001b[43mcopy\u001b[49m\u001b[38;5;241;43m=\u001b[39;49m\u001b[43mcopy\u001b[49m\u001b[43m)\u001b[49m\n\u001b[0;32m   1293\u001b[0m \u001b[38;5;28;01mexcept\u001b[39;00m (\u001b[38;5;167;01mValueError\u001b[39;00m, \u001b[38;5;167;01mTypeError\u001b[39;00m):\n\u001b[0;32m   1294\u001b[0m     \u001b[38;5;66;03m# e.g. astype_nansafe can fail on object-dtype of strings\u001b[39;00m\n\u001b[0;32m   1295\u001b[0m     \u001b[38;5;66;03m#  trying to convert to float\u001b[39;00m\n\u001b[0;32m   1296\u001b[0m     \u001b[38;5;28;01mif\u001b[39;00m errors \u001b[38;5;241m==\u001b[39m \u001b[38;5;124m\"\u001b[39m\u001b[38;5;124mignore\u001b[39m\u001b[38;5;124m\"\u001b[39m:\n",
      "File \u001b[1;32m~\\anaconda3\\lib\\site-packages\\pandas\\core\\dtypes\\cast.py:1237\u001b[0m, in \u001b[0;36mastype_array\u001b[1;34m(values, dtype, copy)\u001b[0m\n\u001b[0;32m   1234\u001b[0m     values \u001b[38;5;241m=\u001b[39m values\u001b[38;5;241m.\u001b[39mastype(dtype, copy\u001b[38;5;241m=\u001b[39mcopy)\n\u001b[0;32m   1236\u001b[0m \u001b[38;5;28;01melse\u001b[39;00m:\n\u001b[1;32m-> 1237\u001b[0m     values \u001b[38;5;241m=\u001b[39m \u001b[43mastype_nansafe\u001b[49m\u001b[43m(\u001b[49m\u001b[43mvalues\u001b[49m\u001b[43m,\u001b[49m\u001b[43m \u001b[49m\u001b[43mdtype\u001b[49m\u001b[43m,\u001b[49m\u001b[43m \u001b[49m\u001b[43mcopy\u001b[49m\u001b[38;5;241;43m=\u001b[39;49m\u001b[43mcopy\u001b[49m\u001b[43m)\u001b[49m\n\u001b[0;32m   1239\u001b[0m \u001b[38;5;66;03m# in pandas we don't store numpy str dtypes, so convert to object\u001b[39;00m\n\u001b[0;32m   1240\u001b[0m \u001b[38;5;28;01mif\u001b[39;00m \u001b[38;5;28misinstance\u001b[39m(dtype, np\u001b[38;5;241m.\u001b[39mdtype) \u001b[38;5;129;01mand\u001b[39;00m \u001b[38;5;28missubclass\u001b[39m(values\u001b[38;5;241m.\u001b[39mdtype\u001b[38;5;241m.\u001b[39mtype, \u001b[38;5;28mstr\u001b[39m):\n",
      "File \u001b[1;32m~\\anaconda3\\lib\\site-packages\\pandas\\core\\dtypes\\cast.py:1181\u001b[0m, in \u001b[0;36mastype_nansafe\u001b[1;34m(arr, dtype, copy, skipna)\u001b[0m\n\u001b[0;32m   1177\u001b[0m     \u001b[38;5;28;01mraise\u001b[39;00m \u001b[38;5;167;01mValueError\u001b[39;00m(msg)\n\u001b[0;32m   1179\u001b[0m \u001b[38;5;28;01mif\u001b[39;00m copy \u001b[38;5;129;01mor\u001b[39;00m is_object_dtype(arr\u001b[38;5;241m.\u001b[39mdtype) \u001b[38;5;129;01mor\u001b[39;00m is_object_dtype(dtype):\n\u001b[0;32m   1180\u001b[0m     \u001b[38;5;66;03m# Explicit copy, or required since NumPy can't view from / to object.\u001b[39;00m\n\u001b[1;32m-> 1181\u001b[0m     \u001b[38;5;28;01mreturn\u001b[39;00m \u001b[43marr\u001b[49m\u001b[38;5;241;43m.\u001b[39;49m\u001b[43mastype\u001b[49m\u001b[43m(\u001b[49m\u001b[43mdtype\u001b[49m\u001b[43m,\u001b[49m\u001b[43m \u001b[49m\u001b[43mcopy\u001b[49m\u001b[38;5;241;43m=\u001b[39;49m\u001b[38;5;28;43;01mTrue\u001b[39;49;00m\u001b[43m)\u001b[49m\n\u001b[0;32m   1183\u001b[0m \u001b[38;5;28;01mreturn\u001b[39;00m arr\u001b[38;5;241m.\u001b[39mastype(dtype, copy\u001b[38;5;241m=\u001b[39mcopy)\n",
      "\u001b[1;31mValueError\u001b[0m: could not convert string to float: '-'"
     ]
    }
   ],
   "source": [
    "df['points_per_game'] = df['points_per_game'].astype(float)"
   ]
  },
  {
   "cell_type": "code",
   "execution_count": 30,
   "id": "658e6ab4",
   "metadata": {},
   "outputs": [],
   "source": [
    "df['points_per_game'] = df['points_per_game'].replace('-', np.nan)\n",
    "df['points_per_game'] = df['points_per_game'].astype(float)"
   ]
  },
  {
   "cell_type": "code",
   "execution_count": 33,
   "id": "cd4b216a",
   "metadata": {},
   "outputs": [
    {
     "ename": "ValueError",
     "evalue": "could not convert string to float: '-'",
     "output_type": "error",
     "traceback": [
      "\u001b[1;31m---------------------------------------------------------------------------\u001b[0m",
      "\u001b[1;31mValueError\u001b[0m                                Traceback (most recent call last)",
      "Input \u001b[1;32mIn [33]\u001b[0m, in \u001b[0;36m<cell line: 2>\u001b[1;34m()\u001b[0m\n\u001b[0;32m      1\u001b[0m \u001b[38;5;66;03m# change data type of the columns `points_per_game`, `penalty_minutes` and `team_goal_differential` to integer dtypes\u001b[39;00m\n\u001b[1;32m----> 2\u001b[0m df[[\u001b[38;5;124m'\u001b[39m\u001b[38;5;124mpenalty_minutes\u001b[39m\u001b[38;5;124m'\u001b[39m, \u001b[38;5;124m'\u001b[39m\u001b[38;5;124mteam_goal_differential\u001b[39m\u001b[38;5;124m'\u001b[39m]] \u001b[38;5;241m=\u001b[39m \u001b[43mdf\u001b[49m\u001b[43m[\u001b[49m\n\u001b[0;32m      3\u001b[0m \u001b[43m    \u001b[49m\u001b[43m[\u001b[49m\u001b[38;5;124;43m'\u001b[39;49m\u001b[38;5;124;43mpenalty_minutes\u001b[39;49m\u001b[38;5;124;43m'\u001b[39;49m\u001b[43m,\u001b[49m\u001b[43m \u001b[49m\u001b[38;5;124;43m'\u001b[39;49m\u001b[38;5;124;43mteam_goal_differential\u001b[39;49m\u001b[38;5;124;43m'\u001b[39;49m\u001b[43m]\u001b[49m\u001b[43m]\u001b[49m\u001b[38;5;241;43m.\u001b[39;49m\u001b[43mastype\u001b[49m\u001b[43m(\u001b[49m\u001b[38;5;28;43mfloat\u001b[39;49m\u001b[43m)\u001b[49m\n",
      "File \u001b[1;32m~\\anaconda3\\lib\\site-packages\\pandas\\core\\generic.py:5912\u001b[0m, in \u001b[0;36mNDFrame.astype\u001b[1;34m(self, dtype, copy, errors)\u001b[0m\n\u001b[0;32m   5905\u001b[0m     results \u001b[38;5;241m=\u001b[39m [\n\u001b[0;32m   5906\u001b[0m         \u001b[38;5;28mself\u001b[39m\u001b[38;5;241m.\u001b[39miloc[:, i]\u001b[38;5;241m.\u001b[39mastype(dtype, copy\u001b[38;5;241m=\u001b[39mcopy)\n\u001b[0;32m   5907\u001b[0m         \u001b[38;5;28;01mfor\u001b[39;00m i \u001b[38;5;129;01min\u001b[39;00m \u001b[38;5;28mrange\u001b[39m(\u001b[38;5;28mlen\u001b[39m(\u001b[38;5;28mself\u001b[39m\u001b[38;5;241m.\u001b[39mcolumns))\n\u001b[0;32m   5908\u001b[0m     ]\n\u001b[0;32m   5910\u001b[0m \u001b[38;5;28;01melse\u001b[39;00m:\n\u001b[0;32m   5911\u001b[0m     \u001b[38;5;66;03m# else, only a single dtype is given\u001b[39;00m\n\u001b[1;32m-> 5912\u001b[0m     new_data \u001b[38;5;241m=\u001b[39m \u001b[38;5;28;43mself\u001b[39;49m\u001b[38;5;241;43m.\u001b[39;49m\u001b[43m_mgr\u001b[49m\u001b[38;5;241;43m.\u001b[39;49m\u001b[43mastype\u001b[49m\u001b[43m(\u001b[49m\u001b[43mdtype\u001b[49m\u001b[38;5;241;43m=\u001b[39;49m\u001b[43mdtype\u001b[49m\u001b[43m,\u001b[49m\u001b[43m \u001b[49m\u001b[43mcopy\u001b[49m\u001b[38;5;241;43m=\u001b[39;49m\u001b[43mcopy\u001b[49m\u001b[43m,\u001b[49m\u001b[43m \u001b[49m\u001b[43merrors\u001b[49m\u001b[38;5;241;43m=\u001b[39;49m\u001b[43merrors\u001b[49m\u001b[43m)\u001b[49m\n\u001b[0;32m   5913\u001b[0m     \u001b[38;5;28;01mreturn\u001b[39;00m \u001b[38;5;28mself\u001b[39m\u001b[38;5;241m.\u001b[39m_constructor(new_data)\u001b[38;5;241m.\u001b[39m__finalize__(\u001b[38;5;28mself\u001b[39m, method\u001b[38;5;241m=\u001b[39m\u001b[38;5;124m\"\u001b[39m\u001b[38;5;124mastype\u001b[39m\u001b[38;5;124m\"\u001b[39m)\n\u001b[0;32m   5915\u001b[0m \u001b[38;5;66;03m# GH 33113: handle empty frame or series\u001b[39;00m\n",
      "File \u001b[1;32m~\\anaconda3\\lib\\site-packages\\pandas\\core\\internals\\managers.py:419\u001b[0m, in \u001b[0;36mBaseBlockManager.astype\u001b[1;34m(self, dtype, copy, errors)\u001b[0m\n\u001b[0;32m    418\u001b[0m \u001b[38;5;28;01mdef\u001b[39;00m \u001b[38;5;21mastype\u001b[39m(\u001b[38;5;28mself\u001b[39m: T, dtype, copy: \u001b[38;5;28mbool\u001b[39m \u001b[38;5;241m=\u001b[39m \u001b[38;5;28;01mFalse\u001b[39;00m, errors: \u001b[38;5;28mstr\u001b[39m \u001b[38;5;241m=\u001b[39m \u001b[38;5;124m\"\u001b[39m\u001b[38;5;124mraise\u001b[39m\u001b[38;5;124m\"\u001b[39m) \u001b[38;5;241m-\u001b[39m\u001b[38;5;241m>\u001b[39m T:\n\u001b[1;32m--> 419\u001b[0m     \u001b[38;5;28;01mreturn\u001b[39;00m \u001b[38;5;28;43mself\u001b[39;49m\u001b[38;5;241;43m.\u001b[39;49m\u001b[43mapply\u001b[49m\u001b[43m(\u001b[49m\u001b[38;5;124;43m\"\u001b[39;49m\u001b[38;5;124;43mastype\u001b[39;49m\u001b[38;5;124;43m\"\u001b[39;49m\u001b[43m,\u001b[49m\u001b[43m \u001b[49m\u001b[43mdtype\u001b[49m\u001b[38;5;241;43m=\u001b[39;49m\u001b[43mdtype\u001b[49m\u001b[43m,\u001b[49m\u001b[43m \u001b[49m\u001b[43mcopy\u001b[49m\u001b[38;5;241;43m=\u001b[39;49m\u001b[43mcopy\u001b[49m\u001b[43m,\u001b[49m\u001b[43m \u001b[49m\u001b[43merrors\u001b[49m\u001b[38;5;241;43m=\u001b[39;49m\u001b[43merrors\u001b[49m\u001b[43m)\u001b[49m\n",
      "File \u001b[1;32m~\\anaconda3\\lib\\site-packages\\pandas\\core\\internals\\managers.py:304\u001b[0m, in \u001b[0;36mBaseBlockManager.apply\u001b[1;34m(self, f, align_keys, ignore_failures, **kwargs)\u001b[0m\n\u001b[0;32m    302\u001b[0m         applied \u001b[38;5;241m=\u001b[39m b\u001b[38;5;241m.\u001b[39mapply(f, \u001b[38;5;241m*\u001b[39m\u001b[38;5;241m*\u001b[39mkwargs)\n\u001b[0;32m    303\u001b[0m     \u001b[38;5;28;01melse\u001b[39;00m:\n\u001b[1;32m--> 304\u001b[0m         applied \u001b[38;5;241m=\u001b[39m \u001b[38;5;28mgetattr\u001b[39m(b, f)(\u001b[38;5;241m*\u001b[39m\u001b[38;5;241m*\u001b[39mkwargs)\n\u001b[0;32m    305\u001b[0m \u001b[38;5;28;01mexcept\u001b[39;00m (\u001b[38;5;167;01mTypeError\u001b[39;00m, \u001b[38;5;167;01mNotImplementedError\u001b[39;00m):\n\u001b[0;32m    306\u001b[0m     \u001b[38;5;28;01mif\u001b[39;00m \u001b[38;5;129;01mnot\u001b[39;00m ignore_failures:\n",
      "File \u001b[1;32m~\\anaconda3\\lib\\site-packages\\pandas\\core\\internals\\blocks.py:580\u001b[0m, in \u001b[0;36mBlock.astype\u001b[1;34m(self, dtype, copy, errors)\u001b[0m\n\u001b[0;32m    562\u001b[0m \u001b[38;5;124;03m\"\"\"\u001b[39;00m\n\u001b[0;32m    563\u001b[0m \u001b[38;5;124;03mCoerce to the new dtype.\u001b[39;00m\n\u001b[0;32m    564\u001b[0m \n\u001b[1;32m   (...)\u001b[0m\n\u001b[0;32m    576\u001b[0m \u001b[38;5;124;03mBlock\u001b[39;00m\n\u001b[0;32m    577\u001b[0m \u001b[38;5;124;03m\"\"\"\u001b[39;00m\n\u001b[0;32m    578\u001b[0m values \u001b[38;5;241m=\u001b[39m \u001b[38;5;28mself\u001b[39m\u001b[38;5;241m.\u001b[39mvalues\n\u001b[1;32m--> 580\u001b[0m new_values \u001b[38;5;241m=\u001b[39m \u001b[43mastype_array_safe\u001b[49m\u001b[43m(\u001b[49m\u001b[43mvalues\u001b[49m\u001b[43m,\u001b[49m\u001b[43m \u001b[49m\u001b[43mdtype\u001b[49m\u001b[43m,\u001b[49m\u001b[43m \u001b[49m\u001b[43mcopy\u001b[49m\u001b[38;5;241;43m=\u001b[39;49m\u001b[43mcopy\u001b[49m\u001b[43m,\u001b[49m\u001b[43m \u001b[49m\u001b[43merrors\u001b[49m\u001b[38;5;241;43m=\u001b[39;49m\u001b[43merrors\u001b[49m\u001b[43m)\u001b[49m\n\u001b[0;32m    582\u001b[0m new_values \u001b[38;5;241m=\u001b[39m maybe_coerce_values(new_values)\n\u001b[0;32m    583\u001b[0m newb \u001b[38;5;241m=\u001b[39m \u001b[38;5;28mself\u001b[39m\u001b[38;5;241m.\u001b[39mmake_block(new_values)\n",
      "File \u001b[1;32m~\\anaconda3\\lib\\site-packages\\pandas\\core\\dtypes\\cast.py:1292\u001b[0m, in \u001b[0;36mastype_array_safe\u001b[1;34m(values, dtype, copy, errors)\u001b[0m\n\u001b[0;32m   1289\u001b[0m     dtype \u001b[38;5;241m=\u001b[39m dtype\u001b[38;5;241m.\u001b[39mnumpy_dtype\n\u001b[0;32m   1291\u001b[0m \u001b[38;5;28;01mtry\u001b[39;00m:\n\u001b[1;32m-> 1292\u001b[0m     new_values \u001b[38;5;241m=\u001b[39m \u001b[43mastype_array\u001b[49m\u001b[43m(\u001b[49m\u001b[43mvalues\u001b[49m\u001b[43m,\u001b[49m\u001b[43m \u001b[49m\u001b[43mdtype\u001b[49m\u001b[43m,\u001b[49m\u001b[43m \u001b[49m\u001b[43mcopy\u001b[49m\u001b[38;5;241;43m=\u001b[39;49m\u001b[43mcopy\u001b[49m\u001b[43m)\u001b[49m\n\u001b[0;32m   1293\u001b[0m \u001b[38;5;28;01mexcept\u001b[39;00m (\u001b[38;5;167;01mValueError\u001b[39;00m, \u001b[38;5;167;01mTypeError\u001b[39;00m):\n\u001b[0;32m   1294\u001b[0m     \u001b[38;5;66;03m# e.g. astype_nansafe can fail on object-dtype of strings\u001b[39;00m\n\u001b[0;32m   1295\u001b[0m     \u001b[38;5;66;03m#  trying to convert to float\u001b[39;00m\n\u001b[0;32m   1296\u001b[0m     \u001b[38;5;28;01mif\u001b[39;00m errors \u001b[38;5;241m==\u001b[39m \u001b[38;5;124m\"\u001b[39m\u001b[38;5;124mignore\u001b[39m\u001b[38;5;124m\"\u001b[39m:\n",
      "File \u001b[1;32m~\\anaconda3\\lib\\site-packages\\pandas\\core\\dtypes\\cast.py:1237\u001b[0m, in \u001b[0;36mastype_array\u001b[1;34m(values, dtype, copy)\u001b[0m\n\u001b[0;32m   1234\u001b[0m     values \u001b[38;5;241m=\u001b[39m values\u001b[38;5;241m.\u001b[39mastype(dtype, copy\u001b[38;5;241m=\u001b[39mcopy)\n\u001b[0;32m   1236\u001b[0m \u001b[38;5;28;01melse\u001b[39;00m:\n\u001b[1;32m-> 1237\u001b[0m     values \u001b[38;5;241m=\u001b[39m \u001b[43mastype_nansafe\u001b[49m\u001b[43m(\u001b[49m\u001b[43mvalues\u001b[49m\u001b[43m,\u001b[49m\u001b[43m \u001b[49m\u001b[43mdtype\u001b[49m\u001b[43m,\u001b[49m\u001b[43m \u001b[49m\u001b[43mcopy\u001b[49m\u001b[38;5;241;43m=\u001b[39;49m\u001b[43mcopy\u001b[49m\u001b[43m)\u001b[49m\n\u001b[0;32m   1239\u001b[0m \u001b[38;5;66;03m# in pandas we don't store numpy str dtypes, so convert to object\u001b[39;00m\n\u001b[0;32m   1240\u001b[0m \u001b[38;5;28;01mif\u001b[39;00m \u001b[38;5;28misinstance\u001b[39m(dtype, np\u001b[38;5;241m.\u001b[39mdtype) \u001b[38;5;129;01mand\u001b[39;00m \u001b[38;5;28missubclass\u001b[39m(values\u001b[38;5;241m.\u001b[39mdtype\u001b[38;5;241m.\u001b[39mtype, \u001b[38;5;28mstr\u001b[39m):\n",
      "File \u001b[1;32m~\\anaconda3\\lib\\site-packages\\pandas\\core\\dtypes\\cast.py:1098\u001b[0m, in \u001b[0;36mastype_nansafe\u001b[1;34m(arr, dtype, copy, skipna)\u001b[0m\n\u001b[0;32m   1096\u001b[0m \u001b[38;5;28;01mif\u001b[39;00m arr\u001b[38;5;241m.\u001b[39mndim \u001b[38;5;241m>\u001b[39m \u001b[38;5;241m1\u001b[39m:\n\u001b[0;32m   1097\u001b[0m     flat \u001b[38;5;241m=\u001b[39m arr\u001b[38;5;241m.\u001b[39mravel()\n\u001b[1;32m-> 1098\u001b[0m     result \u001b[38;5;241m=\u001b[39m \u001b[43mastype_nansafe\u001b[49m\u001b[43m(\u001b[49m\u001b[43mflat\u001b[49m\u001b[43m,\u001b[49m\u001b[43m \u001b[49m\u001b[43mdtype\u001b[49m\u001b[43m,\u001b[49m\u001b[43m \u001b[49m\u001b[43mcopy\u001b[49m\u001b[38;5;241;43m=\u001b[39;49m\u001b[43mcopy\u001b[49m\u001b[43m,\u001b[49m\u001b[43m \u001b[49m\u001b[43mskipna\u001b[49m\u001b[38;5;241;43m=\u001b[39;49m\u001b[43mskipna\u001b[49m\u001b[43m)\u001b[49m\n\u001b[0;32m   1099\u001b[0m     \u001b[38;5;66;03m# error: Item \"ExtensionArray\" of \"Union[ExtensionArray, ndarray]\" has no\u001b[39;00m\n\u001b[0;32m   1100\u001b[0m     \u001b[38;5;66;03m# attribute \"reshape\"\u001b[39;00m\n\u001b[0;32m   1101\u001b[0m     \u001b[38;5;28;01mreturn\u001b[39;00m result\u001b[38;5;241m.\u001b[39mreshape(arr\u001b[38;5;241m.\u001b[39mshape)  \u001b[38;5;66;03m# type: ignore[union-attr]\u001b[39;00m\n",
      "File \u001b[1;32m~\\anaconda3\\lib\\site-packages\\pandas\\core\\dtypes\\cast.py:1181\u001b[0m, in \u001b[0;36mastype_nansafe\u001b[1;34m(arr, dtype, copy, skipna)\u001b[0m\n\u001b[0;32m   1177\u001b[0m     \u001b[38;5;28;01mraise\u001b[39;00m \u001b[38;5;167;01mValueError\u001b[39;00m(msg)\n\u001b[0;32m   1179\u001b[0m \u001b[38;5;28;01mif\u001b[39;00m copy \u001b[38;5;129;01mor\u001b[39;00m is_object_dtype(arr\u001b[38;5;241m.\u001b[39mdtype) \u001b[38;5;129;01mor\u001b[39;00m is_object_dtype(dtype):\n\u001b[0;32m   1180\u001b[0m     \u001b[38;5;66;03m# Explicit copy, or required since NumPy can't view from / to object.\u001b[39;00m\n\u001b[1;32m-> 1181\u001b[0m     \u001b[38;5;28;01mreturn\u001b[39;00m \u001b[43marr\u001b[49m\u001b[38;5;241;43m.\u001b[39;49m\u001b[43mastype\u001b[49m\u001b[43m(\u001b[49m\u001b[43mdtype\u001b[49m\u001b[43m,\u001b[49m\u001b[43m \u001b[49m\u001b[43mcopy\u001b[49m\u001b[38;5;241;43m=\u001b[39;49m\u001b[38;5;28;43;01mTrue\u001b[39;49;00m\u001b[43m)\u001b[49m\n\u001b[0;32m   1183\u001b[0m \u001b[38;5;28;01mreturn\u001b[39;00m arr\u001b[38;5;241m.\u001b[39mastype(dtype, copy\u001b[38;5;241m=\u001b[39mcopy)\n",
      "\u001b[1;31mValueError\u001b[0m: could not convert string to float: '-'"
     ]
    }
   ],
   "source": [
    "# change data type of the columns `points_per_game`, `penalty_minutes` and `team_goal_differential` to integer dtypes\n",
    "df[['penalty_minutes', 'team_goal_differential']] = df[\n",
    "    ['penalty_minutes', 'team_goal_differential']].astype(float)\n"
   ]
  },
  {
   "cell_type": "code",
   "execution_count": 25,
   "id": "72e2891f",
   "metadata": {},
   "outputs": [
    {
     "name": "stdout",
     "output_type": "stream",
     "text": [
      "The column containing the value - is: points_per_game\n"
     ]
    }
   ],
   "source": [
    "# find the column that contains the value 1.49\n",
    "col = df.columns[(df == '-').any()][0]\n",
    "print(\"The column containing the value - is:\", col)"
   ]
  },
  {
   "cell_type": "code",
   "execution_count": null,
   "id": "bef1b1bc",
   "metadata": {},
   "outputs": [],
   "source": [
    "# change one value in the column to an integer\n",
    "df.loc[1.49, 'points_per_game'] = int(df.loc[1.49, 'points_per_game'])"
   ]
  },
  {
   "cell_type": "code",
   "execution_count": null,
   "id": "f6f47bff",
   "metadata": {},
   "outputs": [],
   "source": [
    "# convert points_per_game to an integer dtype\n",
    "df['points_per_game'] = df['points_per_game'].astype(int)"
   ]
  },
  {
   "cell_type": "code",
   "execution_count": null,
   "id": "352204fe",
   "metadata": {},
   "outputs": [],
   "source": [
    "# dummy categorical columns "
   ]
  },
  {
   "cell_type": "code",
   "execution_count": null,
   "id": "adb3c10f",
   "metadata": {},
   "outputs": [],
   "source": [
    "# histogram\n",
    "# create a histogram of the 'col1' column\n",
    "plt.hist(df['concussion'])\n",
    "\n",
    "# add labels and title to the plot\n",
    "plt.xlabel('Concussions')\n",
    "plt.ylabel('Frequency')\n",
    "plt.title('Histogram of Concussion column')\n",
    "\n",
    "# display the plot\n",
    "plt.show()"
   ]
  },
  {
   "cell_type": "code",
   "execution_count": null,
   "id": "27fac2a6",
   "metadata": {},
   "outputs": [],
   "source": [
    "# heatmap of dataframe\n",
    "\n",
    "# create a correlation matrix from the dataFrame\n",
    "corr_matrix = df.corr()\n",
    "\n",
    "# create a heatmap from the correlation matrix\n",
    "sns.heatmap(corr_matrix, annot=True, cmap='plasma' )\n",
    "\n",
    "# display the heatmap\n",
    "plt.show()"
   ]
  },
  {
   "cell_type": "markdown",
   "id": "882bf511",
   "metadata": {},
   "source": [
    "# Data Understanding"
   ]
  },
  {
   "cell_type": "markdown",
   "id": "57bd9b29",
   "metadata": {},
   "source": [
    "What data is available to us? Where does it live? Do we have the data, or can we scrape/buy/source the data from somewhere else?\n",
    "Who controls the data sources, and what steps are needed to get access to the data?\n",
    "What is our target?\n",
    "What predictors are available to us?\n",
    "What data types are the predictors we'll be working with?\n",
    "What is the distribution of our data?\n",
    "How many observations does our dataset contain? Do we have a lot of data? Only a little?\n",
    "Do we have enough data to build a model? Will we need to use resampling methods?\n",
    "How do we know the data is correct? How is the data collected? Is there a chance the data could be wrong?"
   ]
  },
  {
   "cell_type": "markdown",
   "id": "a1d44498",
   "metadata": {},
   "source": [
    "# Data Preparation"
   ]
  },
  {
   "cell_type": "markdown",
   "id": "a5d81b40",
   "metadata": {},
   "source": [
    "Detecting and dealing with missing values\n",
    "Data type conversions (e.g. numeric data mistakenly encoded as strings)\n",
    "Checking for and removing multicollinearity (correlated predictors)\n",
    "Normalizing our numeric data\n",
    "Converting categorical data to numeric format through one-hot encodin"
   ]
  },
  {
   "cell_type": "markdown",
   "id": "7f0601cd",
   "metadata": {},
   "source": [
    "# Modeling "
   ]
  },
  {
   "cell_type": "markdown",
   "id": "66559051",
   "metadata": {},
   "source": [
    "Detecting and dealing with missing values\n",
    "Data type conversions (e.g. numeric data mistakenly encoded as strings)\n",
    "Checking for and removing multicollinearity (correlated predictors)\n",
    "Normalizing our numeric data\n",
    "Converting categorical data to numeric format through one-hot encodin"
   ]
  },
  {
   "cell_type": "markdown",
   "id": "0b00b5fe",
   "metadata": {},
   "source": [
    "# Evaluation"
   ]
  },
  {
   "cell_type": "markdown",
   "id": "0692bb20",
   "metadata": {},
   "source": [
    "During this step, we'll evaluate the results of our modeling efforts. Does our model solve the problems that we outlined all the way back during step 1? Why or why not?"
   ]
  },
  {
   "cell_type": "markdown",
   "id": "d2b20bd4",
   "metadata": {},
   "source": [
    "# 1. Obtain"
   ]
  },
  {
   "cell_type": "markdown",
   "id": "68a63005",
   "metadata": {},
   "source": [
    "# 2. Scrub"
   ]
  },
  {
   "cell_type": "markdown",
   "id": "8f175fd6",
   "metadata": {},
   "source": [
    "# 3. Explore"
   ]
  },
  {
   "cell_type": "markdown",
   "id": "8dc40f9e",
   "metadata": {},
   "source": [
    "# 4. Model"
   ]
  },
  {
   "cell_type": "markdown",
   "id": "a537b30c",
   "metadata": {},
   "source": [
    "# 5. Interpret"
   ]
  }
 ],
 "metadata": {
  "kernelspec": {
   "display_name": "Python 3 (ipykernel)",
   "language": "python",
   "name": "python3"
  },
  "language_info": {
   "codemirror_mode": {
    "name": "ipython",
    "version": 3
   },
   "file_extension": ".py",
   "mimetype": "text/x-python",
   "name": "python",
   "nbconvert_exporter": "python",
   "pygments_lexer": "ipython3",
   "version": "3.9.12"
  }
 },
 "nbformat": 4,
 "nbformat_minor": 5
}
