{
 "cells": [
  {
   "cell_type": "markdown",
   "id": "62cebdcf",
   "metadata": {},
   "source": [
    "# Business Problem"
   ]
  },
  {
   "cell_type": "markdown",
   "id": "a080dcde",
   "metadata": {},
   "source": [
    "Who are the stakeholders in this project? Who will be directly affected by the creation of this project?\n",
    "A NHL team\n",
    "What business problem(s) will this Data Science project solve for the organization?\n",
    "An NHL team is looking to determine who is likely, or more likely to suffer a concussion based on past performance and information. \n",
    "What problems are inside the scope of this project?\n",
    "What problems are outside the scope of this project?\n",
    "What data sources are available to us?\n",
    "Eliteprospect_scraper package and a csv of nhl injuries\n",
    "What is the expected timeline for this project? Are there hard deadlines (e.g. \"must be live before holiday season shopping\") or is this an ongoing project?\n",
    "Finish bones of project by 1/17/2023\n",
    "Do stakeholders from different parts of the company or organization all have the exact same understanding about what this project is and isn't?"
   ]
  },
  {
   "cell_type": "code",
   "execution_count": 29,
   "id": "feb0a9a4",
   "metadata": {},
   "outputs": [
    {
     "name": "stdout",
     "output_type": "stream",
     "text": [
      "Requirement already satisfied: eliteprospect_scraper in c:\\users\\jeff\\anaconda3\\lib\\site-packages (0.9)\n",
      "Requirement already satisfied: bs4 in c:\\users\\jeff\\anaconda3\\lib\\site-packages (from eliteprospect_scraper) (0.0.1)\n",
      "Requirement already satisfied: datetime in c:\\users\\jeff\\anaconda3\\lib\\site-packages (from eliteprospect_scraper) (4.9)\n",
      "Requirement already satisfied: numpy in c:\\users\\jeff\\anaconda3\\lib\\site-packages (from eliteprospect_scraper) (1.21.5)\n",
      "Requirement already satisfied: pandas in c:\\users\\jeff\\anaconda3\\lib\\site-packages (from eliteprospect_scraper) (1.4.2)\n",
      "Requirement already satisfied: beautifulsoup4 in c:\\users\\jeff\\anaconda3\\lib\\site-packages (from bs4->eliteprospect_scraper) (4.11.1)\n",
      "Requirement already satisfied: soupsieve>1.2 in c:\\users\\jeff\\anaconda3\\lib\\site-packages (from beautifulsoup4->bs4->eliteprospect_scraper) (2.3.1)\n",
      "Requirement already satisfied: pytz in c:\\users\\jeff\\anaconda3\\lib\\site-packages (from datetime->eliteprospect_scraper) (2021.3)\n",
      "Requirement already satisfied: zope.interface in c:\\users\\jeff\\anaconda3\\lib\\site-packages (from datetime->eliteprospect_scraper) (5.4.0)\n",
      "Requirement already satisfied: python-dateutil>=2.8.1 in c:\\users\\jeff\\anaconda3\\lib\\site-packages (from pandas->eliteprospect_scraper) (2.8.2)\n",
      "Requirement already satisfied: six>=1.5 in c:\\users\\jeff\\anaconda3\\lib\\site-packages (from python-dateutil>=2.8.1->pandas->eliteprospect_scraper) (1.16.0)\n",
      "Requirement already satisfied: setuptools in c:\\users\\jeff\\anaconda3\\lib\\site-packages (from zope.interface->datetime->eliteprospect_scraper) (61.2.0)\n"
     ]
    }
   ],
   "source": [
    "!pip install eliteprospect_scraper"
   ]
  },
  {
   "cell_type": "code",
   "execution_count": 30,
   "id": "3925afb9",
   "metadata": {},
   "outputs": [],
   "source": [
    "import eliteprospect.eliteprospect_scraper as ep"
   ]
  },
  {
   "cell_type": "code",
   "execution_count": 76,
   "id": "baf3c57c",
   "metadata": {},
   "outputs": [
    {
     "name": "stderr",
     "output_type": "stream",
     "text": [
      "C:\\Users\\Jeff\\anaconda3\\lib\\site-packages\\eliteprospect\\eliteprospect_scraper.py:86: FutureWarning: The default value of regex will change from True to False in a future version.\n",
      "  df_players['playername'] = df_players['player'].str.replace(r\"\\(.*\\)\",\"\")\n"
     ]
    }
   ],
   "source": [
    "nhl_12_13 = ep.getPlayers('nhl', '2012-13')"
   ]
  },
  {
   "cell_type": "code",
   "execution_count": 77,
   "id": "9ccbeab5",
   "metadata": {},
   "outputs": [
    {
     "name": "stderr",
     "output_type": "stream",
     "text": [
      "C:\\Users\\Jeff\\anaconda3\\lib\\site-packages\\eliteprospect\\eliteprospect_scraper.py:86: FutureWarning: The default value of regex will change from True to False in a future version.\n",
      "  df_players['playername'] = df_players['player'].str.replace(r\"\\(.*\\)\",\"\")\n"
     ]
    }
   ],
   "source": [
    "nhl_13_14 = ep.getPlayers('nhl', '2013-14')"
   ]
  },
  {
   "cell_type": "code",
   "execution_count": 75,
   "id": "957ae0cb",
   "metadata": {},
   "outputs": [
    {
     "data": {
      "text/html": [
       "<div>\n",
       "<style scoped>\n",
       "    .dataframe tbody tr th:only-of-type {\n",
       "        vertical-align: middle;\n",
       "    }\n",
       "\n",
       "    .dataframe tbody tr th {\n",
       "        vertical-align: top;\n",
       "    }\n",
       "\n",
       "    .dataframe thead th {\n",
       "        text-align: right;\n",
       "    }\n",
       "</style>\n",
       "<table border=\"1\" class=\"dataframe\">\n",
       "  <thead>\n",
       "    <tr style=\"text-align: right;\">\n",
       "      <th></th>\n",
       "      <th>player</th>\n",
       "      <th>team</th>\n",
       "      <th>gp</th>\n",
       "      <th>g</th>\n",
       "      <th>a</th>\n",
       "      <th>tp</th>\n",
       "      <th>ppg</th>\n",
       "      <th>pim</th>\n",
       "      <th>+/-</th>\n",
       "      <th>link</th>\n",
       "      <th>season</th>\n",
       "      <th>league</th>\n",
       "      <th>playername</th>\n",
       "      <th>position</th>\n",
       "      <th>fw_def</th>\n",
       "    </tr>\n",
       "  </thead>\n",
       "  <tbody>\n",
       "    <tr>\n",
       "      <th>0</th>\n",
       "      <td>Martin St-Louis (RW)</td>\n",
       "      <td>Tampa Bay Lightning</td>\n",
       "      <td>48</td>\n",
       "      <td>17</td>\n",
       "      <td>43</td>\n",
       "      <td>60</td>\n",
       "      <td>1.25</td>\n",
       "      <td>14</td>\n",
       "      <td>0</td>\n",
       "      <td>https://www.eliteprospects.com/player/8772/mar...</td>\n",
       "      <td>2012-13</td>\n",
       "      <td>nhl</td>\n",
       "      <td>Martin St-Louis</td>\n",
       "      <td>RW</td>\n",
       "      <td>FW</td>\n",
       "    </tr>\n",
       "    <tr>\n",
       "      <th>1</th>\n",
       "      <td>Steven Stamkos (C/W)</td>\n",
       "      <td>Tampa Bay Lightning</td>\n",
       "      <td>48</td>\n",
       "      <td>29</td>\n",
       "      <td>28</td>\n",
       "      <td>57</td>\n",
       "      <td>1.19</td>\n",
       "      <td>32</td>\n",
       "      <td>-4</td>\n",
       "      <td>https://www.eliteprospects.com/player/11113/st...</td>\n",
       "      <td>2012-13</td>\n",
       "      <td>nhl</td>\n",
       "      <td>Steven Stamkos</td>\n",
       "      <td>C/W</td>\n",
       "      <td>FW</td>\n",
       "    </tr>\n",
       "    <tr>\n",
       "      <th>2</th>\n",
       "      <td>Alexander Ovechkin (LW)</td>\n",
       "      <td>Washington Capitals</td>\n",
       "      <td>48</td>\n",
       "      <td>32</td>\n",
       "      <td>24</td>\n",
       "      <td>56</td>\n",
       "      <td>1.17</td>\n",
       "      <td>36</td>\n",
       "      <td>2</td>\n",
       "      <td>https://www.eliteprospects.com/player/4230/ale...</td>\n",
       "      <td>2012-13</td>\n",
       "      <td>nhl</td>\n",
       "      <td>Alexander Ovechkin</td>\n",
       "      <td>LW</td>\n",
       "      <td>FW</td>\n",
       "    </tr>\n",
       "    <tr>\n",
       "      <th>3</th>\n",
       "      <td>Sidney Crosby (C)</td>\n",
       "      <td>Pittsburgh Penguins</td>\n",
       "      <td>36</td>\n",
       "      <td>15</td>\n",
       "      <td>41</td>\n",
       "      <td>56</td>\n",
       "      <td>1.56</td>\n",
       "      <td>16</td>\n",
       "      <td>26</td>\n",
       "      <td>https://www.eliteprospects.com/player/6146/sid...</td>\n",
       "      <td>2012-13</td>\n",
       "      <td>nhl</td>\n",
       "      <td>Sidney Crosby</td>\n",
       "      <td>C</td>\n",
       "      <td>FW</td>\n",
       "    </tr>\n",
       "    <tr>\n",
       "      <th>4</th>\n",
       "      <td>Patrick Kane (RW)</td>\n",
       "      <td>Chicago Blackhawks</td>\n",
       "      <td>47</td>\n",
       "      <td>23</td>\n",
       "      <td>32</td>\n",
       "      <td>55</td>\n",
       "      <td>1.17</td>\n",
       "      <td>8</td>\n",
       "      <td>11</td>\n",
       "      <td>https://www.eliteprospects.com/player/9326/pat...</td>\n",
       "      <td>2012-13</td>\n",
       "      <td>nhl</td>\n",
       "      <td>Patrick Kane</td>\n",
       "      <td>RW</td>\n",
       "      <td>FW</td>\n",
       "    </tr>\n",
       "  </tbody>\n",
       "</table>\n",
       "</div>"
      ],
      "text/plain": [
       "                    player                 team  gp   g   a  tp   ppg pim +/-  \\\n",
       "0     Martin St-Louis (RW)  Tampa Bay Lightning  48  17  43  60  1.25  14   0   \n",
       "1     Steven Stamkos (C/W)  Tampa Bay Lightning  48  29  28  57  1.19  32  -4   \n",
       "2  Alexander Ovechkin (LW)  Washington Capitals  48  32  24  56  1.17  36   2   \n",
       "3        Sidney Crosby (C)  Pittsburgh Penguins  36  15  41  56  1.56  16  26   \n",
       "4        Patrick Kane (RW)   Chicago Blackhawks  47  23  32  55  1.17   8  11   \n",
       "\n",
       "                                                link   season league  \\\n",
       "0  https://www.eliteprospects.com/player/8772/mar...  2012-13    nhl   \n",
       "1  https://www.eliteprospects.com/player/11113/st...  2012-13    nhl   \n",
       "2  https://www.eliteprospects.com/player/4230/ale...  2012-13    nhl   \n",
       "3  https://www.eliteprospects.com/player/6146/sid...  2012-13    nhl   \n",
       "4  https://www.eliteprospects.com/player/9326/pat...  2012-13    nhl   \n",
       "\n",
       "            playername position fw_def  \n",
       "0     Martin St-Louis        RW     FW  \n",
       "1      Steven Stamkos       C/W     FW  \n",
       "2  Alexander Ovechkin        LW     FW  \n",
       "3       Sidney Crosby         C     FW  \n",
       "4        Patrick Kane        RW     FW  "
      ]
     },
     "execution_count": 75,
     "metadata": {},
     "output_type": "execute_result"
    }
   ],
   "source": [
    "nhl_12_13.head()"
   ]
  },
  {
   "cell_type": "code",
   "execution_count": 78,
   "id": "cac1b81b",
   "metadata": {},
   "outputs": [
    {
     "data": {
      "text/html": [
       "<div>\n",
       "<style scoped>\n",
       "    .dataframe tbody tr th:only-of-type {\n",
       "        vertical-align: middle;\n",
       "    }\n",
       "\n",
       "    .dataframe tbody tr th {\n",
       "        vertical-align: top;\n",
       "    }\n",
       "\n",
       "    .dataframe thead th {\n",
       "        text-align: right;\n",
       "    }\n",
       "</style>\n",
       "<table border=\"1\" class=\"dataframe\">\n",
       "  <thead>\n",
       "    <tr style=\"text-align: right;\">\n",
       "      <th></th>\n",
       "      <th>player</th>\n",
       "      <th>team</th>\n",
       "      <th>gp</th>\n",
       "      <th>g</th>\n",
       "      <th>a</th>\n",
       "      <th>tp</th>\n",
       "      <th>ppg</th>\n",
       "      <th>pim</th>\n",
       "      <th>+/-</th>\n",
       "      <th>link</th>\n",
       "      <th>season</th>\n",
       "      <th>league</th>\n",
       "      <th>playername</th>\n",
       "      <th>position</th>\n",
       "      <th>fw_def</th>\n",
       "    </tr>\n",
       "  </thead>\n",
       "  <tbody>\n",
       "    <tr>\n",
       "      <th>0</th>\n",
       "      <td>Sidney Crosby (C)</td>\n",
       "      <td>Pittsburgh Penguins</td>\n",
       "      <td>80</td>\n",
       "      <td>36</td>\n",
       "      <td>68</td>\n",
       "      <td>104</td>\n",
       "      <td>1.30</td>\n",
       "      <td>46</td>\n",
       "      <td>18</td>\n",
       "      <td>https://www.eliteprospects.com/player/6146/sid...</td>\n",
       "      <td>2013-14</td>\n",
       "      <td>nhl</td>\n",
       "      <td>Sidney Crosby</td>\n",
       "      <td>C</td>\n",
       "      <td>FW</td>\n",
       "    </tr>\n",
       "    <tr>\n",
       "      <th>1</th>\n",
       "      <td>Ryan Getzlaf (C)</td>\n",
       "      <td>Anaheim Ducks</td>\n",
       "      <td>77</td>\n",
       "      <td>31</td>\n",
       "      <td>56</td>\n",
       "      <td>87</td>\n",
       "      <td>1.13</td>\n",
       "      <td>31</td>\n",
       "      <td>28</td>\n",
       "      <td>https://www.eliteprospects.com/player/8526/rya...</td>\n",
       "      <td>2013-14</td>\n",
       "      <td>nhl</td>\n",
       "      <td>Ryan Getzlaf</td>\n",
       "      <td>C</td>\n",
       "      <td>FW</td>\n",
       "    </tr>\n",
       "    <tr>\n",
       "      <th>2</th>\n",
       "      <td>Claude Giroux (W/C)</td>\n",
       "      <td>Philadelphia Flyers</td>\n",
       "      <td>82</td>\n",
       "      <td>28</td>\n",
       "      <td>58</td>\n",
       "      <td>86</td>\n",
       "      <td>1.05</td>\n",
       "      <td>46</td>\n",
       "      <td>7</td>\n",
       "      <td>https://www.eliteprospects.com/player/10437/cl...</td>\n",
       "      <td>2013-14</td>\n",
       "      <td>nhl</td>\n",
       "      <td>Claude Giroux</td>\n",
       "      <td>W/C</td>\n",
       "      <td>FW</td>\n",
       "    </tr>\n",
       "    <tr>\n",
       "      <th>3</th>\n",
       "      <td>Tyler Seguin (C/RW)</td>\n",
       "      <td>Dallas Stars</td>\n",
       "      <td>80</td>\n",
       "      <td>37</td>\n",
       "      <td>47</td>\n",
       "      <td>84</td>\n",
       "      <td>1.05</td>\n",
       "      <td>18</td>\n",
       "      <td>16</td>\n",
       "      <td>https://www.eliteprospects.com/player/23807/ty...</td>\n",
       "      <td>2013-14</td>\n",
       "      <td>nhl</td>\n",
       "      <td>Tyler Seguin</td>\n",
       "      <td>C/RW</td>\n",
       "      <td>FW</td>\n",
       "    </tr>\n",
       "    <tr>\n",
       "      <th>4</th>\n",
       "      <td>Corey Perry (RW)</td>\n",
       "      <td>Anaheim Ducks</td>\n",
       "      <td>81</td>\n",
       "      <td>43</td>\n",
       "      <td>39</td>\n",
       "      <td>82</td>\n",
       "      <td>1.01</td>\n",
       "      <td>65</td>\n",
       "      <td>32</td>\n",
       "      <td>https://www.eliteprospects.com/player/8541/cor...</td>\n",
       "      <td>2013-14</td>\n",
       "      <td>nhl</td>\n",
       "      <td>Corey Perry</td>\n",
       "      <td>RW</td>\n",
       "      <td>FW</td>\n",
       "    </tr>\n",
       "  </tbody>\n",
       "</table>\n",
       "</div>"
      ],
      "text/plain": [
       "                player                 team  gp   g   a   tp   ppg pim +/-  \\\n",
       "0    Sidney Crosby (C)  Pittsburgh Penguins  80  36  68  104  1.30  46  18   \n",
       "1     Ryan Getzlaf (C)        Anaheim Ducks  77  31  56   87  1.13  31  28   \n",
       "2  Claude Giroux (W/C)  Philadelphia Flyers  82  28  58   86  1.05  46   7   \n",
       "3  Tyler Seguin (C/RW)         Dallas Stars  80  37  47   84  1.05  18  16   \n",
       "4     Corey Perry (RW)        Anaheim Ducks  81  43  39   82  1.01  65  32   \n",
       "\n",
       "                                                link   season league  \\\n",
       "0  https://www.eliteprospects.com/player/6146/sid...  2013-14    nhl   \n",
       "1  https://www.eliteprospects.com/player/8526/rya...  2013-14    nhl   \n",
       "2  https://www.eliteprospects.com/player/10437/cl...  2013-14    nhl   \n",
       "3  https://www.eliteprospects.com/player/23807/ty...  2013-14    nhl   \n",
       "4  https://www.eliteprospects.com/player/8541/cor...  2013-14    nhl   \n",
       "\n",
       "       playername position fw_def  \n",
       "0  Sidney Crosby         C     FW  \n",
       "1   Ryan Getzlaf         C     FW  \n",
       "2  Claude Giroux       W/C     FW  \n",
       "3   Tyler Seguin      C/RW     FW  \n",
       "4    Corey Perry        RW     FW  "
      ]
     },
     "execution_count": 78,
     "metadata": {},
     "output_type": "execute_result"
    }
   ],
   "source": [
    "nhl_13_14.head()"
   ]
  },
  {
   "cell_type": "code",
   "execution_count": 70,
   "id": "bc215ec6",
   "metadata": {},
   "outputs": [
    {
     "data": {
      "text/plain": [
       "(850, 15)"
      ]
     },
     "execution_count": 70,
     "metadata": {},
     "output_type": "execute_result"
    }
   ],
   "source": [
    "nhl_19_20.shape"
   ]
  },
  {
   "cell_type": "code",
   "execution_count": 71,
   "id": "74d98391",
   "metadata": {},
   "outputs": [],
   "source": [
    "import pandas as pd "
   ]
  },
  {
   "cell_type": "code",
   "execution_count": 72,
   "id": "88a00191",
   "metadata": {},
   "outputs": [],
   "source": [
    "# load in nhl injury data \n",
    "injuries = pd.read_csv('nhl_injury.csv', encoding='latin')"
   ]
  },
  {
   "cell_type": "code",
   "execution_count": 63,
   "id": "6a9b7f19",
   "metadata": {},
   "outputs": [
    {
     "data": {
      "text/html": [
       "<div>\n",
       "<style scoped>\n",
       "    .dataframe tbody tr th:only-of-type {\n",
       "        vertical-align: middle;\n",
       "    }\n",
       "\n",
       "    .dataframe tbody tr th {\n",
       "        vertical-align: top;\n",
       "    }\n",
       "\n",
       "    .dataframe thead th {\n",
       "        text-align: right;\n",
       "    }\n",
       "</style>\n",
       "<table border=\"1\" class=\"dataframe\">\n",
       "  <thead>\n",
       "    <tr style=\"text-align: right;\">\n",
       "      <th></th>\n",
       "      <th>ï»¿Season</th>\n",
       "      <th>Team</th>\n",
       "      <th>Position</th>\n",
       "      <th>Player</th>\n",
       "      <th>Injury Type</th>\n",
       "      <th>Cap Hit</th>\n",
       "      <th>Chip</th>\n",
       "      <th>Games Missed</th>\n",
       "      <th>Games Missed.1</th>\n",
       "    </tr>\n",
       "  </thead>\n",
       "  <tbody>\n",
       "    <tr>\n",
       "      <th>0</th>\n",
       "      <td>2000/01</td>\n",
       "      <td>Anaheim</td>\n",
       "      <td>F</td>\n",
       "      <td>Kariya, Paul</td>\n",
       "      <td>Foot</td>\n",
       "      <td>NaN</td>\n",
       "      <td>NaN</td>\n",
       "      <td>16</td>\n",
       "      <td>16</td>\n",
       "    </tr>\n",
       "    <tr>\n",
       "      <th>1</th>\n",
       "      <td>2000/01</td>\n",
       "      <td>Anaheim</td>\n",
       "      <td>F</td>\n",
       "      <td>Leclerc, Mike</td>\n",
       "      <td>Abdominal</td>\n",
       "      <td>NaN</td>\n",
       "      <td>NaN</td>\n",
       "      <td>13</td>\n",
       "      <td>13</td>\n",
       "    </tr>\n",
       "    <tr>\n",
       "      <th>2</th>\n",
       "      <td>2000/01</td>\n",
       "      <td>Anaheim</td>\n",
       "      <td>F</td>\n",
       "      <td>Leclerc, Mike</td>\n",
       "      <td>Knee</td>\n",
       "      <td>NaN</td>\n",
       "      <td>NaN</td>\n",
       "      <td>15</td>\n",
       "      <td>15</td>\n",
       "    </tr>\n",
       "    <tr>\n",
       "      <th>3</th>\n",
       "      <td>2000/01</td>\n",
       "      <td>Anaheim</td>\n",
       "      <td>F</td>\n",
       "      <td>McDonald, Andy</td>\n",
       "      <td>Concussion</td>\n",
       "      <td>NaN</td>\n",
       "      <td>NaN</td>\n",
       "      <td>7</td>\n",
       "      <td>7</td>\n",
       "    </tr>\n",
       "    <tr>\n",
       "      <th>4</th>\n",
       "      <td>2000/01</td>\n",
       "      <td>Anaheim</td>\n",
       "      <td>F</td>\n",
       "      <td>McInnis, Marty</td>\n",
       "      <td>Groin</td>\n",
       "      <td>NaN</td>\n",
       "      <td>NaN</td>\n",
       "      <td>3</td>\n",
       "      <td>3</td>\n",
       "    </tr>\n",
       "  </tbody>\n",
       "</table>\n",
       "</div>"
      ],
      "text/plain": [
       "  ï»¿Season     Team Position          Player Injury Type  Cap Hit  Chip  \\\n",
       "0   2000/01  Anaheim        F    Kariya, Paul        Foot      NaN   NaN   \n",
       "1   2000/01  Anaheim        F   Leclerc, Mike   Abdominal      NaN   NaN   \n",
       "2   2000/01  Anaheim        F   Leclerc, Mike        Knee      NaN   NaN   \n",
       "3   2000/01  Anaheim        F  McDonald, Andy  Concussion      NaN   NaN   \n",
       "4   2000/01  Anaheim        F  McInnis, Marty       Groin      NaN   NaN   \n",
       "\n",
       "   Games Missed  Games Missed.1  \n",
       "0            16              16  \n",
       "1            13              13  \n",
       "2            15              15  \n",
       "3             7               7  \n",
       "4             3               3  "
      ]
     },
     "execution_count": 63,
     "metadata": {},
     "output_type": "execute_result"
    }
   ],
   "source": [
    "injuries.head()"
   ]
  },
  {
   "cell_type": "code",
   "execution_count": 35,
   "id": "74f16000",
   "metadata": {},
   "outputs": [
    {
     "data": {
      "text/plain": [
       "Index(['ï»¿Season', 'Team', 'Position', 'Player', 'Injury Type', 'Cap Hit',\n",
       "       'Chip', 'Games Missed', 'Games Missed.1'],\n",
       "      dtype='object')"
      ]
     },
     "execution_count": 35,
     "metadata": {},
     "output_type": "execute_result"
    }
   ],
   "source": [
    "injuries.columns"
   ]
  },
  {
   "cell_type": "code",
   "execution_count": 36,
   "id": "8c5e2e84",
   "metadata": {},
   "outputs": [
    {
     "data": {
      "text/plain": [
       "array(['Foot', 'Abdominal', 'Knee', 'Concussion', 'Groin', 'Neck',\n",
       "       'Dizziness', 'Hand', 'Jaw', 'Headache', 'Ribs', 'Shoulder', 'Back',\n",
       "       'Ankle', 'Hip', 'Eye', 'Collarbone', 'Thumb', 'Flu', 'Cheek',\n",
       "       'Hamstring', 'Arm', 'Leg', 'Chest', 'Charley horse', 'Pelvis',\n",
       "       'Wrist', 'Heel', 'Head', 'Toe', 'Stomach', 'Sternum', 'Finger',\n",
       "       'Larynx', 'Elbow', 'Sinus', 'Illness', 'Gluteus', 'Thigh', 'Nose',\n",
       "       'Kidney', 'Hernia', 'Quadriceps', 'Calf', 'Tailbone', 'Mouth',\n",
       "       'Ear', 'Oblique', 'Shin', 'Bicep', 'Skin infection', 'Spleen',\n",
       "       'Facial', 'Pneumonia', 'Achilles', 'Gall bladder', 'Dental',\n",
       "       'Triceps', 'Respiratory', 'Cancer', 'Fatigue', 'Dehydration',\n",
       "       'Undisclosed', 'Upper body', 'Blood clots', 'Throat',\n",
       "       'Orbital bone', 'Heart', 'Infection', 'Appendicitis', 'Chickenpox',\n",
       "       'Ulcerative colitis', 'Lower body', 'Torso', 'Migraine', 'Vertigo',\n",
       "       'Hepatitis', 'Adductor', 'Bronchitis', 'Sacrum', 'Pubic bone',\n",
       "       'Rash', 'Soreness', 'Buttocks', 'Tonsils', 'Pectoral',\n",
       "       'Appendectomy', 'Groiin', 'Pinched nerve', 'Thyroid', 'Mid-body',\n",
       "       'Colon', 'Kidney stones', 'Sternoclavicular', 'Lung',\n",
       "       'Core muscle', 'COVID-related', 'Stroke'], dtype=object)"
      ]
     },
     "execution_count": 36,
     "metadata": {},
     "output_type": "execute_result"
    }
   ],
   "source": [
    "injuries['Injury Type'].unique()"
   ]
  },
  {
   "cell_type": "code",
   "execution_count": 37,
   "id": "557c9d07",
   "metadata": {},
   "outputs": [],
   "source": [
    "# filter to only 2020-2021\n",
    "injuries_19_20 = injuries[injuries['ï»¿Season'] == '2019/20']"
   ]
  },
  {
   "cell_type": "code",
   "execution_count": 38,
   "id": "da8f3f01",
   "metadata": {},
   "outputs": [],
   "source": [
    "# filter to only be injury type of concussion \n",
    "concussion_injuries = injuries_19_20[injuries_19_20['Injury Type'] == 'Concussion']"
   ]
  },
  {
   "cell_type": "code",
   "execution_count": 39,
   "id": "3d588228",
   "metadata": {},
   "outputs": [
    {
     "data": {
      "text/html": [
       "<div>\n",
       "<style scoped>\n",
       "    .dataframe tbody tr th:only-of-type {\n",
       "        vertical-align: middle;\n",
       "    }\n",
       "\n",
       "    .dataframe tbody tr th {\n",
       "        vertical-align: top;\n",
       "    }\n",
       "\n",
       "    .dataframe thead th {\n",
       "        text-align: right;\n",
       "    }\n",
       "</style>\n",
       "<table border=\"1\" class=\"dataframe\">\n",
       "  <thead>\n",
       "    <tr style=\"text-align: right;\">\n",
       "      <th></th>\n",
       "      <th>ï»¿Season</th>\n",
       "      <th>Team</th>\n",
       "      <th>Position</th>\n",
       "      <th>Player</th>\n",
       "      <th>Injury Type</th>\n",
       "      <th>Cap Hit</th>\n",
       "      <th>Chip</th>\n",
       "      <th>Games Missed</th>\n",
       "      <th>Games Missed.1</th>\n",
       "    </tr>\n",
       "  </thead>\n",
       "  <tbody>\n",
       "    <tr>\n",
       "      <th>17426</th>\n",
       "      <td>2019/20</td>\n",
       "      <td>Boston</td>\n",
       "      <td>G</td>\n",
       "      <td>Rask, Tuukka</td>\n",
       "      <td>Concussion</td>\n",
       "      <td>7.0</td>\n",
       "      <td>256.097561</td>\n",
       "      <td>3</td>\n",
       "      <td>3</td>\n",
       "    </tr>\n",
       "    <tr>\n",
       "      <th>17436</th>\n",
       "      <td>2019/20</td>\n",
       "      <td>Buffalo</td>\n",
       "      <td>F</td>\n",
       "      <td>Okposo, Kyle</td>\n",
       "      <td>Concussion</td>\n",
       "      <td>6.0</td>\n",
       "      <td>731.707317</td>\n",
       "      <td>10</td>\n",
       "      <td>10</td>\n",
       "    </tr>\n",
       "  </tbody>\n",
       "</table>\n",
       "</div>"
      ],
      "text/plain": [
       "      ï»¿Season     Team Position        Player Injury Type  Cap Hit  \\\n",
       "17426   2019/20   Boston        G  Rask, Tuukka  Concussion      7.0   \n",
       "17436   2019/20  Buffalo        F  Okposo, Kyle  Concussion      6.0   \n",
       "\n",
       "             Chip  Games Missed  Games Missed.1  \n",
       "17426  256.097561             3               3  \n",
       "17436  731.707317            10              10  "
      ]
     },
     "execution_count": 39,
     "metadata": {},
     "output_type": "execute_result"
    }
   ],
   "source": [
    "concussion_injuries.head(2)"
   ]
  },
  {
   "cell_type": "code",
   "execution_count": 40,
   "id": "784ebe7c",
   "metadata": {},
   "outputs": [],
   "source": [
    "# make new name variable to join between the 2 datasets \n",
    "new_names = concussion_injuries['Player'].map(lambda x: x.split(' ')[1]) + ' ' + concussion_injuries['Player'].map(lambda x: x.split(' ')[0])"
   ]
  },
  {
   "cell_type": "code",
   "execution_count": 41,
   "id": "922ecadc",
   "metadata": {},
   "outputs": [],
   "source": [
    "new_names = [x.replace(',', '') for x in new_names]"
   ]
  },
  {
   "cell_type": "code",
   "execution_count": 42,
   "id": "3ead692f",
   "metadata": {},
   "outputs": [
    {
     "name": "stderr",
     "output_type": "stream",
     "text": [
      "C:\\Users\\Jeff\\AppData\\Local\\Temp\\ipykernel_18400\\2633589963.py:1: SettingWithCopyWarning: \n",
      "A value is trying to be set on a copy of a slice from a DataFrame.\n",
      "Try using .loc[row_indexer,col_indexer] = value instead\n",
      "\n",
      "See the caveats in the documentation: https://pandas.pydata.org/pandas-docs/stable/user_guide/indexing.html#returning-a-view-versus-a-copy\n",
      "  concussion_injuries['Name'] = new_names\n"
     ]
    }
   ],
   "source": [
    "concussion_injuries['Name'] = new_names"
   ]
  },
  {
   "cell_type": "code",
   "execution_count": 43,
   "id": "230d92c0",
   "metadata": {},
   "outputs": [
    {
     "data": {
      "text/html": [
       "<div>\n",
       "<style scoped>\n",
       "    .dataframe tbody tr th:only-of-type {\n",
       "        vertical-align: middle;\n",
       "    }\n",
       "\n",
       "    .dataframe tbody tr th {\n",
       "        vertical-align: top;\n",
       "    }\n",
       "\n",
       "    .dataframe thead th {\n",
       "        text-align: right;\n",
       "    }\n",
       "</style>\n",
       "<table border=\"1\" class=\"dataframe\">\n",
       "  <thead>\n",
       "    <tr style=\"text-align: right;\">\n",
       "      <th></th>\n",
       "      <th>ï»¿Season</th>\n",
       "      <th>Team</th>\n",
       "      <th>Position</th>\n",
       "      <th>Player</th>\n",
       "      <th>Injury Type</th>\n",
       "      <th>Cap Hit</th>\n",
       "      <th>Chip</th>\n",
       "      <th>Games Missed</th>\n",
       "      <th>Games Missed.1</th>\n",
       "      <th>Name</th>\n",
       "    </tr>\n",
       "  </thead>\n",
       "  <tbody>\n",
       "    <tr>\n",
       "      <th>17426</th>\n",
       "      <td>2019/20</td>\n",
       "      <td>Boston</td>\n",
       "      <td>G</td>\n",
       "      <td>Rask, Tuukka</td>\n",
       "      <td>Concussion</td>\n",
       "      <td>7.0</td>\n",
       "      <td>256.097561</td>\n",
       "      <td>3</td>\n",
       "      <td>3</td>\n",
       "      <td>Tuukka Rask</td>\n",
       "    </tr>\n",
       "    <tr>\n",
       "      <th>17436</th>\n",
       "      <td>2019/20</td>\n",
       "      <td>Buffalo</td>\n",
       "      <td>F</td>\n",
       "      <td>Okposo, Kyle</td>\n",
       "      <td>Concussion</td>\n",
       "      <td>6.0</td>\n",
       "      <td>731.707317</td>\n",
       "      <td>10</td>\n",
       "      <td>10</td>\n",
       "      <td>Kyle Okposo</td>\n",
       "    </tr>\n",
       "  </tbody>\n",
       "</table>\n",
       "</div>"
      ],
      "text/plain": [
       "      ï»¿Season     Team Position        Player Injury Type  Cap Hit  \\\n",
       "17426   2019/20   Boston        G  Rask, Tuukka  Concussion      7.0   \n",
       "17436   2019/20  Buffalo        F  Okposo, Kyle  Concussion      6.0   \n",
       "\n",
       "             Chip  Games Missed  Games Missed.1         Name  \n",
       "17426  256.097561             3               3  Tuukka Rask  \n",
       "17436  731.707317            10              10  Kyle Okposo  "
      ]
     },
     "execution_count": 43,
     "metadata": {},
     "output_type": "execute_result"
    }
   ],
   "source": [
    "concussion_injuries.head(2)"
   ]
  },
  {
   "cell_type": "code",
   "execution_count": 44,
   "id": "7cf6c118",
   "metadata": {},
   "outputs": [],
   "source": [
    "# remove white space from player name\n",
    "nhl_19_20['playername'] = nhl_19_20['playername'].map(lambda x: x.strip())"
   ]
  },
  {
   "cell_type": "code",
   "execution_count": 45,
   "id": "c9011935",
   "metadata": {},
   "outputs": [],
   "source": [
    "# join 2 datasets \n",
    "joined_data = nhl_19_20.merge(concussion_injuries['Name'],\n",
    "                        how='left', left_on='playername',\n",
    "                        right_on='Name')"
   ]
  },
  {
   "cell_type": "code",
   "execution_count": 46,
   "id": "1ae49ab7",
   "metadata": {},
   "outputs": [],
   "source": [
    "# fill in missing values with 0 \n",
    "joined_data.fillna(0, inplace=True)"
   ]
  },
  {
   "cell_type": "code",
   "execution_count": 47,
   "id": "daa20fd2",
   "metadata": {},
   "outputs": [],
   "source": [
    "# create concussion column \n",
    "import numpy as np \n",
    "\n",
    "joined_data['Concussion'] = np.where(joined_data['Name'] == 0, 0, 1)"
   ]
  },
  {
   "cell_type": "code",
   "execution_count": 48,
   "id": "5e303076",
   "metadata": {},
   "outputs": [],
   "source": [
    "# column I chose - not necessarily the columns you should use \n",
    "final_df = joined_data[['player', 'team', 'gp', 'g', 'a', 'tp', 'ppg', 'pim', '+/-', \n",
    " 'position', 'fw_def','Concussion']]"
   ]
  },
  {
   "cell_type": "code",
   "execution_count": 49,
   "id": "7f06d80a",
   "metadata": {},
   "outputs": [
    {
     "data": {
      "text/html": [
       "<div>\n",
       "<style scoped>\n",
       "    .dataframe tbody tr th:only-of-type {\n",
       "        vertical-align: middle;\n",
       "    }\n",
       "\n",
       "    .dataframe tbody tr th {\n",
       "        vertical-align: top;\n",
       "    }\n",
       "\n",
       "    .dataframe thead th {\n",
       "        text-align: right;\n",
       "    }\n",
       "</style>\n",
       "<table border=\"1\" class=\"dataframe\">\n",
       "  <thead>\n",
       "    <tr style=\"text-align: right;\">\n",
       "      <th></th>\n",
       "      <th>player</th>\n",
       "      <th>team</th>\n",
       "      <th>gp</th>\n",
       "      <th>g</th>\n",
       "      <th>a</th>\n",
       "      <th>tp</th>\n",
       "      <th>ppg</th>\n",
       "      <th>pim</th>\n",
       "      <th>+/-</th>\n",
       "      <th>position</th>\n",
       "      <th>fw_def</th>\n",
       "      <th>Concussion</th>\n",
       "    </tr>\n",
       "  </thead>\n",
       "  <tbody>\n",
       "    <tr>\n",
       "      <th>0</th>\n",
       "      <td>Leon Draisaitl (C/W)</td>\n",
       "      <td>Edmonton Oilers</td>\n",
       "      <td>71</td>\n",
       "      <td>43</td>\n",
       "      <td>67</td>\n",
       "      <td>110</td>\n",
       "      <td>1.55</td>\n",
       "      <td>18</td>\n",
       "      <td>-7</td>\n",
       "      <td>C/W</td>\n",
       "      <td>FW</td>\n",
       "      <td>0</td>\n",
       "    </tr>\n",
       "    <tr>\n",
       "      <th>1</th>\n",
       "      <td>Connor McDavid (C)</td>\n",
       "      <td>Edmonton Oilers</td>\n",
       "      <td>64</td>\n",
       "      <td>34</td>\n",
       "      <td>63</td>\n",
       "      <td>97</td>\n",
       "      <td>1.52</td>\n",
       "      <td>28</td>\n",
       "      <td>-6</td>\n",
       "      <td>C</td>\n",
       "      <td>FW</td>\n",
       "      <td>0</td>\n",
       "    </tr>\n",
       "    <tr>\n",
       "      <th>2</th>\n",
       "      <td>David Pastrnak (RW)</td>\n",
       "      <td>Boston Bruins</td>\n",
       "      <td>70</td>\n",
       "      <td>48</td>\n",
       "      <td>47</td>\n",
       "      <td>95</td>\n",
       "      <td>1.36</td>\n",
       "      <td>40</td>\n",
       "      <td>21</td>\n",
       "      <td>RW</td>\n",
       "      <td>FW</td>\n",
       "      <td>0</td>\n",
       "    </tr>\n",
       "    <tr>\n",
       "      <th>3</th>\n",
       "      <td>Artemi Panarin (LW)</td>\n",
       "      <td>New York Rangers</td>\n",
       "      <td>69</td>\n",
       "      <td>32</td>\n",
       "      <td>63</td>\n",
       "      <td>95</td>\n",
       "      <td>1.38</td>\n",
       "      <td>20</td>\n",
       "      <td>36</td>\n",
       "      <td>LW</td>\n",
       "      <td>FW</td>\n",
       "      <td>0</td>\n",
       "    </tr>\n",
       "    <tr>\n",
       "      <th>4</th>\n",
       "      <td>Nathan MacKinnon (C/RW)</td>\n",
       "      <td>Colorado Avalanche</td>\n",
       "      <td>69</td>\n",
       "      <td>35</td>\n",
       "      <td>58</td>\n",
       "      <td>93</td>\n",
       "      <td>1.35</td>\n",
       "      <td>12</td>\n",
       "      <td>13</td>\n",
       "      <td>C/RW</td>\n",
       "      <td>FW</td>\n",
       "      <td>0</td>\n",
       "    </tr>\n",
       "  </tbody>\n",
       "</table>\n",
       "</div>"
      ],
      "text/plain": [
       "                    player                team  gp   g   a   tp   ppg pim +/-  \\\n",
       "0     Leon Draisaitl (C/W)     Edmonton Oilers  71  43  67  110  1.55  18  -7   \n",
       "1       Connor McDavid (C)     Edmonton Oilers  64  34  63   97  1.52  28  -6   \n",
       "2      David Pastrnak (RW)       Boston Bruins  70  48  47   95  1.36  40  21   \n",
       "3      Artemi Panarin (LW)    New York Rangers  69  32  63   95  1.38  20  36   \n",
       "4  Nathan MacKinnon (C/RW)  Colorado Avalanche  69  35  58   93  1.35  12  13   \n",
       "\n",
       "  position fw_def  Concussion  \n",
       "0      C/W     FW           0  \n",
       "1        C     FW           0  \n",
       "2       RW     FW           0  \n",
       "3       LW     FW           0  \n",
       "4     C/RW     FW           0  "
      ]
     },
     "execution_count": 49,
     "metadata": {},
     "output_type": "execute_result"
    }
   ],
   "source": [
    "final_df.head()"
   ]
  },
  {
   "cell_type": "code",
   "execution_count": 50,
   "id": "bc7ad923",
   "metadata": {},
   "outputs": [
    {
     "data": {
      "text/plain": [
       "array(['2000/01', '2000/01 (playoffs)', '2001/02', '2001/02 (playoffs)',\n",
       "       '2002/03', '2002/03 (playoffs)', '2003/04', '2003/04 (playoffs)',\n",
       "       '2005/06', '2005/06 (playoffs)', '2006/07', '2006/07 (playoffs)',\n",
       "       '2007/08', '2007/08 (playoffs)', '2008/09', '2008/09 (playoffs)',\n",
       "       '2009/10', '2009/10 (playoffs)', '2010/11', '2010/11 (playoffs)',\n",
       "       '2011/12', '2011/12 (playoffs)', '2012/13', '2012/13 (playoffs)',\n",
       "       '2013/14', '2013/14 (playoffs)', '2014/15', '2014/15 (playoffs)',\n",
       "       '2015/16', '2015/16 (playoffs)', '2016/17', '2016/17 (playoffs)',\n",
       "       '2017/18', '2017/18 (playoffs)', '2018/19', '2018/19 (playoffs)',\n",
       "       '2019/20', '2019/20 (playoffs+)', '2020/21', '2020/21 (playoffs)',\n",
       "       '2021/22', '2021/22 (playoffs)', '2022/23'], dtype=object)"
      ]
     },
     "execution_count": 50,
     "metadata": {},
     "output_type": "execute_result"
    }
   ],
   "source": [
    "injuries['ï»¿Season'].unique()"
   ]
  },
  {
   "cell_type": "code",
   "execution_count": 51,
   "id": "bd750e2f",
   "metadata": {},
   "outputs": [
    {
     "data": {
      "text/html": [
       "<div>\n",
       "<style scoped>\n",
       "    .dataframe tbody tr th:only-of-type {\n",
       "        vertical-align: middle;\n",
       "    }\n",
       "\n",
       "    .dataframe tbody tr th {\n",
       "        vertical-align: top;\n",
       "    }\n",
       "\n",
       "    .dataframe thead th {\n",
       "        text-align: right;\n",
       "    }\n",
       "</style>\n",
       "<table border=\"1\" class=\"dataframe\">\n",
       "  <thead>\n",
       "    <tr style=\"text-align: right;\">\n",
       "      <th></th>\n",
       "      <th>player</th>\n",
       "      <th>team</th>\n",
       "      <th>gp</th>\n",
       "      <th>g</th>\n",
       "      <th>a</th>\n",
       "      <th>tp</th>\n",
       "      <th>ppg</th>\n",
       "      <th>pim</th>\n",
       "      <th>+/-</th>\n",
       "      <th>position</th>\n",
       "      <th>fw_def</th>\n",
       "      <th>Concussion</th>\n",
       "    </tr>\n",
       "  </thead>\n",
       "  <tbody>\n",
       "    <tr>\n",
       "      <th>0</th>\n",
       "      <td>Leon Draisaitl (C/W)</td>\n",
       "      <td>Edmonton Oilers</td>\n",
       "      <td>71</td>\n",
       "      <td>43</td>\n",
       "      <td>67</td>\n",
       "      <td>110</td>\n",
       "      <td>1.55</td>\n",
       "      <td>18</td>\n",
       "      <td>-7</td>\n",
       "      <td>C/W</td>\n",
       "      <td>FW</td>\n",
       "      <td>0</td>\n",
       "    </tr>\n",
       "    <tr>\n",
       "      <th>1</th>\n",
       "      <td>Connor McDavid (C)</td>\n",
       "      <td>Edmonton Oilers</td>\n",
       "      <td>64</td>\n",
       "      <td>34</td>\n",
       "      <td>63</td>\n",
       "      <td>97</td>\n",
       "      <td>1.52</td>\n",
       "      <td>28</td>\n",
       "      <td>-6</td>\n",
       "      <td>C</td>\n",
       "      <td>FW</td>\n",
       "      <td>0</td>\n",
       "    </tr>\n",
       "    <tr>\n",
       "      <th>2</th>\n",
       "      <td>David Pastrnak (RW)</td>\n",
       "      <td>Boston Bruins</td>\n",
       "      <td>70</td>\n",
       "      <td>48</td>\n",
       "      <td>47</td>\n",
       "      <td>95</td>\n",
       "      <td>1.36</td>\n",
       "      <td>40</td>\n",
       "      <td>21</td>\n",
       "      <td>RW</td>\n",
       "      <td>FW</td>\n",
       "      <td>0</td>\n",
       "    </tr>\n",
       "    <tr>\n",
       "      <th>3</th>\n",
       "      <td>Artemi Panarin (LW)</td>\n",
       "      <td>New York Rangers</td>\n",
       "      <td>69</td>\n",
       "      <td>32</td>\n",
       "      <td>63</td>\n",
       "      <td>95</td>\n",
       "      <td>1.38</td>\n",
       "      <td>20</td>\n",
       "      <td>36</td>\n",
       "      <td>LW</td>\n",
       "      <td>FW</td>\n",
       "      <td>0</td>\n",
       "    </tr>\n",
       "    <tr>\n",
       "      <th>4</th>\n",
       "      <td>Nathan MacKinnon (C/RW)</td>\n",
       "      <td>Colorado Avalanche</td>\n",
       "      <td>69</td>\n",
       "      <td>35</td>\n",
       "      <td>58</td>\n",
       "      <td>93</td>\n",
       "      <td>1.35</td>\n",
       "      <td>12</td>\n",
       "      <td>13</td>\n",
       "      <td>C/RW</td>\n",
       "      <td>FW</td>\n",
       "      <td>0</td>\n",
       "    </tr>\n",
       "  </tbody>\n",
       "</table>\n",
       "</div>"
      ],
      "text/plain": [
       "                    player                team  gp   g   a   tp   ppg pim +/-  \\\n",
       "0     Leon Draisaitl (C/W)     Edmonton Oilers  71  43  67  110  1.55  18  -7   \n",
       "1       Connor McDavid (C)     Edmonton Oilers  64  34  63   97  1.52  28  -6   \n",
       "2      David Pastrnak (RW)       Boston Bruins  70  48  47   95  1.36  40  21   \n",
       "3      Artemi Panarin (LW)    New York Rangers  69  32  63   95  1.38  20  36   \n",
       "4  Nathan MacKinnon (C/RW)  Colorado Avalanche  69  35  58   93  1.35  12  13   \n",
       "\n",
       "  position fw_def  Concussion  \n",
       "0      C/W     FW           0  \n",
       "1        C     FW           0  \n",
       "2       RW     FW           0  \n",
       "3       LW     FW           0  \n",
       "4     C/RW     FW           0  "
      ]
     },
     "execution_count": 51,
     "metadata": {},
     "output_type": "execute_result"
    }
   ],
   "source": [
    "final_df.head()"
   ]
  },
  {
   "cell_type": "code",
   "execution_count": 52,
   "id": "0467b630",
   "metadata": {},
   "outputs": [
    {
     "data": {
      "text/plain": [
       "0    872\n",
       "1     28\n",
       "Name: Concussion, dtype: int64"
      ]
     },
     "execution_count": 52,
     "metadata": {},
     "output_type": "execute_result"
    }
   ],
   "source": [
    "final_df['Concussion'].value_counts()"
   ]
  },
  {
   "cell_type": "code",
   "execution_count": 53,
   "id": "13269d1b",
   "metadata": {},
   "outputs": [
    {
     "name": "stderr",
     "output_type": "stream",
     "text": [
      "C:\\Users\\Jeff\\AppData\\Local\\Temp\\ipykernel_18400\\1977981380.py:1: SettingWithCopyWarning: \n",
      "A value is trying to be set on a copy of a slice from a DataFrame.\n",
      "Try using .loc[row_indexer,col_indexer] = value instead\n",
      "\n",
      "See the caveats in the documentation: https://pandas.pydata.org/pandas-docs/stable/user_guide/indexing.html#returning-a-view-versus-a-copy\n",
      "  final_df['pim'] = final_df['pim'].astype(int)\n"
     ]
    }
   ],
   "source": [
    "final_df['pim'] = final_df['pim'].astype(int)"
   ]
  },
  {
   "cell_type": "code",
   "execution_count": 54,
   "id": "b3854728",
   "metadata": {},
   "outputs": [
    {
     "data": {
      "text/plain": [
       "Concussion\n",
       "0    19.402523\n",
       "1    16.928571\n",
       "Name: pim, dtype: float64"
      ]
     },
     "execution_count": 54,
     "metadata": {},
     "output_type": "execute_result"
    }
   ],
   "source": [
    "final_df.groupby('Concussion')['pim'].mean()"
   ]
  },
  {
   "cell_type": "code",
   "execution_count": 55,
   "id": "a2bb70ac",
   "metadata": {},
   "outputs": [
    {
     "name": "stderr",
     "output_type": "stream",
     "text": [
      "C:\\Users\\Jeff\\AppData\\Local\\Temp\\ipykernel_18400\\3355596331.py:1: SettingWithCopyWarning: \n",
      "A value is trying to be set on a copy of a slice from a DataFrame.\n",
      "Try using .loc[row_indexer,col_indexer] = value instead\n",
      "\n",
      "See the caveats in the documentation: https://pandas.pydata.org/pandas-docs/stable/user_guide/indexing.html#returning-a-view-versus-a-copy\n",
      "  final_df['gp'] = final_df['gp'].astype(int)\n"
     ]
    }
   ],
   "source": [
    "final_df['gp'] = final_df['gp'].astype(int)"
   ]
  },
  {
   "cell_type": "code",
   "execution_count": 57,
   "id": "c9623be1",
   "metadata": {},
   "outputs": [
    {
     "data": {
      "text/html": [
       "<div>\n",
       "<style scoped>\n",
       "    .dataframe tbody tr th:only-of-type {\n",
       "        vertical-align: middle;\n",
       "    }\n",
       "\n",
       "    .dataframe tbody tr th {\n",
       "        vertical-align: top;\n",
       "    }\n",
       "\n",
       "    .dataframe thead th {\n",
       "        text-align: right;\n",
       "    }\n",
       "</style>\n",
       "<table border=\"1\" class=\"dataframe\">\n",
       "  <thead>\n",
       "    <tr style=\"text-align: right;\">\n",
       "      <th></th>\n",
       "      <th>player</th>\n",
       "      <th>team</th>\n",
       "      <th>gp</th>\n",
       "      <th>g</th>\n",
       "      <th>a</th>\n",
       "      <th>tp</th>\n",
       "      <th>ppg</th>\n",
       "      <th>pim</th>\n",
       "      <th>+/-</th>\n",
       "      <th>position</th>\n",
       "      <th>fw_def</th>\n",
       "      <th>Concussion</th>\n",
       "    </tr>\n",
       "  </thead>\n",
       "  <tbody>\n",
       "    <tr>\n",
       "      <th>0</th>\n",
       "      <td>Leon Draisaitl (C/W)</td>\n",
       "      <td>Edmonton Oilers</td>\n",
       "      <td>71</td>\n",
       "      <td>43</td>\n",
       "      <td>67</td>\n",
       "      <td>110</td>\n",
       "      <td>1.55</td>\n",
       "      <td>18</td>\n",
       "      <td>-7</td>\n",
       "      <td>C/W</td>\n",
       "      <td>FW</td>\n",
       "      <td>0</td>\n",
       "    </tr>\n",
       "    <tr>\n",
       "      <th>1</th>\n",
       "      <td>Connor McDavid (C)</td>\n",
       "      <td>Edmonton Oilers</td>\n",
       "      <td>64</td>\n",
       "      <td>34</td>\n",
       "      <td>63</td>\n",
       "      <td>97</td>\n",
       "      <td>1.52</td>\n",
       "      <td>28</td>\n",
       "      <td>-6</td>\n",
       "      <td>C</td>\n",
       "      <td>FW</td>\n",
       "      <td>0</td>\n",
       "    </tr>\n",
       "    <tr>\n",
       "      <th>2</th>\n",
       "      <td>David Pastrnak (RW)</td>\n",
       "      <td>Boston Bruins</td>\n",
       "      <td>70</td>\n",
       "      <td>48</td>\n",
       "      <td>47</td>\n",
       "      <td>95</td>\n",
       "      <td>1.36</td>\n",
       "      <td>40</td>\n",
       "      <td>21</td>\n",
       "      <td>RW</td>\n",
       "      <td>FW</td>\n",
       "      <td>0</td>\n",
       "    </tr>\n",
       "    <tr>\n",
       "      <th>3</th>\n",
       "      <td>Artemi Panarin (LW)</td>\n",
       "      <td>New York Rangers</td>\n",
       "      <td>69</td>\n",
       "      <td>32</td>\n",
       "      <td>63</td>\n",
       "      <td>95</td>\n",
       "      <td>1.38</td>\n",
       "      <td>20</td>\n",
       "      <td>36</td>\n",
       "      <td>LW</td>\n",
       "      <td>FW</td>\n",
       "      <td>0</td>\n",
       "    </tr>\n",
       "    <tr>\n",
       "      <th>4</th>\n",
       "      <td>Nathan MacKinnon (C/RW)</td>\n",
       "      <td>Colorado Avalanche</td>\n",
       "      <td>69</td>\n",
       "      <td>35</td>\n",
       "      <td>58</td>\n",
       "      <td>93</td>\n",
       "      <td>1.35</td>\n",
       "      <td>12</td>\n",
       "      <td>13</td>\n",
       "      <td>C/RW</td>\n",
       "      <td>FW</td>\n",
       "      <td>0</td>\n",
       "    </tr>\n",
       "  </tbody>\n",
       "</table>\n",
       "</div>"
      ],
      "text/plain": [
       "                    player                team  gp   g   a   tp   ppg  pim  \\\n",
       "0     Leon Draisaitl (C/W)     Edmonton Oilers  71  43  67  110  1.55   18   \n",
       "1       Connor McDavid (C)     Edmonton Oilers  64  34  63   97  1.52   28   \n",
       "2      David Pastrnak (RW)       Boston Bruins  70  48  47   95  1.36   40   \n",
       "3      Artemi Panarin (LW)    New York Rangers  69  32  63   95  1.38   20   \n",
       "4  Nathan MacKinnon (C/RW)  Colorado Avalanche  69  35  58   93  1.35   12   \n",
       "\n",
       "  +/- position fw_def  Concussion  \n",
       "0  -7      C/W     FW           0  \n",
       "1  -6        C     FW           0  \n",
       "2  21       RW     FW           0  \n",
       "3  36       LW     FW           0  \n",
       "4  13     C/RW     FW           0  "
      ]
     },
     "execution_count": 57,
     "metadata": {},
     "output_type": "execute_result"
    }
   ],
   "source": [
    "final_df.head()"
   ]
  },
  {
   "cell_type": "code",
   "execution_count": 58,
   "id": "e2581c10",
   "metadata": {},
   "outputs": [
    {
     "name": "stdout",
     "output_type": "stream",
     "text": [
      "<class 'pandas.core.frame.DataFrame'>\n",
      "Int64Index: 900 entries, 0 to 899\n",
      "Data columns (total 12 columns):\n",
      " #   Column      Non-Null Count  Dtype \n",
      "---  ------      --------------  ----- \n",
      " 0   player      900 non-null    object\n",
      " 1   team        900 non-null    object\n",
      " 2   gp          900 non-null    int32 \n",
      " 3   g           900 non-null    object\n",
      " 4   a           900 non-null    object\n",
      " 5   tp          900 non-null    object\n",
      " 6   ppg         900 non-null    object\n",
      " 7   pim         900 non-null    int32 \n",
      " 8   +/-         900 non-null    object\n",
      " 9   position    900 non-null    object\n",
      " 10  fw_def      900 non-null    object\n",
      " 11  Concussion  900 non-null    int32 \n",
      "dtypes: int32(3), object(9)\n",
      "memory usage: 80.9+ KB\n"
     ]
    }
   ],
   "source": [
    "final_df.info()"
   ]
  },
  {
   "cell_type": "code",
   "execution_count": 60,
   "id": "5c1b66c9",
   "metadata": {},
   "outputs": [],
   "source": [
    "# final_df.groupby('Concussion')['position'].mean()"
   ]
  },
  {
   "cell_type": "code",
   "execution_count": 62,
   "id": "0b39e5ec",
   "metadata": {},
   "outputs": [
    {
     "data": {
      "text/plain": [
       "(900, 12)"
      ]
     },
     "execution_count": 62,
     "metadata": {},
     "output_type": "execute_result"
    }
   ],
   "source": [
    "final_df.shape"
   ]
  },
  {
   "cell_type": "code",
   "execution_count": null,
   "id": "71659ad9",
   "metadata": {},
   "outputs": [],
   "source": [
    "final_df.info()"
   ]
  },
  {
   "cell_type": "code",
   "execution_count": null,
   "id": "6b825f63",
   "metadata": {},
   "outputs": [],
   "source": [
    "final_df.head()"
   ]
  },
  {
   "cell_type": "code",
   "execution_count": null,
   "id": "8e3f7fc8",
   "metadata": {},
   "outputs": [],
   "source": [
    "final_df[final_df['Concussion'] == 1]['fw_def'].value_counts(normalize=True)"
   ]
  },
  {
   "cell_type": "markdown",
   "id": "882bf511",
   "metadata": {},
   "source": [
    "# Data Understanding"
   ]
  },
  {
   "cell_type": "markdown",
   "id": "57bd9b29",
   "metadata": {},
   "source": [
    "What data is available to us? Where does it live? Do we have the data, or can we scrape/buy/source the data from somewhere else?\n",
    "Who controls the data sources, and what steps are needed to get access to the data?\n",
    "What is our target?\n",
    "What predictors are available to us?\n",
    "What data types are the predictors we'll be working with?\n",
    "What is the distribution of our data?\n",
    "How many observations does our dataset contain? Do we have a lot of data? Only a little?\n",
    "Do we have enough data to build a model? Will we need to use resampling methods?\n",
    "How do we know the data is correct? How is the data collected? Is there a chance the data could be wrong?"
   ]
  },
  {
   "cell_type": "markdown",
   "id": "a1d44498",
   "metadata": {},
   "source": [
    "# Data Preparation"
   ]
  },
  {
   "cell_type": "markdown",
   "id": "a5d81b40",
   "metadata": {},
   "source": [
    "Detecting and dealing with missing values\n",
    "Data type conversions (e.g. numeric data mistakenly encoded as strings)\n",
    "Checking for and removing multicollinearity (correlated predictors)\n",
    "Normalizing our numeric data\n",
    "Converting categorical data to numeric format through one-hot encodin"
   ]
  },
  {
   "cell_type": "markdown",
   "id": "7f0601cd",
   "metadata": {},
   "source": [
    "# Modeling "
   ]
  },
  {
   "cell_type": "markdown",
   "id": "66559051",
   "metadata": {},
   "source": [
    "Detecting and dealing with missing values\n",
    "Data type conversions (e.g. numeric data mistakenly encoded as strings)\n",
    "Checking for and removing multicollinearity (correlated predictors)\n",
    "Normalizing our numeric data\n",
    "Converting categorical data to numeric format through one-hot encodin"
   ]
  },
  {
   "cell_type": "markdown",
   "id": "0b00b5fe",
   "metadata": {},
   "source": [
    "# Evaluation"
   ]
  },
  {
   "cell_type": "markdown",
   "id": "0692bb20",
   "metadata": {},
   "source": [
    "During this step, we'll evaluate the results of our modeling efforts. Does our model solve the problems that we outlined all the way back during step 1? Why or why not?"
   ]
  },
  {
   "cell_type": "markdown",
   "id": "d2b20bd4",
   "metadata": {},
   "source": [
    "# 1. Obtain"
   ]
  },
  {
   "cell_type": "markdown",
   "id": "68a63005",
   "metadata": {},
   "source": [
    "# 2. Scrub"
   ]
  },
  {
   "cell_type": "markdown",
   "id": "8f175fd6",
   "metadata": {},
   "source": [
    "# 3. Explore"
   ]
  },
  {
   "cell_type": "markdown",
   "id": "8dc40f9e",
   "metadata": {},
   "source": [
    "# 4. Model"
   ]
  },
  {
   "cell_type": "markdown",
   "id": "a537b30c",
   "metadata": {},
   "source": [
    "# 5. Interpret"
   ]
  }
 ],
 "metadata": {
  "kernelspec": {
   "display_name": "Python 3 (ipykernel)",
   "language": "python",
   "name": "python3"
  },
  "language_info": {
   "codemirror_mode": {
    "name": "ipython",
    "version": 3
   },
   "file_extension": ".py",
   "mimetype": "text/x-python",
   "name": "python",
   "nbconvert_exporter": "python",
   "pygments_lexer": "ipython3",
   "version": "3.9.12"
  }
 },
 "nbformat": 4,
 "nbformat_minor": 5
}
