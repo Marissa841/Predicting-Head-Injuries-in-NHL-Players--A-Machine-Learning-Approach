{
 "cells": [
  {
   "cell_type": "markdown",
   "id": "62cebdcf",
   "metadata": {},
   "source": [
    "# Business Problem"
   ]
  },
  {
   "cell_type": "markdown",
   "id": "a080dcde",
   "metadata": {},
   "source": [
    "Who are the stakeholders in this project? Who will be directly affected by the creation of this project?\n",
    "\n",
    "A NHL team\n",
    "\n",
    "What business problem(s) will this Data Science project solve for the organization?\n",
    "\n",
    "An NHL team is looking to determine who is likely, or more likely to suffer a concussion based on past performance and information. \n",
    "\n",
    "What problems are inside the scope of this project?\n",
    "\n",
    "What problems are outside the scope of this project?\n",
    "\n",
    "What data sources are available to us?\n",
    "\n",
    "Eliteprospect_scraper package and a csv of nhl injuries\n",
    "\n",
    "What is the expected timeline for this project? Are there hard deadlines (e.g. \"must be live before holiday season shopping\") or is this an ongoing project?\n",
    "\n",
    "Finish bones of project by 1/17/2023\n",
    "\n",
    "Do stakeholders from different parts of the company or organization all have the exact same understanding about what this project is and isn't?"
   ]
  },
  {
   "cell_type": "code",
   "execution_count": 3,
   "id": "3925afb9",
   "metadata": {},
   "outputs": [],
   "source": [
    "import pandas as pd\n",
    "import numpy as np\n",
    "\n",
    "\n",
    "\n",
    "\n",
    "import eliteprospect.eliteprospect_scraper as ep\n"
   ]
  },
  {
   "cell_type": "code",
   "execution_count": 39,
   "id": "a46afe76",
   "metadata": {
    "scrolled": false
   },
   "outputs": [
    {
     "name": "stdout",
     "output_type": "stream",
     "text": [
      "Running on year: 2000-01\n"
     ]
    },
    {
     "name": "stderr",
     "output_type": "stream",
     "text": [
      "C:\\Users\\Jeff\\anaconda3\\lib\\site-packages\\eliteprospect\\eliteprospect_scraper.py:86: FutureWarning: The default value of regex will change from True to False in a future version.\n",
      "  df_players['playername'] = df_players['player'].str.replace(r\"\\(.*\\)\",\"\")\n",
      "C:\\Users\\Jeff\\AppData\\Local\\Temp\\ipykernel_16732\\3515075287.py:25: SettingWithCopyWarning: \n",
      "A value is trying to be set on a copy of a slice from a DataFrame.\n",
      "Try using .loc[row_indexer,col_indexer] = value instead\n",
      "\n",
      "See the caveats in the documentation: https://pandas.pydata.org/pandas-docs/stable/user_guide/indexing.html#returning-a-view-versus-a-copy\n",
      "  concussion_injuries['Name'] = new_names\n"
     ]
    },
    {
     "name": "stdout",
     "output_type": "stream",
     "text": [
      "Running on year: 2001-02\n"
     ]
    },
    {
     "name": "stderr",
     "output_type": "stream",
     "text": [
      "C:\\Users\\Jeff\\anaconda3\\lib\\site-packages\\eliteprospect\\eliteprospect_scraper.py:86: FutureWarning: The default value of regex will change from True to False in a future version.\n",
      "  df_players['playername'] = df_players['player'].str.replace(r\"\\(.*\\)\",\"\")\n",
      "C:\\Users\\Jeff\\AppData\\Local\\Temp\\ipykernel_16732\\3515075287.py:25: SettingWithCopyWarning: \n",
      "A value is trying to be set on a copy of a slice from a DataFrame.\n",
      "Try using .loc[row_indexer,col_indexer] = value instead\n",
      "\n",
      "See the caveats in the documentation: https://pandas.pydata.org/pandas-docs/stable/user_guide/indexing.html#returning-a-view-versus-a-copy\n",
      "  concussion_injuries['Name'] = new_names\n"
     ]
    },
    {
     "name": "stdout",
     "output_type": "stream",
     "text": [
      "Running on year: 2002-03\n"
     ]
    },
    {
     "name": "stderr",
     "output_type": "stream",
     "text": [
      "C:\\Users\\Jeff\\anaconda3\\lib\\site-packages\\eliteprospect\\eliteprospect_scraper.py:86: FutureWarning: The default value of regex will change from True to False in a future version.\n",
      "  df_players['playername'] = df_players['player'].str.replace(r\"\\(.*\\)\",\"\")\n",
      "C:\\Users\\Jeff\\AppData\\Local\\Temp\\ipykernel_16732\\3515075287.py:25: SettingWithCopyWarning: \n",
      "A value is trying to be set on a copy of a slice from a DataFrame.\n",
      "Try using .loc[row_indexer,col_indexer] = value instead\n",
      "\n",
      "See the caveats in the documentation: https://pandas.pydata.org/pandas-docs/stable/user_guide/indexing.html#returning-a-view-versus-a-copy\n",
      "  concussion_injuries['Name'] = new_names\n"
     ]
    },
    {
     "name": "stdout",
     "output_type": "stream",
     "text": [
      "Running on year: 2003-04\n"
     ]
    },
    {
     "name": "stderr",
     "output_type": "stream",
     "text": [
      "C:\\Users\\Jeff\\anaconda3\\lib\\site-packages\\eliteprospect\\eliteprospect_scraper.py:86: FutureWarning: The default value of regex will change from True to False in a future version.\n",
      "  df_players['playername'] = df_players['player'].str.replace(r\"\\(.*\\)\",\"\")\n"
     ]
    },
    {
     "name": "stdout",
     "output_type": "stream",
     "text": [
      "Running on year: 2004-05\n"
     ]
    },
    {
     "name": "stderr",
     "output_type": "stream",
     "text": [
      "C:\\Users\\Jeff\\anaconda3\\lib\\site-packages\\eliteprospect\\eliteprospect_scraper.py:86: FutureWarning: The default value of regex will change from True to False in a future version.\n",
      "  df_players['playername'] = df_players['player'].str.replace(r\"\\(.*\\)\",\"\")\n",
      "C:\\Users\\Jeff\\AppData\\Local\\Temp\\ipykernel_16732\\3515075287.py:25: SettingWithCopyWarning: \n",
      "A value is trying to be set on a copy of a slice from a DataFrame.\n",
      "Try using .loc[row_indexer,col_indexer] = value instead\n",
      "\n",
      "See the caveats in the documentation: https://pandas.pydata.org/pandas-docs/stable/user_guide/indexing.html#returning-a-view-versus-a-copy\n",
      "  concussion_injuries['Name'] = new_names\n"
     ]
    },
    {
     "name": "stdout",
     "output_type": "stream",
     "text": [
      "Running on year: 2005-06\n"
     ]
    },
    {
     "name": "stderr",
     "output_type": "stream",
     "text": [
      "C:\\Users\\Jeff\\anaconda3\\lib\\site-packages\\eliteprospect\\eliteprospect_scraper.py:86: FutureWarning: The default value of regex will change from True to False in a future version.\n",
      "  df_players['playername'] = df_players['player'].str.replace(r\"\\(.*\\)\",\"\")\n",
      "C:\\Users\\Jeff\\AppData\\Local\\Temp\\ipykernel_16732\\3515075287.py:25: SettingWithCopyWarning: \n",
      "A value is trying to be set on a copy of a slice from a DataFrame.\n",
      "Try using .loc[row_indexer,col_indexer] = value instead\n",
      "\n",
      "See the caveats in the documentation: https://pandas.pydata.org/pandas-docs/stable/user_guide/indexing.html#returning-a-view-versus-a-copy\n",
      "  concussion_injuries['Name'] = new_names\n"
     ]
    },
    {
     "name": "stdout",
     "output_type": "stream",
     "text": [
      "Running on year: 2006-07\n"
     ]
    },
    {
     "name": "stderr",
     "output_type": "stream",
     "text": [
      "C:\\Users\\Jeff\\anaconda3\\lib\\site-packages\\eliteprospect\\eliteprospect_scraper.py:86: FutureWarning: The default value of regex will change from True to False in a future version.\n",
      "  df_players['playername'] = df_players['player'].str.replace(r\"\\(.*\\)\",\"\")\n",
      "C:\\Users\\Jeff\\AppData\\Local\\Temp\\ipykernel_16732\\3515075287.py:25: SettingWithCopyWarning: \n",
      "A value is trying to be set on a copy of a slice from a DataFrame.\n",
      "Try using .loc[row_indexer,col_indexer] = value instead\n",
      "\n",
      "See the caveats in the documentation: https://pandas.pydata.org/pandas-docs/stable/user_guide/indexing.html#returning-a-view-versus-a-copy\n",
      "  concussion_injuries['Name'] = new_names\n"
     ]
    },
    {
     "name": "stdout",
     "output_type": "stream",
     "text": [
      "Running on year: 2007-08\n"
     ]
    },
    {
     "name": "stderr",
     "output_type": "stream",
     "text": [
      "C:\\Users\\Jeff\\anaconda3\\lib\\site-packages\\eliteprospect\\eliteprospect_scraper.py:86: FutureWarning: The default value of regex will change from True to False in a future version.\n",
      "  df_players['playername'] = df_players['player'].str.replace(r\"\\(.*\\)\",\"\")\n",
      "C:\\Users\\Jeff\\AppData\\Local\\Temp\\ipykernel_16732\\3515075287.py:25: SettingWithCopyWarning: \n",
      "A value is trying to be set on a copy of a slice from a DataFrame.\n",
      "Try using .loc[row_indexer,col_indexer] = value instead\n",
      "\n",
      "See the caveats in the documentation: https://pandas.pydata.org/pandas-docs/stable/user_guide/indexing.html#returning-a-view-versus-a-copy\n",
      "  concussion_injuries['Name'] = new_names\n"
     ]
    },
    {
     "name": "stdout",
     "output_type": "stream",
     "text": [
      "Running on year: 2008-09\n"
     ]
    },
    {
     "name": "stderr",
     "output_type": "stream",
     "text": [
      "C:\\Users\\Jeff\\anaconda3\\lib\\site-packages\\eliteprospect\\eliteprospect_scraper.py:86: FutureWarning: The default value of regex will change from True to False in a future version.\n",
      "  df_players['playername'] = df_players['player'].str.replace(r\"\\(.*\\)\",\"\")\n",
      "C:\\Users\\Jeff\\AppData\\Local\\Temp\\ipykernel_16732\\3515075287.py:25: SettingWithCopyWarning: \n",
      "A value is trying to be set on a copy of a slice from a DataFrame.\n",
      "Try using .loc[row_indexer,col_indexer] = value instead\n",
      "\n",
      "See the caveats in the documentation: https://pandas.pydata.org/pandas-docs/stable/user_guide/indexing.html#returning-a-view-versus-a-copy\n",
      "  concussion_injuries['Name'] = new_names\n"
     ]
    },
    {
     "name": "stdout",
     "output_type": "stream",
     "text": [
      "Running on year: 2009-10\n"
     ]
    },
    {
     "name": "stderr",
     "output_type": "stream",
     "text": [
      "C:\\Users\\Jeff\\anaconda3\\lib\\site-packages\\eliteprospect\\eliteprospect_scraper.py:86: FutureWarning: The default value of regex will change from True to False in a future version.\n",
      "  df_players['playername'] = df_players['player'].str.replace(r\"\\(.*\\)\",\"\")\n",
      "C:\\Users\\Jeff\\AppData\\Local\\Temp\\ipykernel_16732\\3515075287.py:25: SettingWithCopyWarning: \n",
      "A value is trying to be set on a copy of a slice from a DataFrame.\n",
      "Try using .loc[row_indexer,col_indexer] = value instead\n",
      "\n",
      "See the caveats in the documentation: https://pandas.pydata.org/pandas-docs/stable/user_guide/indexing.html#returning-a-view-versus-a-copy\n",
      "  concussion_injuries['Name'] = new_names\n"
     ]
    },
    {
     "name": "stdout",
     "output_type": "stream",
     "text": [
      "Running on year: 2010-11\n"
     ]
    },
    {
     "name": "stderr",
     "output_type": "stream",
     "text": [
      "C:\\Users\\Jeff\\anaconda3\\lib\\site-packages\\eliteprospect\\eliteprospect_scraper.py:86: FutureWarning: The default value of regex will change from True to False in a future version.\n",
      "  df_players['playername'] = df_players['player'].str.replace(r\"\\(.*\\)\",\"\")\n",
      "C:\\Users\\Jeff\\AppData\\Local\\Temp\\ipykernel_16732\\3515075287.py:25: SettingWithCopyWarning: \n",
      "A value is trying to be set on a copy of a slice from a DataFrame.\n",
      "Try using .loc[row_indexer,col_indexer] = value instead\n",
      "\n",
      "See the caveats in the documentation: https://pandas.pydata.org/pandas-docs/stable/user_guide/indexing.html#returning-a-view-versus-a-copy\n",
      "  concussion_injuries['Name'] = new_names\n"
     ]
    },
    {
     "name": "stdout",
     "output_type": "stream",
     "text": [
      "Running on year: 2011-12\n"
     ]
    },
    {
     "name": "stderr",
     "output_type": "stream",
     "text": [
      "C:\\Users\\Jeff\\anaconda3\\lib\\site-packages\\eliteprospect\\eliteprospect_scraper.py:86: FutureWarning: The default value of regex will change from True to False in a future version.\n",
      "  df_players['playername'] = df_players['player'].str.replace(r\"\\(.*\\)\",\"\")\n",
      "C:\\Users\\Jeff\\AppData\\Local\\Temp\\ipykernel_16732\\3515075287.py:25: SettingWithCopyWarning: \n",
      "A value is trying to be set on a copy of a slice from a DataFrame.\n",
      "Try using .loc[row_indexer,col_indexer] = value instead\n",
      "\n",
      "See the caveats in the documentation: https://pandas.pydata.org/pandas-docs/stable/user_guide/indexing.html#returning-a-view-versus-a-copy\n",
      "  concussion_injuries['Name'] = new_names\n"
     ]
    },
    {
     "name": "stdout",
     "output_type": "stream",
     "text": [
      "Running on year: 2012-13\n"
     ]
    },
    {
     "name": "stderr",
     "output_type": "stream",
     "text": [
      "C:\\Users\\Jeff\\anaconda3\\lib\\site-packages\\eliteprospect\\eliteprospect_scraper.py:86: FutureWarning: The default value of regex will change from True to False in a future version.\n",
      "  df_players['playername'] = df_players['player'].str.replace(r\"\\(.*\\)\",\"\")\n",
      "C:\\Users\\Jeff\\AppData\\Local\\Temp\\ipykernel_16732\\3515075287.py:25: SettingWithCopyWarning: \n",
      "A value is trying to be set on a copy of a slice from a DataFrame.\n",
      "Try using .loc[row_indexer,col_indexer] = value instead\n",
      "\n",
      "See the caveats in the documentation: https://pandas.pydata.org/pandas-docs/stable/user_guide/indexing.html#returning-a-view-versus-a-copy\n",
      "  concussion_injuries['Name'] = new_names\n"
     ]
    },
    {
     "name": "stdout",
     "output_type": "stream",
     "text": [
      "Running on year: 2013-14\n"
     ]
    },
    {
     "name": "stderr",
     "output_type": "stream",
     "text": [
      "C:\\Users\\Jeff\\anaconda3\\lib\\site-packages\\eliteprospect\\eliteprospect_scraper.py:86: FutureWarning: The default value of regex will change from True to False in a future version.\n",
      "  df_players['playername'] = df_players['player'].str.replace(r\"\\(.*\\)\",\"\")\n",
      "C:\\Users\\Jeff\\AppData\\Local\\Temp\\ipykernel_16732\\3515075287.py:25: SettingWithCopyWarning: \n",
      "A value is trying to be set on a copy of a slice from a DataFrame.\n",
      "Try using .loc[row_indexer,col_indexer] = value instead\n",
      "\n",
      "See the caveats in the documentation: https://pandas.pydata.org/pandas-docs/stable/user_guide/indexing.html#returning-a-view-versus-a-copy\n",
      "  concussion_injuries['Name'] = new_names\n"
     ]
    },
    {
     "name": "stdout",
     "output_type": "stream",
     "text": [
      "Running on year: 2014-15\n"
     ]
    },
    {
     "name": "stderr",
     "output_type": "stream",
     "text": [
      "C:\\Users\\Jeff\\anaconda3\\lib\\site-packages\\eliteprospect\\eliteprospect_scraper.py:86: FutureWarning: The default value of regex will change from True to False in a future version.\n",
      "  df_players['playername'] = df_players['player'].str.replace(r\"\\(.*\\)\",\"\")\n",
      "C:\\Users\\Jeff\\AppData\\Local\\Temp\\ipykernel_16732\\3515075287.py:25: SettingWithCopyWarning: \n",
      "A value is trying to be set on a copy of a slice from a DataFrame.\n",
      "Try using .loc[row_indexer,col_indexer] = value instead\n",
      "\n",
      "See the caveats in the documentation: https://pandas.pydata.org/pandas-docs/stable/user_guide/indexing.html#returning-a-view-versus-a-copy\n",
      "  concussion_injuries['Name'] = new_names\n"
     ]
    },
    {
     "name": "stdout",
     "output_type": "stream",
     "text": [
      "Running on year: 2015-16\n"
     ]
    },
    {
     "name": "stderr",
     "output_type": "stream",
     "text": [
      "C:\\Users\\Jeff\\anaconda3\\lib\\site-packages\\eliteprospect\\eliteprospect_scraper.py:86: FutureWarning: The default value of regex will change from True to False in a future version.\n",
      "  df_players['playername'] = df_players['player'].str.replace(r\"\\(.*\\)\",\"\")\n",
      "C:\\Users\\Jeff\\AppData\\Local\\Temp\\ipykernel_16732\\3515075287.py:25: SettingWithCopyWarning: \n",
      "A value is trying to be set on a copy of a slice from a DataFrame.\n",
      "Try using .loc[row_indexer,col_indexer] = value instead\n",
      "\n",
      "See the caveats in the documentation: https://pandas.pydata.org/pandas-docs/stable/user_guide/indexing.html#returning-a-view-versus-a-copy\n",
      "  concussion_injuries['Name'] = new_names\n"
     ]
    },
    {
     "name": "stdout",
     "output_type": "stream",
     "text": [
      "Running on year: 2016-17\n"
     ]
    },
    {
     "name": "stderr",
     "output_type": "stream",
     "text": [
      "C:\\Users\\Jeff\\anaconda3\\lib\\site-packages\\eliteprospect\\eliteprospect_scraper.py:86: FutureWarning: The default value of regex will change from True to False in a future version.\n",
      "  df_players['playername'] = df_players['player'].str.replace(r\"\\(.*\\)\",\"\")\n",
      "C:\\Users\\Jeff\\AppData\\Local\\Temp\\ipykernel_16732\\3515075287.py:25: SettingWithCopyWarning: \n",
      "A value is trying to be set on a copy of a slice from a DataFrame.\n",
      "Try using .loc[row_indexer,col_indexer] = value instead\n",
      "\n",
      "See the caveats in the documentation: https://pandas.pydata.org/pandas-docs/stable/user_guide/indexing.html#returning-a-view-versus-a-copy\n",
      "  concussion_injuries['Name'] = new_names\n"
     ]
    },
    {
     "name": "stdout",
     "output_type": "stream",
     "text": [
      "Running on year: 2017-18\n"
     ]
    },
    {
     "name": "stderr",
     "output_type": "stream",
     "text": [
      "C:\\Users\\Jeff\\anaconda3\\lib\\site-packages\\eliteprospect\\eliteprospect_scraper.py:86: FutureWarning: The default value of regex will change from True to False in a future version.\n",
      "  df_players['playername'] = df_players['player'].str.replace(r\"\\(.*\\)\",\"\")\n",
      "C:\\Users\\Jeff\\AppData\\Local\\Temp\\ipykernel_16732\\3515075287.py:25: SettingWithCopyWarning: \n",
      "A value is trying to be set on a copy of a slice from a DataFrame.\n",
      "Try using .loc[row_indexer,col_indexer] = value instead\n",
      "\n",
      "See the caveats in the documentation: https://pandas.pydata.org/pandas-docs/stable/user_guide/indexing.html#returning-a-view-versus-a-copy\n",
      "  concussion_injuries['Name'] = new_names\n"
     ]
    },
    {
     "name": "stdout",
     "output_type": "stream",
     "text": [
      "Running on year: 2018-19\n"
     ]
    },
    {
     "name": "stderr",
     "output_type": "stream",
     "text": [
      "C:\\Users\\Jeff\\anaconda3\\lib\\site-packages\\eliteprospect\\eliteprospect_scraper.py:86: FutureWarning: The default value of regex will change from True to False in a future version.\n",
      "  df_players['playername'] = df_players['player'].str.replace(r\"\\(.*\\)\",\"\")\n",
      "C:\\Users\\Jeff\\AppData\\Local\\Temp\\ipykernel_16732\\3515075287.py:25: SettingWithCopyWarning: \n",
      "A value is trying to be set on a copy of a slice from a DataFrame.\n",
      "Try using .loc[row_indexer,col_indexer] = value instead\n",
      "\n",
      "See the caveats in the documentation: https://pandas.pydata.org/pandas-docs/stable/user_guide/indexing.html#returning-a-view-versus-a-copy\n",
      "  concussion_injuries['Name'] = new_names\n"
     ]
    },
    {
     "name": "stdout",
     "output_type": "stream",
     "text": [
      "Running on year: 2019-20\n"
     ]
    },
    {
     "name": "stderr",
     "output_type": "stream",
     "text": [
      "C:\\Users\\Jeff\\anaconda3\\lib\\site-packages\\eliteprospect\\eliteprospect_scraper.py:86: FutureWarning: The default value of regex will change from True to False in a future version.\n",
      "  df_players['playername'] = df_players['player'].str.replace(r\"\\(.*\\)\",\"\")\n",
      "C:\\Users\\Jeff\\AppData\\Local\\Temp\\ipykernel_16732\\3515075287.py:25: SettingWithCopyWarning: \n",
      "A value is trying to be set on a copy of a slice from a DataFrame.\n",
      "Try using .loc[row_indexer,col_indexer] = value instead\n",
      "\n",
      "See the caveats in the documentation: https://pandas.pydata.org/pandas-docs/stable/user_guide/indexing.html#returning-a-view-versus-a-copy\n",
      "  concussion_injuries['Name'] = new_names\n"
     ]
    }
   ],
   "source": [
    "years_to_grab = ['2000-01', '2001-02', '2002-03', '2003-04', '2004-05', '2005-06', '2006-07', '2007-08', '2008-09', '2009-10', '2010-11', '2011-12', '2012-13', '2013-14', '2014-15', '2015-16', '2016-17', '2017-18', '2018-19', '2019-20']\n",
    "concussion_years = ['2001/02', '2002/03', '2003/04', '2004/05', '2005/06', '2006/07', '2007/08', '2008/09', '2009/10', '2010/11', '2011/12', '2012/13', '2013/14', '2014/15', '2015/16', '2016/17', '2017/18', '2018/19', '2019/20', '2020/21']\n",
    "\n",
    "# load in concussion csv\n",
    "\n",
    "injuries = pd.read_csv('nhl_injury.csv', encoding='latin')\n",
    "\n",
    "for year, concussion_year in zip(years_to_grab, concussion_years):\n",
    "    print(f'Running on year: {year}')\n",
    "    nhl_data = ep.getPlayers('nhl', year)\n",
    "    \n",
    "    # combine with concussion data\n",
    "    # concussion data = year + 1\n",
    "    injuries_by_year = injuries[injuries['ï»¿Season'] == concussion_year]\n",
    "    \n",
    "    # filter for concussions\n",
    "    # filter to only be injury type of concussion \n",
    "    concussion_injuries = injuries_by_year[injuries_by_year['Injury Type'] == 'Concussion']\n",
    "    \n",
    "    # make new name variable to join between the 2 datasets \n",
    "    new_names = concussion_injuries['Player'].map(lambda x: x.split(' ')[1]) + ' ' + concussion_injuries['Player'].map(lambda x: x.split(' ')[0])\n",
    "    \n",
    "    new_names = [x.replace(',', '') for x in new_names]\n",
    "    \n",
    "    concussion_injuries['Name'] = new_names\n",
    "    \n",
    "    # combine 2 datasets (nhl_data and concussion data)\n",
    "    nhl_data['playername'] = nhl_data['playername'].map(lambda x: x.strip())\n",
    "    \n",
    "    # join 2 datasets \n",
    "    joined_data = nhl_data.merge(concussion_injuries[['Name', 'Games Missed']],\n",
    "                        how='left', left_on='playername',\n",
    "                        right_on='Name')\n",
    "    \n",
    "    # fill in missing values with 0 \n",
    "    joined_data.fillna(0, inplace=True)\n",
    "    \n",
    "    # create a concussion column\n",
    "    \n",
    "    joined_data['Concussion'] = np.where(joined_data['Name'] == 0, 0, 1)\n",
    "    \n",
    "    \n",
    "    # save to csv \n",
    "    \n",
    "    # final_df.to_csv(index=False)\n",
    "    # final_df = nhl_data + concussion_data\n",
    "    joined_data.to_csv(f'data/{year}.csv', index=False)"
   ]
  },
  {
   "cell_type": "code",
   "execution_count": 36,
   "id": "d33e7176",
   "metadata": {},
   "outputs": [
    {
     "data": {
      "text/html": [
       "<div>\n",
       "<style scoped>\n",
       "    .dataframe tbody tr th:only-of-type {\n",
       "        vertical-align: middle;\n",
       "    }\n",
       "\n",
       "    .dataframe tbody tr th {\n",
       "        vertical-align: top;\n",
       "    }\n",
       "\n",
       "    .dataframe thead th {\n",
       "        text-align: right;\n",
       "    }\n",
       "</style>\n",
       "<table border=\"1\" class=\"dataframe\">\n",
       "  <thead>\n",
       "    <tr style=\"text-align: right;\">\n",
       "      <th></th>\n",
       "      <th>ï»¿Season</th>\n",
       "      <th>Team</th>\n",
       "      <th>Position</th>\n",
       "      <th>Player</th>\n",
       "      <th>Injury Type</th>\n",
       "      <th>Cap Hit</th>\n",
       "      <th>Chip</th>\n",
       "      <th>Games Missed</th>\n",
       "      <th>Games Missed.1</th>\n",
       "      <th>Name</th>\n",
       "    </tr>\n",
       "  </thead>\n",
       "  <tbody>\n",
       "    <tr>\n",
       "      <th>1977</th>\n",
       "      <td>2002/03</td>\n",
       "      <td>Anaheim</td>\n",
       "      <td>F</td>\n",
       "      <td>Chouinard, Marc</td>\n",
       "      <td>Concussion</td>\n",
       "      <td>NaN</td>\n",
       "      <td>NaN</td>\n",
       "      <td>3</td>\n",
       "      <td>3</td>\n",
       "      <td>Marc Chouinard</td>\n",
       "    </tr>\n",
       "    <tr>\n",
       "      <th>1982</th>\n",
       "      <td>2002/03</td>\n",
       "      <td>Anaheim</td>\n",
       "      <td>F</td>\n",
       "      <td>McDonald, Andy</td>\n",
       "      <td>Concussion</td>\n",
       "      <td>NaN</td>\n",
       "      <td>NaN</td>\n",
       "      <td>29</td>\n",
       "      <td>29</td>\n",
       "      <td>Andy McDonald</td>\n",
       "    </tr>\n",
       "    <tr>\n",
       "      <th>1983</th>\n",
       "      <td>2002/03</td>\n",
       "      <td>Anaheim</td>\n",
       "      <td>F</td>\n",
       "      <td>McDonald, Andy</td>\n",
       "      <td>Concussion</td>\n",
       "      <td>NaN</td>\n",
       "      <td>NaN</td>\n",
       "      <td>7</td>\n",
       "      <td>7</td>\n",
       "      <td>Andy McDonald</td>\n",
       "    </tr>\n",
       "    <tr>\n",
       "      <th>1985</th>\n",
       "      <td>2002/03</td>\n",
       "      <td>Anaheim</td>\n",
       "      <td>F</td>\n",
       "      <td>Sawyer, Kevin</td>\n",
       "      <td>Concussion</td>\n",
       "      <td>NaN</td>\n",
       "      <td>NaN</td>\n",
       "      <td>49</td>\n",
       "      <td>49</td>\n",
       "      <td>Kevin Sawyer</td>\n",
       "    </tr>\n",
       "    <tr>\n",
       "      <th>1986</th>\n",
       "      <td>2002/03</td>\n",
       "      <td>Anaheim</td>\n",
       "      <td>F</td>\n",
       "      <td>Smirnov, Alexei</td>\n",
       "      <td>Concussion</td>\n",
       "      <td>NaN</td>\n",
       "      <td>NaN</td>\n",
       "      <td>2</td>\n",
       "      <td>2</td>\n",
       "      <td>Alexei Smirnov</td>\n",
       "    </tr>\n",
       "    <tr>\n",
       "      <th>...</th>\n",
       "      <td>...</td>\n",
       "      <td>...</td>\n",
       "      <td>...</td>\n",
       "      <td>...</td>\n",
       "      <td>...</td>\n",
       "      <td>...</td>\n",
       "      <td>...</td>\n",
       "      <td>...</td>\n",
       "      <td>...</td>\n",
       "      <td>...</td>\n",
       "    </tr>\n",
       "    <tr>\n",
       "      <th>2790</th>\n",
       "      <td>2002/03</td>\n",
       "      <td>San Jose</td>\n",
       "      <td>D</td>\n",
       "      <td>McGillis, Dan</td>\n",
       "      <td>Concussion</td>\n",
       "      <td>NaN</td>\n",
       "      <td>NaN</td>\n",
       "      <td>1</td>\n",
       "      <td>1</td>\n",
       "      <td>Dan McGillis</td>\n",
       "    </tr>\n",
       "    <tr>\n",
       "      <th>2793</th>\n",
       "      <td>2002/03</td>\n",
       "      <td>San Jose</td>\n",
       "      <td>D</td>\n",
       "      <td>Stuart, Brad</td>\n",
       "      <td>Concussion</td>\n",
       "      <td>NaN</td>\n",
       "      <td>NaN</td>\n",
       "      <td>21</td>\n",
       "      <td>21</td>\n",
       "      <td>Brad Stuart</td>\n",
       "    </tr>\n",
       "    <tr>\n",
       "      <th>2804</th>\n",
       "      <td>2002/03</td>\n",
       "      <td>St. Louis</td>\n",
       "      <td>F</td>\n",
       "      <td>Dubinsky, Steve</td>\n",
       "      <td>Concussion</td>\n",
       "      <td>NaN</td>\n",
       "      <td>NaN</td>\n",
       "      <td>20</td>\n",
       "      <td>20</td>\n",
       "      <td>Steve Dubinsky</td>\n",
       "    </tr>\n",
       "    <tr>\n",
       "      <th>2877</th>\n",
       "      <td>2002/03</td>\n",
       "      <td>Toronto</td>\n",
       "      <td>F</td>\n",
       "      <td>HÃ¶glund, Jonas</td>\n",
       "      <td>Concussion</td>\n",
       "      <td>NaN</td>\n",
       "      <td>NaN</td>\n",
       "      <td>1</td>\n",
       "      <td>1</td>\n",
       "      <td>Jonas HÃ¶glund</td>\n",
       "    </tr>\n",
       "    <tr>\n",
       "      <th>2942</th>\n",
       "      <td>2002/03</td>\n",
       "      <td>Washington</td>\n",
       "      <td>F</td>\n",
       "      <td>Zubrus, Dainius</td>\n",
       "      <td>Concussion</td>\n",
       "      <td>NaN</td>\n",
       "      <td>NaN</td>\n",
       "      <td>3</td>\n",
       "      <td>3</td>\n",
       "      <td>Dainius Zubrus</td>\n",
       "    </tr>\n",
       "  </tbody>\n",
       "</table>\n",
       "<p>71 rows × 10 columns</p>\n",
       "</div>"
      ],
      "text/plain": [
       "     ï»¿Season        Team Position           Player Injury Type  Cap Hit  \\\n",
       "1977   2002/03     Anaheim        F  Chouinard, Marc  Concussion      NaN   \n",
       "1982   2002/03     Anaheim        F   McDonald, Andy  Concussion      NaN   \n",
       "1983   2002/03     Anaheim        F   McDonald, Andy  Concussion      NaN   \n",
       "1985   2002/03     Anaheim        F    Sawyer, Kevin  Concussion      NaN   \n",
       "1986   2002/03     Anaheim        F  Smirnov, Alexei  Concussion      NaN   \n",
       "...        ...         ...      ...              ...         ...      ...   \n",
       "2790   2002/03    San Jose        D    McGillis, Dan  Concussion      NaN   \n",
       "2793   2002/03    San Jose        D     Stuart, Brad  Concussion      NaN   \n",
       "2804   2002/03   St. Louis        F  Dubinsky, Steve  Concussion      NaN   \n",
       "2877   2002/03     Toronto        F  HÃ¶glund, Jonas  Concussion      NaN   \n",
       "2942   2002/03  Washington        F  Zubrus, Dainius  Concussion      NaN   \n",
       "\n",
       "      Chip  Games Missed  Games Missed.1            Name  \n",
       "1977   NaN             3               3  Marc Chouinard  \n",
       "1982   NaN            29              29   Andy McDonald  \n",
       "1983   NaN             7               7   Andy McDonald  \n",
       "1985   NaN            49              49    Kevin Sawyer  \n",
       "1986   NaN             2               2  Alexei Smirnov  \n",
       "...    ...           ...             ...             ...  \n",
       "2790   NaN             1               1    Dan McGillis  \n",
       "2793   NaN            21              21     Brad Stuart  \n",
       "2804   NaN            20              20  Steve Dubinsky  \n",
       "2877   NaN             1               1  Jonas HÃ¶glund  \n",
       "2942   NaN             3               3  Dainius Zubrus  \n",
       "\n",
       "[71 rows x 10 columns]"
      ]
     },
     "execution_count": 36,
     "metadata": {},
     "output_type": "execute_result"
    }
   ],
   "source": [
    "concussion_injuries"
   ]
  },
  {
   "cell_type": "code",
   "execution_count": 23,
   "id": "2abc98ad",
   "metadata": {},
   "outputs": [],
   "source": [
    "years_to_grab = ['2000-01', '2001-02']\n",
    "concussion_years = ['2001/02', '2002/03']\n",
    "\n",
    "year = years_to_grab[0]\n",
    "concussion_year = concussion_years[0]"
   ]
  },
  {
   "cell_type": "code",
   "execution_count": 24,
   "id": "2b258020",
   "metadata": {},
   "outputs": [
    {
     "name": "stderr",
     "output_type": "stream",
     "text": [
      "C:\\Users\\Jeff\\anaconda3\\lib\\site-packages\\eliteprospect\\eliteprospect_scraper.py:86: FutureWarning: The default value of regex will change from True to False in a future version.\n",
      "  df_players['playername'] = df_players['player'].str.replace(r\"\\(.*\\)\",\"\")\n"
     ]
    }
   ],
   "source": [
    "nhl_data = ep.getPlayers('nhl', year)"
   ]
  },
  {
   "cell_type": "code",
   "execution_count": 26,
   "id": "fea71cac",
   "metadata": {},
   "outputs": [],
   "source": [
    "injuries_by_year = injuries[injuries['ï»¿Season'] == concussion_year]\n",
    "    \n",
    "# filter for concussions\n",
    "# filter to only be injury type of concussion \n",
    "concussion_injuries = injuries_by_year[injuries_by_year['Injury Type'] == 'Concussion']\n"
   ]
  },
  {
   "cell_type": "code",
   "execution_count": 29,
   "id": "9e3df57c",
   "metadata": {},
   "outputs": [
    {
     "name": "stderr",
     "output_type": "stream",
     "text": [
      "C:\\Users\\Jeff\\AppData\\Local\\Temp\\ipykernel_16732\\293923831.py:5: SettingWithCopyWarning: \n",
      "A value is trying to be set on a copy of a slice from a DataFrame.\n",
      "Try using .loc[row_indexer,col_indexer] = value instead\n",
      "\n",
      "See the caveats in the documentation: https://pandas.pydata.org/pandas-docs/stable/user_guide/indexing.html#returning-a-view-versus-a-copy\n",
      "  concussion_injuries['Name'] = new_names\n"
     ]
    }
   ],
   "source": [
    "new_names = concussion_injuries['Player'].map(lambda x: x.split(' ')[1]) + ' ' + concussion_injuries['Player'].map(lambda x: x.split(' ')[0])\n",
    "    \n",
    "new_names = [x.replace(',', '') for x in new_names]\n",
    "\n",
    "concussion_injuries['Name'] = new_names"
   ]
  },
  {
   "cell_type": "code",
   "execution_count": 30,
   "id": "24940fff",
   "metadata": {},
   "outputs": [
    {
     "data": {
      "text/html": [
       "<div>\n",
       "<style scoped>\n",
       "    .dataframe tbody tr th:only-of-type {\n",
       "        vertical-align: middle;\n",
       "    }\n",
       "\n",
       "    .dataframe tbody tr th {\n",
       "        vertical-align: top;\n",
       "    }\n",
       "\n",
       "    .dataframe thead th {\n",
       "        text-align: right;\n",
       "    }\n",
       "</style>\n",
       "<table border=\"1\" class=\"dataframe\">\n",
       "  <thead>\n",
       "    <tr style=\"text-align: right;\">\n",
       "      <th></th>\n",
       "      <th>player</th>\n",
       "      <th>team</th>\n",
       "      <th>gp</th>\n",
       "      <th>g</th>\n",
       "      <th>a</th>\n",
       "      <th>tp</th>\n",
       "      <th>ppg</th>\n",
       "      <th>pim</th>\n",
       "      <th>+/-</th>\n",
       "      <th>link</th>\n",
       "      <th>season</th>\n",
       "      <th>league</th>\n",
       "      <th>playername</th>\n",
       "      <th>position</th>\n",
       "      <th>fw_def</th>\n",
       "    </tr>\n",
       "  </thead>\n",
       "  <tbody>\n",
       "    <tr>\n",
       "      <th>0</th>\n",
       "      <td>Jaromír Jágr (RW)</td>\n",
       "      <td>Pittsburgh Penguins</td>\n",
       "      <td>81</td>\n",
       "      <td>52</td>\n",
       "      <td>69</td>\n",
       "      <td>121</td>\n",
       "      <td>1.49</td>\n",
       "      <td>42</td>\n",
       "      <td>19</td>\n",
       "      <td>https://www.eliteprospects.com/player/8627/jar...</td>\n",
       "      <td>2000-01</td>\n",
       "      <td>nhl</td>\n",
       "      <td>Jaromír Jágr</td>\n",
       "      <td>RW</td>\n",
       "      <td>FW</td>\n",
       "    </tr>\n",
       "    <tr>\n",
       "      <th>1</th>\n",
       "      <td>Joe Sakic (C)</td>\n",
       "      <td>Colorado Avalanche</td>\n",
       "      <td>82</td>\n",
       "      <td>54</td>\n",
       "      <td>64</td>\n",
       "      <td>118</td>\n",
       "      <td>1.44</td>\n",
       "      <td>30</td>\n",
       "      <td>45</td>\n",
       "      <td>https://www.eliteprospects.com/player/8862/joe...</td>\n",
       "      <td>2000-01</td>\n",
       "      <td>nhl</td>\n",
       "      <td>Joe Sakic</td>\n",
       "      <td>C</td>\n",
       "      <td>FW</td>\n",
       "    </tr>\n",
       "  </tbody>\n",
       "</table>\n",
       "</div>"
      ],
      "text/plain": [
       "              player                 team  gp   g   a   tp   ppg pim +/-  \\\n",
       "0  Jaromír Jágr (RW)  Pittsburgh Penguins  81  52  69  121  1.49  42  19   \n",
       "1      Joe Sakic (C)   Colorado Avalanche  82  54  64  118  1.44  30  45   \n",
       "\n",
       "                                                link   season league  \\\n",
       "0  https://www.eliteprospects.com/player/8627/jar...  2000-01    nhl   \n",
       "1  https://www.eliteprospects.com/player/8862/joe...  2000-01    nhl   \n",
       "\n",
       "      playername position fw_def  \n",
       "0  Jaromír Jágr        RW     FW  \n",
       "1     Joe Sakic         C     FW  "
      ]
     },
     "execution_count": 30,
     "metadata": {},
     "output_type": "execute_result"
    }
   ],
   "source": [
    "nhl_data.head(2)"
   ]
  },
  {
   "cell_type": "code",
   "execution_count": 31,
   "id": "2a1d3d61",
   "metadata": {},
   "outputs": [
    {
     "data": {
      "text/plain": [
       "1052        Andy McDonald\n",
       "1065    Ä½uboÅ¡ BarteÄko\n",
       "Name: Name, dtype: object"
      ]
     },
     "execution_count": 31,
     "metadata": {},
     "output_type": "execute_result"
    }
   ],
   "source": [
    "concussion_injuries['Name'].head(2)"
   ]
  },
  {
   "cell_type": "code",
   "execution_count": 33,
   "id": "87613984",
   "metadata": {},
   "outputs": [
    {
     "data": {
      "text/plain": [
       "'Andy McDonald'"
      ]
     },
     "execution_count": 33,
     "metadata": {},
     "output_type": "execute_result"
    }
   ],
   "source": [
    "concussion_injuries.loc[1052, 'Name']"
   ]
  },
  {
   "cell_type": "code",
   "execution_count": 34,
   "id": "9a75a36a",
   "metadata": {},
   "outputs": [
    {
     "data": {
      "text/plain": [
       "'Andy McDonald '"
      ]
     },
     "execution_count": 34,
     "metadata": {},
     "output_type": "execute_result"
    }
   ],
   "source": [
    "nhl_data.loc[748, 'playername']"
   ]
  },
  {
   "cell_type": "code",
   "execution_count": null,
   "id": "5bdfc65a",
   "metadata": {},
   "outputs": [],
   "source": [
    "joined_data = nhl_data.merge(concussion_injuries['Name'],\n",
    "                        how='left', left_on='playername',\n",
    "                        right_on='Name')"
   ]
  },
  {
   "cell_type": "code",
   "execution_count": null,
   "id": "7407713f",
   "metadata": {},
   "outputs": [],
   "source": []
  },
  {
   "cell_type": "code",
   "execution_count": null,
   "id": "d599dff3",
   "metadata": {},
   "outputs": [],
   "source": []
  },
  {
   "cell_type": "code",
   "execution_count": null,
   "id": "cd374f98",
   "metadata": {},
   "outputs": [],
   "source": []
  },
  {
   "cell_type": "code",
   "execution_count": 6,
   "id": "1907bad4",
   "metadata": {},
   "outputs": [
    {
     "name": "stdout",
     "output_type": "stream",
     "text": [
      " Volume in drive C is Windows\n",
      " Volume Serial Number is A484-E91E\n",
      "\n",
      " Directory of C:\\Users\\Jeff\\Desktop\\phase_5_project\n",
      "\n",
      "01/26/2023  11:30 AM    <DIR>          .\n",
      "01/26/2023  11:30 AM    <DIR>          ..\n",
      "01/12/2023  07:23 PM    <DIR>          .ipynb_checkpoints\n",
      "01/26/2023  11:29 AM           134,014 2000-01.csv\n",
      "01/26/2023  11:30 AM           134,350 2001-2002.csv\n",
      "01/12/2023  06:29 PM             1,846 CONTRIBUTING.md\n",
      "01/12/2023  06:29 PM             1,354 LICENSE.md\n",
      "01/11/2023  02:46 PM         1,329,606 nhl_injury.csv\n",
      "01/26/2023  11:30 AM            17,216 notebook_1.ipynb\n",
      "01/12/2023  06:29 PM               832 README.md\n",
      "               7 File(s)      1,619,218 bytes\n",
      "               3 Dir(s)  849,243,664,384 bytes free\n"
     ]
    }
   ],
   "source": [
    "lsaa"
   ]
  },
  {
   "cell_type": "code",
   "execution_count": 22,
   "id": "1394eba6",
   "metadata": {},
   "outputs": [
    {
     "data": {
      "text/html": [
       "<div>\n",
       "<style scoped>\n",
       "    .dataframe tbody tr th:only-of-type {\n",
       "        vertical-align: middle;\n",
       "    }\n",
       "\n",
       "    .dataframe tbody tr th {\n",
       "        vertical-align: top;\n",
       "    }\n",
       "\n",
       "    .dataframe thead th {\n",
       "        text-align: right;\n",
       "    }\n",
       "</style>\n",
       "<table border=\"1\" class=\"dataframe\">\n",
       "  <thead>\n",
       "    <tr style=\"text-align: right;\">\n",
       "      <th></th>\n",
       "      <th>player</th>\n",
       "      <th>team</th>\n",
       "      <th>gp</th>\n",
       "      <th>g</th>\n",
       "      <th>a</th>\n",
       "      <th>tp</th>\n",
       "      <th>ppg</th>\n",
       "      <th>pim</th>\n",
       "      <th>+/-</th>\n",
       "      <th>link</th>\n",
       "      <th>season</th>\n",
       "      <th>league</th>\n",
       "      <th>playername</th>\n",
       "      <th>position</th>\n",
       "      <th>fw_def</th>\n",
       "      <th>Name</th>\n",
       "      <th>Concussion</th>\n",
       "    </tr>\n",
       "  </thead>\n",
       "  <tbody>\n",
       "    <tr>\n",
       "      <th>0</th>\n",
       "      <td>Jaromír Jágr (RW)</td>\n",
       "      <td>Pittsburgh Penguins</td>\n",
       "      <td>81</td>\n",
       "      <td>52</td>\n",
       "      <td>69</td>\n",
       "      <td>121</td>\n",
       "      <td>1.49</td>\n",
       "      <td>42</td>\n",
       "      <td>19</td>\n",
       "      <td>https://www.eliteprospects.com/player/8627/jar...</td>\n",
       "      <td>2000-01</td>\n",
       "      <td>nhl</td>\n",
       "      <td>Jaromír Jágr</td>\n",
       "      <td>RW</td>\n",
       "      <td>FW</td>\n",
       "      <td>0</td>\n",
       "      <td>0</td>\n",
       "    </tr>\n",
       "    <tr>\n",
       "      <th>1</th>\n",
       "      <td>Joe Sakic (C)</td>\n",
       "      <td>Colorado Avalanche</td>\n",
       "      <td>82</td>\n",
       "      <td>54</td>\n",
       "      <td>64</td>\n",
       "      <td>118</td>\n",
       "      <td>1.44</td>\n",
       "      <td>30</td>\n",
       "      <td>45</td>\n",
       "      <td>https://www.eliteprospects.com/player/8862/joe...</td>\n",
       "      <td>2000-01</td>\n",
       "      <td>nhl</td>\n",
       "      <td>Joe Sakic</td>\n",
       "      <td>C</td>\n",
       "      <td>FW</td>\n",
       "      <td>0</td>\n",
       "      <td>0</td>\n",
       "    </tr>\n",
       "    <tr>\n",
       "      <th>2</th>\n",
       "      <td>Patrik Elias (LW)</td>\n",
       "      <td>New Jersey Devils</td>\n",
       "      <td>82</td>\n",
       "      <td>40</td>\n",
       "      <td>56</td>\n",
       "      <td>96</td>\n",
       "      <td>1.17</td>\n",
       "      <td>51</td>\n",
       "      <td>45</td>\n",
       "      <td>https://www.eliteprospects.com/player/8698/pat...</td>\n",
       "      <td>2000-01</td>\n",
       "      <td>nhl</td>\n",
       "      <td>Patrik Elias</td>\n",
       "      <td>LW</td>\n",
       "      <td>FW</td>\n",
       "      <td>0</td>\n",
       "      <td>0</td>\n",
       "    </tr>\n",
       "    <tr>\n",
       "      <th>3</th>\n",
       "      <td>Alexei Kovalev (RW)</td>\n",
       "      <td>Pittsburgh Penguins</td>\n",
       "      <td>79</td>\n",
       "      <td>44</td>\n",
       "      <td>51</td>\n",
       "      <td>95</td>\n",
       "      <td>1.20</td>\n",
       "      <td>96</td>\n",
       "      <td>12</td>\n",
       "      <td>https://www.eliteprospects.com/player/8670/ale...</td>\n",
       "      <td>2000-01</td>\n",
       "      <td>nhl</td>\n",
       "      <td>Alexei Kovalev</td>\n",
       "      <td>RW</td>\n",
       "      <td>FW</td>\n",
       "      <td>0</td>\n",
       "      <td>0</td>\n",
       "    </tr>\n",
       "    <tr>\n",
       "      <th>4</th>\n",
       "      <td>Jason Allison (C)</td>\n",
       "      <td>Boston Bruins</td>\n",
       "      <td>82</td>\n",
       "      <td>36</td>\n",
       "      <td>59</td>\n",
       "      <td>95</td>\n",
       "      <td>1.16</td>\n",
       "      <td>85</td>\n",
       "      <td>-8</td>\n",
       "      <td>https://www.eliteprospects.com/player/9064/jas...</td>\n",
       "      <td>2000-01</td>\n",
       "      <td>nhl</td>\n",
       "      <td>Jason Allison</td>\n",
       "      <td>C</td>\n",
       "      <td>FW</td>\n",
       "      <td>0</td>\n",
       "      <td>0</td>\n",
       "    </tr>\n",
       "  </tbody>\n",
       "</table>\n",
       "</div>"
      ],
      "text/plain": [
       "                player                 team  gp   g   a   tp   ppg  pim  +/-  \\\n",
       "0    Jaromír Jágr (RW)  Pittsburgh Penguins  81  52  69  121  1.49   42   19   \n",
       "1        Joe Sakic (C)   Colorado Avalanche  82  54  64  118  1.44   30   45   \n",
       "2    Patrik Elias (LW)    New Jersey Devils  82  40  56   96  1.17   51   45   \n",
       "3  Alexei Kovalev (RW)  Pittsburgh Penguins  79  44  51   95  1.20   96   12   \n",
       "4    Jason Allison (C)        Boston Bruins  82  36  59   95  1.16   85   -8   \n",
       "\n",
       "                                                link   season league  \\\n",
       "0  https://www.eliteprospects.com/player/8627/jar...  2000-01    nhl   \n",
       "1  https://www.eliteprospects.com/player/8862/joe...  2000-01    nhl   \n",
       "2  https://www.eliteprospects.com/player/8698/pat...  2000-01    nhl   \n",
       "3  https://www.eliteprospects.com/player/8670/ale...  2000-01    nhl   \n",
       "4  https://www.eliteprospects.com/player/9064/jas...  2000-01    nhl   \n",
       "\n",
       "        playername position fw_def  Name  Concussion  \n",
       "0    Jaromír Jágr        RW     FW     0           0  \n",
       "1       Joe Sakic         C     FW     0           0  \n",
       "2    Patrik Elias        LW     FW     0           0  \n",
       "3  Alexei Kovalev        RW     FW     0           0  \n",
       "4   Jason Allison         C     FW     0           0  "
      ]
     },
     "execution_count": 22,
     "metadata": {},
     "output_type": "execute_result"
    }
   ],
   "source": [
    "df_2000_01 = pd.read_csv(\"2000-01.csv\")\n",
    "df_2000_01.head()"
   ]
  },
  {
   "cell_type": "code",
   "execution_count": 17,
   "id": "d0f83e34",
   "metadata": {},
   "outputs": [
    {
     "data": {
      "text/plain": [
       "(887, 17)"
      ]
     },
     "execution_count": 17,
     "metadata": {},
     "output_type": "execute_result"
    }
   ],
   "source": [
    "df_2000_01.shape"
   ]
  },
  {
   "cell_type": "code",
   "execution_count": 20,
   "id": "ca8d342b",
   "metadata": {},
   "outputs": [
    {
     "data": {
      "text/html": [
       "<div>\n",
       "<style scoped>\n",
       "    .dataframe tbody tr th:only-of-type {\n",
       "        vertical-align: middle;\n",
       "    }\n",
       "\n",
       "    .dataframe tbody tr th {\n",
       "        vertical-align: top;\n",
       "    }\n",
       "\n",
       "    .dataframe thead th {\n",
       "        text-align: right;\n",
       "    }\n",
       "</style>\n",
       "<table border=\"1\" class=\"dataframe\">\n",
       "  <thead>\n",
       "    <tr style=\"text-align: right;\">\n",
       "      <th></th>\n",
       "      <th>player</th>\n",
       "      <th>team</th>\n",
       "      <th>gp</th>\n",
       "      <th>g</th>\n",
       "      <th>a</th>\n",
       "      <th>tp</th>\n",
       "      <th>ppg</th>\n",
       "      <th>pim</th>\n",
       "      <th>+/-</th>\n",
       "      <th>link</th>\n",
       "      <th>season</th>\n",
       "      <th>league</th>\n",
       "      <th>playername</th>\n",
       "      <th>position</th>\n",
       "      <th>fw_def</th>\n",
       "      <th>Name</th>\n",
       "      <th>Concussion</th>\n",
       "    </tr>\n",
       "  </thead>\n",
       "  <tbody>\n",
       "    <tr>\n",
       "      <th>0</th>\n",
       "      <td>Jarome Iginla (RW)</td>\n",
       "      <td>Calgary Flames</td>\n",
       "      <td>82</td>\n",
       "      <td>52</td>\n",
       "      <td>44</td>\n",
       "      <td>96</td>\n",
       "      <td>1.17</td>\n",
       "      <td>77</td>\n",
       "      <td>27</td>\n",
       "      <td>https://www.eliteprospects.com/player/9036/jar...</td>\n",
       "      <td>2001-2002</td>\n",
       "      <td>nhl</td>\n",
       "      <td>Jarome Iginla</td>\n",
       "      <td>RW</td>\n",
       "      <td>FW</td>\n",
       "      <td>0</td>\n",
       "      <td>0</td>\n",
       "    </tr>\n",
       "    <tr>\n",
       "      <th>1</th>\n",
       "      <td>Markus Näslund (LW)</td>\n",
       "      <td>Vancouver Canucks</td>\n",
       "      <td>81</td>\n",
       "      <td>40</td>\n",
       "      <td>50</td>\n",
       "      <td>90</td>\n",
       "      <td>1.11</td>\n",
       "      <td>50</td>\n",
       "      <td>22</td>\n",
       "      <td>https://www.eliteprospects.com/player/697/mark...</td>\n",
       "      <td>2001-2002</td>\n",
       "      <td>nhl</td>\n",
       "      <td>Markus Näslund</td>\n",
       "      <td>LW</td>\n",
       "      <td>FW</td>\n",
       "      <td>0</td>\n",
       "      <td>0</td>\n",
       "    </tr>\n",
       "    <tr>\n",
       "      <th>2</th>\n",
       "      <td>Todd Bertuzzi (RW/LW)</td>\n",
       "      <td>Vancouver Canucks</td>\n",
       "      <td>72</td>\n",
       "      <td>36</td>\n",
       "      <td>49</td>\n",
       "      <td>85</td>\n",
       "      <td>1.18</td>\n",
       "      <td>110</td>\n",
       "      <td>21</td>\n",
       "      <td>https://www.eliteprospects.com/player/9081/tod...</td>\n",
       "      <td>2001-2002</td>\n",
       "      <td>nhl</td>\n",
       "      <td>Todd Bertuzzi</td>\n",
       "      <td>RW/LW</td>\n",
       "      <td>FW</td>\n",
       "      <td>0</td>\n",
       "      <td>0</td>\n",
       "    </tr>\n",
       "    <tr>\n",
       "      <th>3</th>\n",
       "      <td>Mats Sundin (C)</td>\n",
       "      <td>Toronto Maple Leafs</td>\n",
       "      <td>82</td>\n",
       "      <td>41</td>\n",
       "      <td>39</td>\n",
       "      <td>80</td>\n",
       "      <td>0.98</td>\n",
       "      <td>94</td>\n",
       "      <td>6</td>\n",
       "      <td>https://www.eliteprospects.com/player/467/mats...</td>\n",
       "      <td>2001-2002</td>\n",
       "      <td>nhl</td>\n",
       "      <td>Mats Sundin</td>\n",
       "      <td>C</td>\n",
       "      <td>FW</td>\n",
       "      <td>0</td>\n",
       "      <td>0</td>\n",
       "    </tr>\n",
       "    <tr>\n",
       "      <th>4</th>\n",
       "      <td>Jaromír Jágr (RW)</td>\n",
       "      <td>Washington Capitals</td>\n",
       "      <td>69</td>\n",
       "      <td>31</td>\n",
       "      <td>48</td>\n",
       "      <td>79</td>\n",
       "      <td>1.14</td>\n",
       "      <td>30</td>\n",
       "      <td>0</td>\n",
       "      <td>https://www.eliteprospects.com/player/8627/jar...</td>\n",
       "      <td>2001-2002</td>\n",
       "      <td>nhl</td>\n",
       "      <td>Jaromír Jágr</td>\n",
       "      <td>RW</td>\n",
       "      <td>FW</td>\n",
       "      <td>0</td>\n",
       "      <td>0</td>\n",
       "    </tr>\n",
       "  </tbody>\n",
       "</table>\n",
       "</div>"
      ],
      "text/plain": [
       "                  player                 team  gp   g   a  tp   ppg  pim +/-  \\\n",
       "0     Jarome Iginla (RW)       Calgary Flames  82  52  44  96  1.17   77  27   \n",
       "1    Markus Näslund (LW)    Vancouver Canucks  81  40  50  90  1.11   50  22   \n",
       "2  Todd Bertuzzi (RW/LW)    Vancouver Canucks  72  36  49  85  1.18  110  21   \n",
       "3        Mats Sundin (C)  Toronto Maple Leafs  82  41  39  80  0.98   94   6   \n",
       "4      Jaromír Jágr (RW)  Washington Capitals  69  31  48  79  1.14   30   0   \n",
       "\n",
       "                                                link     season league  \\\n",
       "0  https://www.eliteprospects.com/player/9036/jar...  2001-2002    nhl   \n",
       "1  https://www.eliteprospects.com/player/697/mark...  2001-2002    nhl   \n",
       "2  https://www.eliteprospects.com/player/9081/tod...  2001-2002    nhl   \n",
       "3  https://www.eliteprospects.com/player/467/mats...  2001-2002    nhl   \n",
       "4  https://www.eliteprospects.com/player/8627/jar...  2001-2002    nhl   \n",
       "\n",
       "        playername position fw_def  Name  Concussion  \n",
       "0   Jarome Iginla        RW     FW     0           0  \n",
       "1  Markus Näslund        LW     FW     0           0  \n",
       "2   Todd Bertuzzi     RW/LW     FW     0           0  \n",
       "3     Mats Sundin         C     FW     0           0  \n",
       "4    Jaromír Jágr        RW     FW     0           0  "
      ]
     },
     "execution_count": 20,
     "metadata": {},
     "output_type": "execute_result"
    }
   ],
   "source": [
    "df_2001_2002 = pd.read_csv(\"2001-2002.csv\")\n",
    "df_2001_2002.head()"
   ]
  },
  {
   "cell_type": "code",
   "execution_count": null,
   "id": "720d7ddf",
   "metadata": {},
   "outputs": [],
   "source": []
  },
  {
   "cell_type": "code",
   "execution_count": null,
   "id": "baf3c57c",
   "metadata": {},
   "outputs": [],
   "source": [
    "nhl_12_13 = ep.getPlayers('nhl', '2012-13')"
   ]
  },
  {
   "cell_type": "code",
   "execution_count": null,
   "id": "9ccbeab5",
   "metadata": {},
   "outputs": [],
   "source": [
    "nhl_13_14 = ep.getPlayers('nhl', '2013-14')"
   ]
  },
  {
   "cell_type": "code",
   "execution_count": null,
   "id": "957ae0cb",
   "metadata": {},
   "outputs": [],
   "source": [
    "nhl_12_13.head()"
   ]
  },
  {
   "cell_type": "code",
   "execution_count": null,
   "id": "cac1b81b",
   "metadata": {},
   "outputs": [],
   "source": [
    "nhl_13_14.head()"
   ]
  },
  {
   "cell_type": "code",
   "execution_count": null,
   "id": "bc215ec6",
   "metadata": {},
   "outputs": [],
   "source": [
    "# nhl_19_20.shape"
   ]
  },
  {
   "cell_type": "code",
   "execution_count": null,
   "id": "88a00191",
   "metadata": {},
   "outputs": [],
   "source": [
    "# load in nhl injury data \n",
    "injuries = pd.read_csv('nhl_injury.csv', encoding='latin')"
   ]
  },
  {
   "cell_type": "code",
   "execution_count": null,
   "id": "6a9b7f19",
   "metadata": {},
   "outputs": [],
   "source": [
    "injuries.head()"
   ]
  },
  {
   "cell_type": "code",
   "execution_count": null,
   "id": "74f16000",
   "metadata": {},
   "outputs": [],
   "source": [
    "injuries.columns"
   ]
  },
  {
   "cell_type": "code",
   "execution_count": null,
   "id": "8c5e2e84",
   "metadata": {},
   "outputs": [],
   "source": [
    "injuries['Injury Type'].unique()"
   ]
  },
  {
   "cell_type": "code",
   "execution_count": null,
   "id": "557c9d07",
   "metadata": {},
   "outputs": [],
   "source": [
    "# filter to only 2020-2021\n",
    "injuries_13_14 = injuries[injuries['ï»¿Season'] == '2013/14']"
   ]
  },
  {
   "cell_type": "code",
   "execution_count": null,
   "id": "da8f3f01",
   "metadata": {},
   "outputs": [],
   "source": [
    "# filter to only be injury type of concussion \n",
    "concussion_injuries = injuries_13_14[injuries_13_14['Injury Type'] == 'Concussion']"
   ]
  },
  {
   "cell_type": "code",
   "execution_count": null,
   "id": "3d588228",
   "metadata": {},
   "outputs": [],
   "source": [
    "concussion_injuries.head(2)"
   ]
  },
  {
   "cell_type": "code",
   "execution_count": null,
   "id": "784ebe7c",
   "metadata": {},
   "outputs": [],
   "source": [
    "# make new name variable to join between the 2 datasets \n",
    "new_names = concussion_injuries['Player'].map(lambda x: x.split(' ')[1]) + ' ' + concussion_injuries['Player'].map(lambda x: x.split(' ')[0])"
   ]
  },
  {
   "cell_type": "code",
   "execution_count": null,
   "id": "922ecadc",
   "metadata": {},
   "outputs": [],
   "source": [
    "new_names = [x.replace(',', '') for x in new_names]"
   ]
  },
  {
   "cell_type": "code",
   "execution_count": null,
   "id": "3ead692f",
   "metadata": {},
   "outputs": [],
   "source": [
    "concussion_injuries['Name'] = new_names"
   ]
  },
  {
   "cell_type": "code",
   "execution_count": null,
   "id": "230d92c0",
   "metadata": {},
   "outputs": [],
   "source": [
    "concussion_injuries.head(2)"
   ]
  },
  {
   "cell_type": "code",
   "execution_count": null,
   "id": "7cf6c118",
   "metadata": {},
   "outputs": [],
   "source": [
    "# remove white space from player name\n",
    "nhl_13_14['playername'] = nhl_13_14['playername'].map(lambda x: x.strip())"
   ]
  },
  {
   "cell_type": "code",
   "execution_count": null,
   "id": "c9011935",
   "metadata": {},
   "outputs": [],
   "source": [
    "# join 2 datasets \n",
    "joined_data = nhl_13_14.merge(concussion_injuries['Name'],\n",
    "                        how='left', left_on='playername',\n",
    "                        right_on='Name')"
   ]
  },
  {
   "cell_type": "code",
   "execution_count": null,
   "id": "1ae49ab7",
   "metadata": {},
   "outputs": [],
   "source": [
    "# fill in missing values with 0 \n",
    "joined_data.fillna(0, inplace=True)"
   ]
  },
  {
   "cell_type": "code",
   "execution_count": null,
   "id": "daa20fd2",
   "metadata": {},
   "outputs": [],
   "source": [
    "# create concussion column \n",
    "import numpy as np \n",
    "\n",
    "joined_data['Concussion'] = np.where(joined_data['Name'] == 0, 0, 1)"
   ]
  },
  {
   "cell_type": "code",
   "execution_count": null,
   "id": "5e303076",
   "metadata": {},
   "outputs": [],
   "source": [
    "# column I chose - not necessarily the columns you should use \n",
    "final_df = joined_data[['player', 'team', 'gp', 'g', 'a', 'tp', 'ppg', 'pim', '+/-', \n",
    " 'position', 'fw_def','Concussion']]"
   ]
  },
  {
   "cell_type": "code",
   "execution_count": null,
   "id": "7f06d80a",
   "metadata": {},
   "outputs": [],
   "source": [
    "final_df['Concussion'].value_counts()"
   ]
  },
  {
   "cell_type": "code",
   "execution_count": null,
   "id": "8f272f57",
   "metadata": {},
   "outputs": [],
   "source": [
    "concussion_injuries[concussion_injuries['Name'] == 'Tyler Seguin']"
   ]
  },
  {
   "cell_type": "code",
   "execution_count": null,
   "id": "b9eec021",
   "metadata": {},
   "outputs": [],
   "source": [
    "final_df.head(20)"
   ]
  },
  {
   "cell_type": "code",
   "execution_count": null,
   "id": "bc7ad923",
   "metadata": {},
   "outputs": [],
   "source": [
    "injuries['ï»¿Season'].unique()"
   ]
  },
  {
   "cell_type": "code",
   "execution_count": null,
   "id": "bd750e2f",
   "metadata": {},
   "outputs": [],
   "source": [
    "final_df.head()"
   ]
  },
  {
   "cell_type": "code",
   "execution_count": null,
   "id": "0467b630",
   "metadata": {},
   "outputs": [],
   "source": [
    "final_df['Concussion'].value_counts()"
   ]
  },
  {
   "cell_type": "code",
   "execution_count": null,
   "id": "13269d1b",
   "metadata": {},
   "outputs": [],
   "source": [
    "final_df['pim'] = final_df['pim'].astype(int)"
   ]
  },
  {
   "cell_type": "code",
   "execution_count": null,
   "id": "b3854728",
   "metadata": {},
   "outputs": [],
   "source": [
    "final_df.groupby('Concussion')['pim'].mean()"
   ]
  },
  {
   "cell_type": "code",
   "execution_count": null,
   "id": "a2bb70ac",
   "metadata": {},
   "outputs": [],
   "source": [
    "final_df['gp'] = final_df['gp'].astype(int)"
   ]
  },
  {
   "cell_type": "code",
   "execution_count": null,
   "id": "c9623be1",
   "metadata": {},
   "outputs": [],
   "source": [
    "final_df.head()"
   ]
  },
  {
   "cell_type": "code",
   "execution_count": null,
   "id": "e2581c10",
   "metadata": {},
   "outputs": [],
   "source": [
    "final_df.info()"
   ]
  },
  {
   "cell_type": "code",
   "execution_count": null,
   "id": "5c1b66c9",
   "metadata": {},
   "outputs": [],
   "source": [
    "# final_df.groupby('Concussion')['position'].mean()"
   ]
  },
  {
   "cell_type": "code",
   "execution_count": null,
   "id": "0b39e5ec",
   "metadata": {},
   "outputs": [],
   "source": [
    "final_df.shape"
   ]
  },
  {
   "cell_type": "code",
   "execution_count": null,
   "id": "71659ad9",
   "metadata": {},
   "outputs": [],
   "source": [
    "final_df.info()"
   ]
  },
  {
   "cell_type": "code",
   "execution_count": null,
   "id": "6b825f63",
   "metadata": {},
   "outputs": [],
   "source": [
    "final_df.head()"
   ]
  },
  {
   "cell_type": "code",
   "execution_count": null,
   "id": "8e3f7fc8",
   "metadata": {},
   "outputs": [],
   "source": [
    "final_df[final_df['Concussion'] == 1]['fw_def'].value_counts(normalize=True)"
   ]
  },
  {
   "cell_type": "markdown",
   "id": "882bf511",
   "metadata": {},
   "source": [
    "# Data Understanding"
   ]
  },
  {
   "cell_type": "markdown",
   "id": "57bd9b29",
   "metadata": {},
   "source": [
    "What data is available to us? Where does it live? Do we have the data, or can we scrape/buy/source the data from somewhere else?\n",
    "Who controls the data sources, and what steps are needed to get access to the data?\n",
    "What is our target?\n",
    "What predictors are available to us?\n",
    "What data types are the predictors we'll be working with?\n",
    "What is the distribution of our data?\n",
    "How many observations does our dataset contain? Do we have a lot of data? Only a little?\n",
    "Do we have enough data to build a model? Will we need to use resampling methods?\n",
    "How do we know the data is correct? How is the data collected? Is there a chance the data could be wrong?"
   ]
  },
  {
   "cell_type": "markdown",
   "id": "a1d44498",
   "metadata": {},
   "source": [
    "# Data Preparation"
   ]
  },
  {
   "cell_type": "markdown",
   "id": "a5d81b40",
   "metadata": {},
   "source": [
    "Detecting and dealing with missing values\n",
    "Data type conversions (e.g. numeric data mistakenly encoded as strings)\n",
    "Checking for and removing multicollinearity (correlated predictors)\n",
    "Normalizing our numeric data\n",
    "Converting categorical data to numeric format through one-hot encodin"
   ]
  },
  {
   "cell_type": "markdown",
   "id": "7f0601cd",
   "metadata": {},
   "source": [
    "# Modeling "
   ]
  },
  {
   "cell_type": "markdown",
   "id": "66559051",
   "metadata": {},
   "source": [
    "Detecting and dealing with missing values\n",
    "Data type conversions (e.g. numeric data mistakenly encoded as strings)\n",
    "Checking for and removing multicollinearity (correlated predictors)\n",
    "Normalizing our numeric data\n",
    "Converting categorical data to numeric format through one-hot encodin"
   ]
  },
  {
   "cell_type": "markdown",
   "id": "0b00b5fe",
   "metadata": {},
   "source": [
    "# Evaluation"
   ]
  },
  {
   "cell_type": "markdown",
   "id": "0692bb20",
   "metadata": {},
   "source": [
    "During this step, we'll evaluate the results of our modeling efforts. Does our model solve the problems that we outlined all the way back during step 1? Why or why not?"
   ]
  },
  {
   "cell_type": "markdown",
   "id": "d2b20bd4",
   "metadata": {},
   "source": [
    "# 1. Obtain"
   ]
  },
  {
   "cell_type": "markdown",
   "id": "68a63005",
   "metadata": {},
   "source": [
    "# 2. Scrub"
   ]
  },
  {
   "cell_type": "markdown",
   "id": "8f175fd6",
   "metadata": {},
   "source": [
    "# 3. Explore"
   ]
  },
  {
   "cell_type": "markdown",
   "id": "8dc40f9e",
   "metadata": {},
   "source": [
    "# 4. Model"
   ]
  },
  {
   "cell_type": "markdown",
   "id": "a537b30c",
   "metadata": {},
   "source": [
    "# 5. Interpret"
   ]
  }
 ],
 "metadata": {
  "kernelspec": {
   "display_name": "Python 3 (ipykernel)",
   "language": "python",
   "name": "python3"
  },
  "language_info": {
   "codemirror_mode": {
    "name": "ipython",
    "version": 3
   },
   "file_extension": ".py",
   "mimetype": "text/x-python",
   "name": "python",
   "nbconvert_exporter": "python",
   "pygments_lexer": "ipython3",
   "version": "3.9.12"
  }
 },
 "nbformat": 4,
 "nbformat_minor": 5
}
