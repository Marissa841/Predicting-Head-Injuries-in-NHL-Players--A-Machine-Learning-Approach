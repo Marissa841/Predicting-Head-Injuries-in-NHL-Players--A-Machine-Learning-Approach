{
 "cells": [
  {
   "cell_type": "code",
   "execution_count": 29,
   "id": "feb0a9a4",
   "metadata": {},
   "outputs": [
    {
     "name": "stdout",
     "output_type": "stream",
     "text": [
      "Requirement already satisfied: eliteprospect_scraper in c:\\users\\jeff\\anaconda3\\lib\\site-packages (0.9)\n",
      "Requirement already satisfied: bs4 in c:\\users\\jeff\\anaconda3\\lib\\site-packages (from eliteprospect_scraper) (0.0.1)\n",
      "Requirement already satisfied: datetime in c:\\users\\jeff\\anaconda3\\lib\\site-packages (from eliteprospect_scraper) (4.9)\n",
      "Requirement already satisfied: numpy in c:\\users\\jeff\\anaconda3\\lib\\site-packages (from eliteprospect_scraper) (1.21.5)\n",
      "Requirement already satisfied: pandas in c:\\users\\jeff\\anaconda3\\lib\\site-packages (from eliteprospect_scraper) (1.4.2)\n",
      "Requirement already satisfied: beautifulsoup4 in c:\\users\\jeff\\anaconda3\\lib\\site-packages (from bs4->eliteprospect_scraper) (4.11.1)\n",
      "Requirement already satisfied: soupsieve>1.2 in c:\\users\\jeff\\anaconda3\\lib\\site-packages (from beautifulsoup4->bs4->eliteprospect_scraper) (2.3.1)\n",
      "Requirement already satisfied: pytz in c:\\users\\jeff\\anaconda3\\lib\\site-packages (from datetime->eliteprospect_scraper) (2021.3)\n",
      "Requirement already satisfied: zope.interface in c:\\users\\jeff\\anaconda3\\lib\\site-packages (from datetime->eliteprospect_scraper) (5.4.0)\n",
      "Requirement already satisfied: python-dateutil>=2.8.1 in c:\\users\\jeff\\anaconda3\\lib\\site-packages (from pandas->eliteprospect_scraper) (2.8.2)\n",
      "Requirement already satisfied: six>=1.5 in c:\\users\\jeff\\anaconda3\\lib\\site-packages (from python-dateutil>=2.8.1->pandas->eliteprospect_scraper) (1.16.0)\n",
      "Requirement already satisfied: setuptools in c:\\users\\jeff\\anaconda3\\lib\\site-packages (from zope.interface->datetime->eliteprospect_scraper) (61.2.0)\n"
     ]
    }
   ],
   "source": [
    "!pip install eliteprospect_scraper"
   ]
  },
  {
   "cell_type": "code",
   "execution_count": 30,
   "id": "3925afb9",
   "metadata": {},
   "outputs": [],
   "source": [
    "import eliteprospect.eliteprospect_scraper as ep"
   ]
  },
  {
   "cell_type": "code",
   "execution_count": 31,
   "id": "baf3c57c",
   "metadata": {},
   "outputs": [
    {
     "name": "stderr",
     "output_type": "stream",
     "text": [
      "C:\\Users\\Jeff\\anaconda3\\lib\\site-packages\\eliteprospect\\eliteprospect_scraper.py:86: FutureWarning: The default value of regex will change from True to False in a future version.\n",
      "  df_players['playername'] = df_players['player'].str.replace(r\"\\(.*\\)\",\"\")\n"
     ]
    }
   ],
   "source": [
    "nhl_19_20 = ep.getPlayers('nhl', '2019-20')"
   ]
  },
  {
   "cell_type": "code",
   "execution_count": 32,
   "id": "bc215ec6",
   "metadata": {},
   "outputs": [
    {
     "data": {
      "text/html": [
       "<div>\n",
       "<style scoped>\n",
       "    .dataframe tbody tr th:only-of-type {\n",
       "        vertical-align: middle;\n",
       "    }\n",
       "\n",
       "    .dataframe tbody tr th {\n",
       "        vertical-align: top;\n",
       "    }\n",
       "\n",
       "    .dataframe thead th {\n",
       "        text-align: right;\n",
       "    }\n",
       "</style>\n",
       "<table border=\"1\" class=\"dataframe\">\n",
       "  <thead>\n",
       "    <tr style=\"text-align: right;\">\n",
       "      <th></th>\n",
       "      <th>player</th>\n",
       "      <th>team</th>\n",
       "      <th>gp</th>\n",
       "      <th>g</th>\n",
       "      <th>a</th>\n",
       "      <th>tp</th>\n",
       "      <th>ppg</th>\n",
       "      <th>pim</th>\n",
       "      <th>+/-</th>\n",
       "      <th>link</th>\n",
       "      <th>season</th>\n",
       "      <th>league</th>\n",
       "      <th>playername</th>\n",
       "      <th>position</th>\n",
       "      <th>fw_def</th>\n",
       "    </tr>\n",
       "  </thead>\n",
       "  <tbody>\n",
       "    <tr>\n",
       "      <th>0</th>\n",
       "      <td>Leon Draisaitl (C/W)</td>\n",
       "      <td>Edmonton Oilers</td>\n",
       "      <td>71</td>\n",
       "      <td>43</td>\n",
       "      <td>67</td>\n",
       "      <td>110</td>\n",
       "      <td>1.55</td>\n",
       "      <td>18</td>\n",
       "      <td>-7</td>\n",
       "      <td>https://www.eliteprospects.com/player/71913/le...</td>\n",
       "      <td>2019-20</td>\n",
       "      <td>nhl</td>\n",
       "      <td>Leon Draisaitl</td>\n",
       "      <td>C/W</td>\n",
       "      <td>FW</td>\n",
       "    </tr>\n",
       "    <tr>\n",
       "      <th>1</th>\n",
       "      <td>Connor McDavid (C)</td>\n",
       "      <td>Edmonton Oilers</td>\n",
       "      <td>64</td>\n",
       "      <td>34</td>\n",
       "      <td>63</td>\n",
       "      <td>97</td>\n",
       "      <td>1.52</td>\n",
       "      <td>28</td>\n",
       "      <td>-6</td>\n",
       "      <td>https://www.eliteprospects.com/player/183442/c...</td>\n",
       "      <td>2019-20</td>\n",
       "      <td>nhl</td>\n",
       "      <td>Connor McDavid</td>\n",
       "      <td>C</td>\n",
       "      <td>FW</td>\n",
       "    </tr>\n",
       "  </tbody>\n",
       "</table>\n",
       "</div>"
      ],
      "text/plain": [
       "                 player             team  gp   g   a   tp   ppg pim +/-  \\\n",
       "0  Leon Draisaitl (C/W)  Edmonton Oilers  71  43  67  110  1.55  18  -7   \n",
       "1    Connor McDavid (C)  Edmonton Oilers  64  34  63   97  1.52  28  -6   \n",
       "\n",
       "                                                link   season league  \\\n",
       "0  https://www.eliteprospects.com/player/71913/le...  2019-20    nhl   \n",
       "1  https://www.eliteprospects.com/player/183442/c...  2019-20    nhl   \n",
       "\n",
       "        playername position fw_def  \n",
       "0  Leon Draisaitl       C/W     FW  \n",
       "1  Connor McDavid         C     FW  "
      ]
     },
     "execution_count": 32,
     "metadata": {},
     "output_type": "execute_result"
    }
   ],
   "source": [
    "nhl_19_20.head(2)"
   ]
  },
  {
   "cell_type": "code",
   "execution_count": 33,
   "id": "74d98391",
   "metadata": {},
   "outputs": [],
   "source": [
    "import pandas as pd "
   ]
  },
  {
   "cell_type": "code",
   "execution_count": 34,
   "id": "88a00191",
   "metadata": {},
   "outputs": [],
   "source": [
    "# load in nhl injury data \n",
    "injuries = pd.read_csv('nhl_injury.csv', encoding='latin')"
   ]
  },
  {
   "cell_type": "code",
   "execution_count": 35,
   "id": "74f16000",
   "metadata": {},
   "outputs": [
    {
     "data": {
      "text/plain": [
       "Index(['ï»¿Season', 'Team', 'Position', 'Player', 'Injury Type', 'Cap Hit',\n",
       "       'Chip', 'Games Missed', 'Games Missed.1'],\n",
       "      dtype='object')"
      ]
     },
     "execution_count": 35,
     "metadata": {},
     "output_type": "execute_result"
    }
   ],
   "source": [
    "injuries.columns"
   ]
  },
  {
   "cell_type": "code",
   "execution_count": 36,
   "id": "e820984c",
   "metadata": {},
   "outputs": [
    {
     "data": {
      "text/plain": [
       "array(['Foot', 'Abdominal', 'Knee', 'Concussion', 'Groin', 'Neck',\n",
       "       'Dizziness', 'Hand', 'Jaw', 'Headache', 'Ribs', 'Shoulder', 'Back',\n",
       "       'Ankle', 'Hip', 'Eye', 'Collarbone', 'Thumb', 'Flu', 'Cheek',\n",
       "       'Hamstring', 'Arm', 'Leg', 'Chest', 'Charley horse', 'Pelvis',\n",
       "       'Wrist', 'Heel', 'Head', 'Toe', 'Stomach', 'Sternum', 'Finger',\n",
       "       'Larynx', 'Elbow', 'Sinus', 'Illness', 'Gluteus', 'Thigh', 'Nose',\n",
       "       'Kidney', 'Hernia', 'Quadriceps', 'Calf', 'Tailbone', 'Mouth',\n",
       "       'Ear', 'Oblique', 'Shin', 'Bicep', 'Skin infection', 'Spleen',\n",
       "       'Facial', 'Pneumonia', 'Achilles', 'Gall bladder', 'Dental',\n",
       "       'Triceps', 'Respiratory', 'Cancer', 'Fatigue', 'Dehydration',\n",
       "       'Undisclosed', 'Upper body', 'Blood clots', 'Throat',\n",
       "       'Orbital bone', 'Heart', 'Infection', 'Appendicitis', 'Chickenpox',\n",
       "       'Ulcerative colitis', 'Lower body', 'Torso', 'Migraine', 'Vertigo',\n",
       "       'Hepatitis', 'Adductor', 'Bronchitis', 'Sacrum', 'Pubic bone',\n",
       "       'Rash', 'Soreness', 'Buttocks', 'Tonsils', 'Pectoral',\n",
       "       'Appendectomy', 'Groiin', 'Pinched nerve', 'Thyroid', 'Mid-body',\n",
       "       'Colon', 'Kidney stones', 'Sternoclavicular', 'Lung',\n",
       "       'Core muscle', 'COVID-related', 'Stroke'], dtype=object)"
      ]
     },
     "execution_count": 36,
     "metadata": {},
     "output_type": "execute_result"
    }
   ],
   "source": [
    "injuries['Injury Type'].unique()"
   ]
  },
  {
   "cell_type": "code",
   "execution_count": 37,
   "id": "557c9d07",
   "metadata": {},
   "outputs": [],
   "source": [
    "# filter to only 2020-2021\n",
    "injuries_19_20 = injuries[injuries['ï»¿Season'] == '2019/20']"
   ]
  },
  {
   "cell_type": "code",
   "execution_count": 38,
   "id": "da8f3f01",
   "metadata": {},
   "outputs": [],
   "source": [
    "# filter to only be injury type of concussion \n",
    "concussion_injuries = injuries_19_20[injuries_19_20['Injury Type'] == 'Concussion']"
   ]
  },
  {
   "cell_type": "code",
   "execution_count": 39,
   "id": "3d588228",
   "metadata": {},
   "outputs": [
    {
     "data": {
      "text/html": [
       "<div>\n",
       "<style scoped>\n",
       "    .dataframe tbody tr th:only-of-type {\n",
       "        vertical-align: middle;\n",
       "    }\n",
       "\n",
       "    .dataframe tbody tr th {\n",
       "        vertical-align: top;\n",
       "    }\n",
       "\n",
       "    .dataframe thead th {\n",
       "        text-align: right;\n",
       "    }\n",
       "</style>\n",
       "<table border=\"1\" class=\"dataframe\">\n",
       "  <thead>\n",
       "    <tr style=\"text-align: right;\">\n",
       "      <th></th>\n",
       "      <th>ï»¿Season</th>\n",
       "      <th>Team</th>\n",
       "      <th>Position</th>\n",
       "      <th>Player</th>\n",
       "      <th>Injury Type</th>\n",
       "      <th>Cap Hit</th>\n",
       "      <th>Chip</th>\n",
       "      <th>Games Missed</th>\n",
       "      <th>Games Missed.1</th>\n",
       "    </tr>\n",
       "  </thead>\n",
       "  <tbody>\n",
       "    <tr>\n",
       "      <th>17426</th>\n",
       "      <td>2019/20</td>\n",
       "      <td>Boston</td>\n",
       "      <td>G</td>\n",
       "      <td>Rask, Tuukka</td>\n",
       "      <td>Concussion</td>\n",
       "      <td>7.0</td>\n",
       "      <td>256.097561</td>\n",
       "      <td>3</td>\n",
       "      <td>3</td>\n",
       "    </tr>\n",
       "    <tr>\n",
       "      <th>17436</th>\n",
       "      <td>2019/20</td>\n",
       "      <td>Buffalo</td>\n",
       "      <td>F</td>\n",
       "      <td>Okposo, Kyle</td>\n",
       "      <td>Concussion</td>\n",
       "      <td>6.0</td>\n",
       "      <td>731.707317</td>\n",
       "      <td>10</td>\n",
       "      <td>10</td>\n",
       "    </tr>\n",
       "  </tbody>\n",
       "</table>\n",
       "</div>"
      ],
      "text/plain": [
       "      ï»¿Season     Team Position        Player Injury Type  Cap Hit  \\\n",
       "17426   2019/20   Boston        G  Rask, Tuukka  Concussion      7.0   \n",
       "17436   2019/20  Buffalo        F  Okposo, Kyle  Concussion      6.0   \n",
       "\n",
       "             Chip  Games Missed  Games Missed.1  \n",
       "17426  256.097561             3               3  \n",
       "17436  731.707317            10              10  "
      ]
     },
     "execution_count": 39,
     "metadata": {},
     "output_type": "execute_result"
    }
   ],
   "source": [
    "concussion_injuries.head(2)"
   ]
  },
  {
   "cell_type": "code",
   "execution_count": 40,
   "id": "784ebe7c",
   "metadata": {},
   "outputs": [],
   "source": [
    "# make new name variable to join between the 2 datasets \n",
    "new_names = concussion_injuries['Player'].map(lambda x: x.split(' ')[1]) + ' ' + concussion_injuries['Player'].map(lambda x: x.split(' ')[0])"
   ]
  },
  {
   "cell_type": "code",
   "execution_count": 41,
   "id": "922ecadc",
   "metadata": {},
   "outputs": [],
   "source": [
    "new_names = [x.replace(',', '') for x in new_names]"
   ]
  },
  {
   "cell_type": "code",
   "execution_count": 42,
   "id": "3ead692f",
   "metadata": {},
   "outputs": [
    {
     "name": "stderr",
     "output_type": "stream",
     "text": [
      "C:\\Users\\Jeff\\AppData\\Local\\Temp\\ipykernel_18400\\2633589963.py:1: SettingWithCopyWarning: \n",
      "A value is trying to be set on a copy of a slice from a DataFrame.\n",
      "Try using .loc[row_indexer,col_indexer] = value instead\n",
      "\n",
      "See the caveats in the documentation: https://pandas.pydata.org/pandas-docs/stable/user_guide/indexing.html#returning-a-view-versus-a-copy\n",
      "  concussion_injuries['Name'] = new_names\n"
     ]
    }
   ],
   "source": [
    "concussion_injuries['Name'] = new_names"
   ]
  },
  {
   "cell_type": "code",
   "execution_count": 43,
   "id": "50bc15dd",
   "metadata": {},
   "outputs": [
    {
     "data": {
      "text/html": [
       "<div>\n",
       "<style scoped>\n",
       "    .dataframe tbody tr th:only-of-type {\n",
       "        vertical-align: middle;\n",
       "    }\n",
       "\n",
       "    .dataframe tbody tr th {\n",
       "        vertical-align: top;\n",
       "    }\n",
       "\n",
       "    .dataframe thead th {\n",
       "        text-align: right;\n",
       "    }\n",
       "</style>\n",
       "<table border=\"1\" class=\"dataframe\">\n",
       "  <thead>\n",
       "    <tr style=\"text-align: right;\">\n",
       "      <th></th>\n",
       "      <th>ï»¿Season</th>\n",
       "      <th>Team</th>\n",
       "      <th>Position</th>\n",
       "      <th>Player</th>\n",
       "      <th>Injury Type</th>\n",
       "      <th>Cap Hit</th>\n",
       "      <th>Chip</th>\n",
       "      <th>Games Missed</th>\n",
       "      <th>Games Missed.1</th>\n",
       "      <th>Name</th>\n",
       "    </tr>\n",
       "  </thead>\n",
       "  <tbody>\n",
       "    <tr>\n",
       "      <th>17426</th>\n",
       "      <td>2019/20</td>\n",
       "      <td>Boston</td>\n",
       "      <td>G</td>\n",
       "      <td>Rask, Tuukka</td>\n",
       "      <td>Concussion</td>\n",
       "      <td>7.0</td>\n",
       "      <td>256.097561</td>\n",
       "      <td>3</td>\n",
       "      <td>3</td>\n",
       "      <td>Tuukka Rask</td>\n",
       "    </tr>\n",
       "    <tr>\n",
       "      <th>17436</th>\n",
       "      <td>2019/20</td>\n",
       "      <td>Buffalo</td>\n",
       "      <td>F</td>\n",
       "      <td>Okposo, Kyle</td>\n",
       "      <td>Concussion</td>\n",
       "      <td>6.0</td>\n",
       "      <td>731.707317</td>\n",
       "      <td>10</td>\n",
       "      <td>10</td>\n",
       "      <td>Kyle Okposo</td>\n",
       "    </tr>\n",
       "  </tbody>\n",
       "</table>\n",
       "</div>"
      ],
      "text/plain": [
       "      ï»¿Season     Team Position        Player Injury Type  Cap Hit  \\\n",
       "17426   2019/20   Boston        G  Rask, Tuukka  Concussion      7.0   \n",
       "17436   2019/20  Buffalo        F  Okposo, Kyle  Concussion      6.0   \n",
       "\n",
       "             Chip  Games Missed  Games Missed.1         Name  \n",
       "17426  256.097561             3               3  Tuukka Rask  \n",
       "17436  731.707317            10              10  Kyle Okposo  "
      ]
     },
     "execution_count": 43,
     "metadata": {},
     "output_type": "execute_result"
    }
   ],
   "source": [
    "concussion_injuries.head(2)"
   ]
  },
  {
   "cell_type": "code",
   "execution_count": 44,
   "id": "3c25a3d8",
   "metadata": {},
   "outputs": [],
   "source": [
    "# remove white space from player name\n",
    "nhl_19_20['playername'] = nhl_19_20['playername'].map(lambda x: x.strip())"
   ]
  },
  {
   "cell_type": "code",
   "execution_count": 45,
   "id": "b0330624",
   "metadata": {},
   "outputs": [],
   "source": [
    "# join 2 datasets \n",
    "joined_data = nhl_19_20.merge(concussion_injuries['Name'],\n",
    "                        how='left', left_on='playername',\n",
    "                        right_on='Name')"
   ]
  },
  {
   "cell_type": "code",
   "execution_count": 46,
   "id": "f57450ac",
   "metadata": {},
   "outputs": [],
   "source": [
    "# fill in missing values with 0 \n",
    "joined_data.fillna(0, inplace=True)"
   ]
  },
  {
   "cell_type": "code",
   "execution_count": 47,
   "id": "f968c8f9",
   "metadata": {},
   "outputs": [],
   "source": [
    "# create concussion column \n",
    "import numpy as np \n",
    "\n",
    "joined_data['Concussion'] = np.where(joined_data['Name'] == 0, 0, 1)"
   ]
  },
  {
   "cell_type": "code",
   "execution_count": 48,
   "id": "aa4d1e4f",
   "metadata": {},
   "outputs": [],
   "source": [
    "# column I chose - not necessarily the columns you should use \n",
    "final_df = joined_data[['player', 'team', 'gp', 'g', 'a', 'tp', 'ppg', 'pim', '+/-', \n",
    " 'position', 'fw_def','Concussion']]"
   ]
  },
  {
   "cell_type": "code",
   "execution_count": 49,
   "id": "f0c608cd",
   "metadata": {},
   "outputs": [
    {
     "data": {
      "text/html": [
       "<div>\n",
       "<style scoped>\n",
       "    .dataframe tbody tr th:only-of-type {\n",
       "        vertical-align: middle;\n",
       "    }\n",
       "\n",
       "    .dataframe tbody tr th {\n",
       "        vertical-align: top;\n",
       "    }\n",
       "\n",
       "    .dataframe thead th {\n",
       "        text-align: right;\n",
       "    }\n",
       "</style>\n",
       "<table border=\"1\" class=\"dataframe\">\n",
       "  <thead>\n",
       "    <tr style=\"text-align: right;\">\n",
       "      <th></th>\n",
       "      <th>player</th>\n",
       "      <th>team</th>\n",
       "      <th>gp</th>\n",
       "      <th>g</th>\n",
       "      <th>a</th>\n",
       "      <th>tp</th>\n",
       "      <th>ppg</th>\n",
       "      <th>pim</th>\n",
       "      <th>+/-</th>\n",
       "      <th>position</th>\n",
       "      <th>fw_def</th>\n",
       "      <th>Concussion</th>\n",
       "    </tr>\n",
       "  </thead>\n",
       "  <tbody>\n",
       "    <tr>\n",
       "      <th>0</th>\n",
       "      <td>Leon Draisaitl (C/W)</td>\n",
       "      <td>Edmonton Oilers</td>\n",
       "      <td>71</td>\n",
       "      <td>43</td>\n",
       "      <td>67</td>\n",
       "      <td>110</td>\n",
       "      <td>1.55</td>\n",
       "      <td>18</td>\n",
       "      <td>-7</td>\n",
       "      <td>C/W</td>\n",
       "      <td>FW</td>\n",
       "      <td>0</td>\n",
       "    </tr>\n",
       "    <tr>\n",
       "      <th>1</th>\n",
       "      <td>Connor McDavid (C)</td>\n",
       "      <td>Edmonton Oilers</td>\n",
       "      <td>64</td>\n",
       "      <td>34</td>\n",
       "      <td>63</td>\n",
       "      <td>97</td>\n",
       "      <td>1.52</td>\n",
       "      <td>28</td>\n",
       "      <td>-6</td>\n",
       "      <td>C</td>\n",
       "      <td>FW</td>\n",
       "      <td>0</td>\n",
       "    </tr>\n",
       "    <tr>\n",
       "      <th>2</th>\n",
       "      <td>David Pastrnak (RW)</td>\n",
       "      <td>Boston Bruins</td>\n",
       "      <td>70</td>\n",
       "      <td>48</td>\n",
       "      <td>47</td>\n",
       "      <td>95</td>\n",
       "      <td>1.36</td>\n",
       "      <td>40</td>\n",
       "      <td>21</td>\n",
       "      <td>RW</td>\n",
       "      <td>FW</td>\n",
       "      <td>0</td>\n",
       "    </tr>\n",
       "    <tr>\n",
       "      <th>3</th>\n",
       "      <td>Artemi Panarin (LW)</td>\n",
       "      <td>New York Rangers</td>\n",
       "      <td>69</td>\n",
       "      <td>32</td>\n",
       "      <td>63</td>\n",
       "      <td>95</td>\n",
       "      <td>1.38</td>\n",
       "      <td>20</td>\n",
       "      <td>36</td>\n",
       "      <td>LW</td>\n",
       "      <td>FW</td>\n",
       "      <td>0</td>\n",
       "    </tr>\n",
       "    <tr>\n",
       "      <th>4</th>\n",
       "      <td>Nathan MacKinnon (C/RW)</td>\n",
       "      <td>Colorado Avalanche</td>\n",
       "      <td>69</td>\n",
       "      <td>35</td>\n",
       "      <td>58</td>\n",
       "      <td>93</td>\n",
       "      <td>1.35</td>\n",
       "      <td>12</td>\n",
       "      <td>13</td>\n",
       "      <td>C/RW</td>\n",
       "      <td>FW</td>\n",
       "      <td>0</td>\n",
       "    </tr>\n",
       "  </tbody>\n",
       "</table>\n",
       "</div>"
      ],
      "text/plain": [
       "                    player                team  gp   g   a   tp   ppg pim +/-  \\\n",
       "0     Leon Draisaitl (C/W)     Edmonton Oilers  71  43  67  110  1.55  18  -7   \n",
       "1       Connor McDavid (C)     Edmonton Oilers  64  34  63   97  1.52  28  -6   \n",
       "2      David Pastrnak (RW)       Boston Bruins  70  48  47   95  1.36  40  21   \n",
       "3      Artemi Panarin (LW)    New York Rangers  69  32  63   95  1.38  20  36   \n",
       "4  Nathan MacKinnon (C/RW)  Colorado Avalanche  69  35  58   93  1.35  12  13   \n",
       "\n",
       "  position fw_def  Concussion  \n",
       "0      C/W     FW           0  \n",
       "1        C     FW           0  \n",
       "2       RW     FW           0  \n",
       "3       LW     FW           0  \n",
       "4     C/RW     FW           0  "
      ]
     },
     "execution_count": 49,
     "metadata": {},
     "output_type": "execute_result"
    }
   ],
   "source": [
    "final_df.head()"
   ]
  },
  {
   "cell_type": "code",
   "execution_count": 50,
   "id": "0fb98f75",
   "metadata": {},
   "outputs": [
    {
     "data": {
      "text/plain": [
       "array(['2000/01', '2000/01 (playoffs)', '2001/02', '2001/02 (playoffs)',\n",
       "       '2002/03', '2002/03 (playoffs)', '2003/04', '2003/04 (playoffs)',\n",
       "       '2005/06', '2005/06 (playoffs)', '2006/07', '2006/07 (playoffs)',\n",
       "       '2007/08', '2007/08 (playoffs)', '2008/09', '2008/09 (playoffs)',\n",
       "       '2009/10', '2009/10 (playoffs)', '2010/11', '2010/11 (playoffs)',\n",
       "       '2011/12', '2011/12 (playoffs)', '2012/13', '2012/13 (playoffs)',\n",
       "       '2013/14', '2013/14 (playoffs)', '2014/15', '2014/15 (playoffs)',\n",
       "       '2015/16', '2015/16 (playoffs)', '2016/17', '2016/17 (playoffs)',\n",
       "       '2017/18', '2017/18 (playoffs)', '2018/19', '2018/19 (playoffs)',\n",
       "       '2019/20', '2019/20 (playoffs+)', '2020/21', '2020/21 (playoffs)',\n",
       "       '2021/22', '2021/22 (playoffs)', '2022/23'], dtype=object)"
      ]
     },
     "execution_count": 50,
     "metadata": {},
     "output_type": "execute_result"
    }
   ],
   "source": [
    "injuries['ï»¿Season'].unique()"
   ]
  },
  {
   "cell_type": "code",
   "execution_count": 51,
   "id": "d244dc96",
   "metadata": {},
   "outputs": [
    {
     "data": {
      "text/html": [
       "<div>\n",
       "<style scoped>\n",
       "    .dataframe tbody tr th:only-of-type {\n",
       "        vertical-align: middle;\n",
       "    }\n",
       "\n",
       "    .dataframe tbody tr th {\n",
       "        vertical-align: top;\n",
       "    }\n",
       "\n",
       "    .dataframe thead th {\n",
       "        text-align: right;\n",
       "    }\n",
       "</style>\n",
       "<table border=\"1\" class=\"dataframe\">\n",
       "  <thead>\n",
       "    <tr style=\"text-align: right;\">\n",
       "      <th></th>\n",
       "      <th>player</th>\n",
       "      <th>team</th>\n",
       "      <th>gp</th>\n",
       "      <th>g</th>\n",
       "      <th>a</th>\n",
       "      <th>tp</th>\n",
       "      <th>ppg</th>\n",
       "      <th>pim</th>\n",
       "      <th>+/-</th>\n",
       "      <th>position</th>\n",
       "      <th>fw_def</th>\n",
       "      <th>Concussion</th>\n",
       "    </tr>\n",
       "  </thead>\n",
       "  <tbody>\n",
       "    <tr>\n",
       "      <th>0</th>\n",
       "      <td>Leon Draisaitl (C/W)</td>\n",
       "      <td>Edmonton Oilers</td>\n",
       "      <td>71</td>\n",
       "      <td>43</td>\n",
       "      <td>67</td>\n",
       "      <td>110</td>\n",
       "      <td>1.55</td>\n",
       "      <td>18</td>\n",
       "      <td>-7</td>\n",
       "      <td>C/W</td>\n",
       "      <td>FW</td>\n",
       "      <td>0</td>\n",
       "    </tr>\n",
       "    <tr>\n",
       "      <th>1</th>\n",
       "      <td>Connor McDavid (C)</td>\n",
       "      <td>Edmonton Oilers</td>\n",
       "      <td>64</td>\n",
       "      <td>34</td>\n",
       "      <td>63</td>\n",
       "      <td>97</td>\n",
       "      <td>1.52</td>\n",
       "      <td>28</td>\n",
       "      <td>-6</td>\n",
       "      <td>C</td>\n",
       "      <td>FW</td>\n",
       "      <td>0</td>\n",
       "    </tr>\n",
       "    <tr>\n",
       "      <th>2</th>\n",
       "      <td>David Pastrnak (RW)</td>\n",
       "      <td>Boston Bruins</td>\n",
       "      <td>70</td>\n",
       "      <td>48</td>\n",
       "      <td>47</td>\n",
       "      <td>95</td>\n",
       "      <td>1.36</td>\n",
       "      <td>40</td>\n",
       "      <td>21</td>\n",
       "      <td>RW</td>\n",
       "      <td>FW</td>\n",
       "      <td>0</td>\n",
       "    </tr>\n",
       "    <tr>\n",
       "      <th>3</th>\n",
       "      <td>Artemi Panarin (LW)</td>\n",
       "      <td>New York Rangers</td>\n",
       "      <td>69</td>\n",
       "      <td>32</td>\n",
       "      <td>63</td>\n",
       "      <td>95</td>\n",
       "      <td>1.38</td>\n",
       "      <td>20</td>\n",
       "      <td>36</td>\n",
       "      <td>LW</td>\n",
       "      <td>FW</td>\n",
       "      <td>0</td>\n",
       "    </tr>\n",
       "    <tr>\n",
       "      <th>4</th>\n",
       "      <td>Nathan MacKinnon (C/RW)</td>\n",
       "      <td>Colorado Avalanche</td>\n",
       "      <td>69</td>\n",
       "      <td>35</td>\n",
       "      <td>58</td>\n",
       "      <td>93</td>\n",
       "      <td>1.35</td>\n",
       "      <td>12</td>\n",
       "      <td>13</td>\n",
       "      <td>C/RW</td>\n",
       "      <td>FW</td>\n",
       "      <td>0</td>\n",
       "    </tr>\n",
       "  </tbody>\n",
       "</table>\n",
       "</div>"
      ],
      "text/plain": [
       "                    player                team  gp   g   a   tp   ppg pim +/-  \\\n",
       "0     Leon Draisaitl (C/W)     Edmonton Oilers  71  43  67  110  1.55  18  -7   \n",
       "1       Connor McDavid (C)     Edmonton Oilers  64  34  63   97  1.52  28  -6   \n",
       "2      David Pastrnak (RW)       Boston Bruins  70  48  47   95  1.36  40  21   \n",
       "3      Artemi Panarin (LW)    New York Rangers  69  32  63   95  1.38  20  36   \n",
       "4  Nathan MacKinnon (C/RW)  Colorado Avalanche  69  35  58   93  1.35  12  13   \n",
       "\n",
       "  position fw_def  Concussion  \n",
       "0      C/W     FW           0  \n",
       "1        C     FW           0  \n",
       "2       RW     FW           0  \n",
       "3       LW     FW           0  \n",
       "4     C/RW     FW           0  "
      ]
     },
     "execution_count": 51,
     "metadata": {},
     "output_type": "execute_result"
    }
   ],
   "source": [
    "final_df.head()"
   ]
  },
  {
   "cell_type": "code",
   "execution_count": 52,
   "id": "2646c984",
   "metadata": {},
   "outputs": [
    {
     "data": {
      "text/plain": [
       "0    872\n",
       "1     28\n",
       "Name: Concussion, dtype: int64"
      ]
     },
     "execution_count": 52,
     "metadata": {},
     "output_type": "execute_result"
    }
   ],
   "source": [
    "final_df['Concussion'].value_counts()"
   ]
  },
  {
   "cell_type": "code",
   "execution_count": 53,
   "id": "39eb105b",
   "metadata": {},
   "outputs": [
    {
     "name": "stderr",
     "output_type": "stream",
     "text": [
      "C:\\Users\\Jeff\\AppData\\Local\\Temp\\ipykernel_18400\\1977981380.py:1: SettingWithCopyWarning: \n",
      "A value is trying to be set on a copy of a slice from a DataFrame.\n",
      "Try using .loc[row_indexer,col_indexer] = value instead\n",
      "\n",
      "See the caveats in the documentation: https://pandas.pydata.org/pandas-docs/stable/user_guide/indexing.html#returning-a-view-versus-a-copy\n",
      "  final_df['pim'] = final_df['pim'].astype(int)\n"
     ]
    }
   ],
   "source": [
    "final_df['pim'] = final_df['pim'].astype(int)"
   ]
  },
  {
   "cell_type": "code",
   "execution_count": 54,
   "id": "b707c4f6",
   "metadata": {},
   "outputs": [
    {
     "data": {
      "text/plain": [
       "Concussion\n",
       "0    19.402523\n",
       "1    16.928571\n",
       "Name: pim, dtype: float64"
      ]
     },
     "execution_count": 54,
     "metadata": {},
     "output_type": "execute_result"
    }
   ],
   "source": [
    "final_df.groupby('Concussion')['pim'].mean()"
   ]
  },
  {
   "cell_type": "code",
   "execution_count": 55,
   "id": "baa7a207",
   "metadata": {},
   "outputs": [
    {
     "name": "stderr",
     "output_type": "stream",
     "text": [
      "C:\\Users\\Jeff\\AppData\\Local\\Temp\\ipykernel_18400\\3355596331.py:1: SettingWithCopyWarning: \n",
      "A value is trying to be set on a copy of a slice from a DataFrame.\n",
      "Try using .loc[row_indexer,col_indexer] = value instead\n",
      "\n",
      "See the caveats in the documentation: https://pandas.pydata.org/pandas-docs/stable/user_guide/indexing.html#returning-a-view-versus-a-copy\n",
      "  final_df['gp'] = final_df['gp'].astype(int)\n"
     ]
    }
   ],
   "source": [
    "final_df['gp'] = final_df['gp'].astype(int)"
   ]
  },
  {
   "cell_type": "code",
   "execution_count": 57,
   "id": "bebd9468",
   "metadata": {},
   "outputs": [
    {
     "data": {
      "text/html": [
       "<div>\n",
       "<style scoped>\n",
       "    .dataframe tbody tr th:only-of-type {\n",
       "        vertical-align: middle;\n",
       "    }\n",
       "\n",
       "    .dataframe tbody tr th {\n",
       "        vertical-align: top;\n",
       "    }\n",
       "\n",
       "    .dataframe thead th {\n",
       "        text-align: right;\n",
       "    }\n",
       "</style>\n",
       "<table border=\"1\" class=\"dataframe\">\n",
       "  <thead>\n",
       "    <tr style=\"text-align: right;\">\n",
       "      <th></th>\n",
       "      <th>player</th>\n",
       "      <th>team</th>\n",
       "      <th>gp</th>\n",
       "      <th>g</th>\n",
       "      <th>a</th>\n",
       "      <th>tp</th>\n",
       "      <th>ppg</th>\n",
       "      <th>pim</th>\n",
       "      <th>+/-</th>\n",
       "      <th>position</th>\n",
       "      <th>fw_def</th>\n",
       "      <th>Concussion</th>\n",
       "    </tr>\n",
       "  </thead>\n",
       "  <tbody>\n",
       "    <tr>\n",
       "      <th>0</th>\n",
       "      <td>Leon Draisaitl (C/W)</td>\n",
       "      <td>Edmonton Oilers</td>\n",
       "      <td>71</td>\n",
       "      <td>43</td>\n",
       "      <td>67</td>\n",
       "      <td>110</td>\n",
       "      <td>1.55</td>\n",
       "      <td>18</td>\n",
       "      <td>-7</td>\n",
       "      <td>C/W</td>\n",
       "      <td>FW</td>\n",
       "      <td>0</td>\n",
       "    </tr>\n",
       "    <tr>\n",
       "      <th>1</th>\n",
       "      <td>Connor McDavid (C)</td>\n",
       "      <td>Edmonton Oilers</td>\n",
       "      <td>64</td>\n",
       "      <td>34</td>\n",
       "      <td>63</td>\n",
       "      <td>97</td>\n",
       "      <td>1.52</td>\n",
       "      <td>28</td>\n",
       "      <td>-6</td>\n",
       "      <td>C</td>\n",
       "      <td>FW</td>\n",
       "      <td>0</td>\n",
       "    </tr>\n",
       "    <tr>\n",
       "      <th>2</th>\n",
       "      <td>David Pastrnak (RW)</td>\n",
       "      <td>Boston Bruins</td>\n",
       "      <td>70</td>\n",
       "      <td>48</td>\n",
       "      <td>47</td>\n",
       "      <td>95</td>\n",
       "      <td>1.36</td>\n",
       "      <td>40</td>\n",
       "      <td>21</td>\n",
       "      <td>RW</td>\n",
       "      <td>FW</td>\n",
       "      <td>0</td>\n",
       "    </tr>\n",
       "    <tr>\n",
       "      <th>3</th>\n",
       "      <td>Artemi Panarin (LW)</td>\n",
       "      <td>New York Rangers</td>\n",
       "      <td>69</td>\n",
       "      <td>32</td>\n",
       "      <td>63</td>\n",
       "      <td>95</td>\n",
       "      <td>1.38</td>\n",
       "      <td>20</td>\n",
       "      <td>36</td>\n",
       "      <td>LW</td>\n",
       "      <td>FW</td>\n",
       "      <td>0</td>\n",
       "    </tr>\n",
       "    <tr>\n",
       "      <th>4</th>\n",
       "      <td>Nathan MacKinnon (C/RW)</td>\n",
       "      <td>Colorado Avalanche</td>\n",
       "      <td>69</td>\n",
       "      <td>35</td>\n",
       "      <td>58</td>\n",
       "      <td>93</td>\n",
       "      <td>1.35</td>\n",
       "      <td>12</td>\n",
       "      <td>13</td>\n",
       "      <td>C/RW</td>\n",
       "      <td>FW</td>\n",
       "      <td>0</td>\n",
       "    </tr>\n",
       "  </tbody>\n",
       "</table>\n",
       "</div>"
      ],
      "text/plain": [
       "                    player                team  gp   g   a   tp   ppg  pim  \\\n",
       "0     Leon Draisaitl (C/W)     Edmonton Oilers  71  43  67  110  1.55   18   \n",
       "1       Connor McDavid (C)     Edmonton Oilers  64  34  63   97  1.52   28   \n",
       "2      David Pastrnak (RW)       Boston Bruins  70  48  47   95  1.36   40   \n",
       "3      Artemi Panarin (LW)    New York Rangers  69  32  63   95  1.38   20   \n",
       "4  Nathan MacKinnon (C/RW)  Colorado Avalanche  69  35  58   93  1.35   12   \n",
       "\n",
       "  +/- position fw_def  Concussion  \n",
       "0  -7      C/W     FW           0  \n",
       "1  -6        C     FW           0  \n",
       "2  21       RW     FW           0  \n",
       "3  36       LW     FW           0  \n",
       "4  13     C/RW     FW           0  "
      ]
     },
     "execution_count": 57,
     "metadata": {},
     "output_type": "execute_result"
    }
   ],
   "source": [
    "final_df.head()"
   ]
  },
  {
   "cell_type": "code",
   "execution_count": 58,
   "id": "91a32e79",
   "metadata": {},
   "outputs": [
    {
     "name": "stdout",
     "output_type": "stream",
     "text": [
      "<class 'pandas.core.frame.DataFrame'>\n",
      "Int64Index: 900 entries, 0 to 899\n",
      "Data columns (total 12 columns):\n",
      " #   Column      Non-Null Count  Dtype \n",
      "---  ------      --------------  ----- \n",
      " 0   player      900 non-null    object\n",
      " 1   team        900 non-null    object\n",
      " 2   gp          900 non-null    int32 \n",
      " 3   g           900 non-null    object\n",
      " 4   a           900 non-null    object\n",
      " 5   tp          900 non-null    object\n",
      " 6   ppg         900 non-null    object\n",
      " 7   pim         900 non-null    int32 \n",
      " 8   +/-         900 non-null    object\n",
      " 9   position    900 non-null    object\n",
      " 10  fw_def      900 non-null    object\n",
      " 11  Concussion  900 non-null    int32 \n",
      "dtypes: int32(3), object(9)\n",
      "memory usage: 80.9+ KB\n"
     ]
    }
   ],
   "source": [
    "final_df.info()"
   ]
  },
  {
   "cell_type": "code",
   "execution_count": 60,
   "id": "b71e6062",
   "metadata": {},
   "outputs": [],
   "source": [
    "# final_df.groupby('Concussion')['position'].mean()"
   ]
  },
  {
   "cell_type": "code",
   "execution_count": null,
   "id": "9c38d178",
   "metadata": {},
   "outputs": [],
   "source": [
    "final_df.info()"
   ]
  },
  {
   "cell_type": "code",
   "execution_count": null,
   "id": "1bb01d6e",
   "metadata": {},
   "outputs": [],
   "source": [
    "final_df.head()"
   ]
  },
  {
   "cell_type": "code",
   "execution_count": null,
   "id": "27e27f7c",
   "metadata": {},
   "outputs": [],
   "source": [
    "final_df[final_df['Concussion'] == 1]['fw_def'].value_counts(normalize=True)"
   ]
  },
  {
   "cell_type": "code",
   "execution_count": null,
   "id": "7aa7f767",
   "metadata": {},
   "outputs": [],
   "source": []
  }
 ],
 "metadata": {
  "kernelspec": {
   "display_name": "Python 3 (ipykernel)",
   "language": "python",
   "name": "python3"
  },
  "language_info": {
   "codemirror_mode": {
    "name": "ipython",
    "version": 3
   },
   "file_extension": ".py",
   "mimetype": "text/x-python",
   "name": "python",
   "nbconvert_exporter": "python",
   "pygments_lexer": "ipython3",
   "version": "3.9.12"
  }
 },
 "nbformat": 4,
 "nbformat_minor": 5
}
