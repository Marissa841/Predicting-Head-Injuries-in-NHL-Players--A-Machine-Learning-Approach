{
 "cells": [
  {
   "cell_type": "markdown",
   "id": "7c665b13",
   "metadata": {},
   "source": [
    "The code cell imports several Python libraries, including Pandas, NumPy, and glob and os, and a module called eliteprospect_scraper from a package called eliteprospect.\n",
    "\n",
    "The eliteprospect_scraper module provides functions for scraping data from the Eliteprospects website, which is a database of hockey player statistics and information."
   ]
  },
  {
   "cell_type": "code",
   "execution_count": 1,
   "id": "dc0c8779",
   "metadata": {},
   "outputs": [],
   "source": [
    "import pandas as pd\n",
    "import numpy as np\n",
    "import glob\n",
    "import os\n",
    "\n",
    "import eliteprospect.eliteprospect_scraper as ep\n"
   ]
  },
  {
   "cell_type": "markdown",
   "id": "ea8c8510",
   "metadata": {},
   "source": [
    "This code loads in NHL player data from a range of seasons and combines it with data on player head injuries from the corresponding seasons. The head injury data is first filtered to only include head injuries and then joined with the NHL player data using player names. The resulting combined data is then saved as a CSV file for each season."
   ]
  },
  {
   "cell_type": "code",
   "execution_count": 2,
   "id": "4b42371a",
   "metadata": {},
   "outputs": [
    {
     "name": "stdout",
     "output_type": "stream",
     "text": [
      "Running on year: 2000-01\n"
     ]
    },
    {
     "name": "stderr",
     "output_type": "stream",
     "text": [
      "C:\\Users\\Jeff\\anaconda3\\lib\\site-packages\\eliteprospect\\eliteprospect_scraper.py:86: FutureWarning: The default value of regex will change from True to False in a future version.\n",
      "  df_players['playername'] = df_players['player'].str.replace(r\"\\(.*\\)\",\"\")\n",
      "C:\\Users\\Jeff\\AppData\\Local\\Temp\\ipykernel_6008\\3061923828.py:21: SettingWithCopyWarning: \n",
      "A value is trying to be set on a copy of a slice from a DataFrame\n",
      "\n",
      "See the caveats in the documentation: https://pandas.pydata.org/pandas-docs/stable/user_guide/indexing.html#returning-a-view-versus-a-copy\n",
      "  injuries_by_year['Injury Type'].replace({\"Facial\": \"Head\", \"Ear\": \"Head\", \"Concussion\": \"Head\", \"Eye\": \"Head\",\n",
      "C:\\Users\\Jeff\\AppData\\Local\\Temp\\ipykernel_6008\\3061923828.py:32: SettingWithCopyWarning: \n",
      "A value is trying to be set on a copy of a slice from a DataFrame.\n",
      "Try using .loc[row_indexer,col_indexer] = value instead\n",
      "\n",
      "See the caveats in the documentation: https://pandas.pydata.org/pandas-docs/stable/user_guide/indexing.html#returning-a-view-versus-a-copy\n",
      "  head_injuries['Name'] = new_names\n"
     ]
    },
    {
     "name": "stdout",
     "output_type": "stream",
     "text": [
      "Running on year: 2001-02\n"
     ]
    },
    {
     "name": "stderr",
     "output_type": "stream",
     "text": [
      "C:\\Users\\Jeff\\anaconda3\\lib\\site-packages\\eliteprospect\\eliteprospect_scraper.py:86: FutureWarning: The default value of regex will change from True to False in a future version.\n",
      "  df_players['playername'] = df_players['player'].str.replace(r\"\\(.*\\)\",\"\")\n",
      "C:\\Users\\Jeff\\AppData\\Local\\Temp\\ipykernel_6008\\3061923828.py:21: SettingWithCopyWarning: \n",
      "A value is trying to be set on a copy of a slice from a DataFrame\n",
      "\n",
      "See the caveats in the documentation: https://pandas.pydata.org/pandas-docs/stable/user_guide/indexing.html#returning-a-view-versus-a-copy\n",
      "  injuries_by_year['Injury Type'].replace({\"Facial\": \"Head\", \"Ear\": \"Head\", \"Concussion\": \"Head\", \"Eye\": \"Head\",\n",
      "C:\\Users\\Jeff\\AppData\\Local\\Temp\\ipykernel_6008\\3061923828.py:32: SettingWithCopyWarning: \n",
      "A value is trying to be set on a copy of a slice from a DataFrame.\n",
      "Try using .loc[row_indexer,col_indexer] = value instead\n",
      "\n",
      "See the caveats in the documentation: https://pandas.pydata.org/pandas-docs/stable/user_guide/indexing.html#returning-a-view-versus-a-copy\n",
      "  head_injuries['Name'] = new_names\n"
     ]
    },
    {
     "name": "stdout",
     "output_type": "stream",
     "text": [
      "Running on year: 2002-03\n"
     ]
    },
    {
     "name": "stderr",
     "output_type": "stream",
     "text": [
      "C:\\Users\\Jeff\\anaconda3\\lib\\site-packages\\eliteprospect\\eliteprospect_scraper.py:86: FutureWarning: The default value of regex will change from True to False in a future version.\n",
      "  df_players['playername'] = df_players['player'].str.replace(r\"\\(.*\\)\",\"\")\n",
      "C:\\Users\\Jeff\\AppData\\Local\\Temp\\ipykernel_6008\\3061923828.py:21: SettingWithCopyWarning: \n",
      "A value is trying to be set on a copy of a slice from a DataFrame\n",
      "\n",
      "See the caveats in the documentation: https://pandas.pydata.org/pandas-docs/stable/user_guide/indexing.html#returning-a-view-versus-a-copy\n",
      "  injuries_by_year['Injury Type'].replace({\"Facial\": \"Head\", \"Ear\": \"Head\", \"Concussion\": \"Head\", \"Eye\": \"Head\",\n",
      "C:\\Users\\Jeff\\AppData\\Local\\Temp\\ipykernel_6008\\3061923828.py:32: SettingWithCopyWarning: \n",
      "A value is trying to be set on a copy of a slice from a DataFrame.\n",
      "Try using .loc[row_indexer,col_indexer] = value instead\n",
      "\n",
      "See the caveats in the documentation: https://pandas.pydata.org/pandas-docs/stable/user_guide/indexing.html#returning-a-view-versus-a-copy\n",
      "  head_injuries['Name'] = new_names\n"
     ]
    },
    {
     "name": "stdout",
     "output_type": "stream",
     "text": [
      "Running on year: 2003-04\n"
     ]
    },
    {
     "name": "stderr",
     "output_type": "stream",
     "text": [
      "C:\\Users\\Jeff\\anaconda3\\lib\\site-packages\\eliteprospect\\eliteprospect_scraper.py:86: FutureWarning: The default value of regex will change from True to False in a future version.\n",
      "  df_players['playername'] = df_players['player'].str.replace(r\"\\(.*\\)\",\"\")\n"
     ]
    },
    {
     "name": "stdout",
     "output_type": "stream",
     "text": [
      "Running on year: 2004-05\n"
     ]
    },
    {
     "name": "stderr",
     "output_type": "stream",
     "text": [
      "C:\\Users\\Jeff\\anaconda3\\lib\\site-packages\\eliteprospect\\eliteprospect_scraper.py:86: FutureWarning: The default value of regex will change from True to False in a future version.\n",
      "  df_players['playername'] = df_players['player'].str.replace(r\"\\(.*\\)\",\"\")\n",
      "C:\\Users\\Jeff\\AppData\\Local\\Temp\\ipykernel_6008\\3061923828.py:21: SettingWithCopyWarning: \n",
      "A value is trying to be set on a copy of a slice from a DataFrame\n",
      "\n",
      "See the caveats in the documentation: https://pandas.pydata.org/pandas-docs/stable/user_guide/indexing.html#returning-a-view-versus-a-copy\n",
      "  injuries_by_year['Injury Type'].replace({\"Facial\": \"Head\", \"Ear\": \"Head\", \"Concussion\": \"Head\", \"Eye\": \"Head\",\n",
      "C:\\Users\\Jeff\\AppData\\Local\\Temp\\ipykernel_6008\\3061923828.py:32: SettingWithCopyWarning: \n",
      "A value is trying to be set on a copy of a slice from a DataFrame.\n",
      "Try using .loc[row_indexer,col_indexer] = value instead\n",
      "\n",
      "See the caveats in the documentation: https://pandas.pydata.org/pandas-docs/stable/user_guide/indexing.html#returning-a-view-versus-a-copy\n",
      "  head_injuries['Name'] = new_names\n"
     ]
    },
    {
     "name": "stdout",
     "output_type": "stream",
     "text": [
      "Running on year: 2005-06\n"
     ]
    },
    {
     "name": "stderr",
     "output_type": "stream",
     "text": [
      "C:\\Users\\Jeff\\anaconda3\\lib\\site-packages\\eliteprospect\\eliteprospect_scraper.py:86: FutureWarning: The default value of regex will change from True to False in a future version.\n",
      "  df_players['playername'] = df_players['player'].str.replace(r\"\\(.*\\)\",\"\")\n",
      "C:\\Users\\Jeff\\AppData\\Local\\Temp\\ipykernel_6008\\3061923828.py:21: SettingWithCopyWarning: \n",
      "A value is trying to be set on a copy of a slice from a DataFrame\n",
      "\n",
      "See the caveats in the documentation: https://pandas.pydata.org/pandas-docs/stable/user_guide/indexing.html#returning-a-view-versus-a-copy\n",
      "  injuries_by_year['Injury Type'].replace({\"Facial\": \"Head\", \"Ear\": \"Head\", \"Concussion\": \"Head\", \"Eye\": \"Head\",\n",
      "C:\\Users\\Jeff\\AppData\\Local\\Temp\\ipykernel_6008\\3061923828.py:32: SettingWithCopyWarning: \n",
      "A value is trying to be set on a copy of a slice from a DataFrame.\n",
      "Try using .loc[row_indexer,col_indexer] = value instead\n",
      "\n",
      "See the caveats in the documentation: https://pandas.pydata.org/pandas-docs/stable/user_guide/indexing.html#returning-a-view-versus-a-copy\n",
      "  head_injuries['Name'] = new_names\n"
     ]
    },
    {
     "name": "stdout",
     "output_type": "stream",
     "text": [
      "Running on year: 2006-07\n"
     ]
    },
    {
     "name": "stderr",
     "output_type": "stream",
     "text": [
      "C:\\Users\\Jeff\\anaconda3\\lib\\site-packages\\eliteprospect\\eliteprospect_scraper.py:86: FutureWarning: The default value of regex will change from True to False in a future version.\n",
      "  df_players['playername'] = df_players['player'].str.replace(r\"\\(.*\\)\",\"\")\n",
      "C:\\Users\\Jeff\\AppData\\Local\\Temp\\ipykernel_6008\\3061923828.py:21: SettingWithCopyWarning: \n",
      "A value is trying to be set on a copy of a slice from a DataFrame\n",
      "\n",
      "See the caveats in the documentation: https://pandas.pydata.org/pandas-docs/stable/user_guide/indexing.html#returning-a-view-versus-a-copy\n",
      "  injuries_by_year['Injury Type'].replace({\"Facial\": \"Head\", \"Ear\": \"Head\", \"Concussion\": \"Head\", \"Eye\": \"Head\",\n",
      "C:\\Users\\Jeff\\AppData\\Local\\Temp\\ipykernel_6008\\3061923828.py:32: SettingWithCopyWarning: \n",
      "A value is trying to be set on a copy of a slice from a DataFrame.\n",
      "Try using .loc[row_indexer,col_indexer] = value instead\n",
      "\n",
      "See the caveats in the documentation: https://pandas.pydata.org/pandas-docs/stable/user_guide/indexing.html#returning-a-view-versus-a-copy\n",
      "  head_injuries['Name'] = new_names\n"
     ]
    },
    {
     "name": "stdout",
     "output_type": "stream",
     "text": [
      "Running on year: 2007-08\n"
     ]
    },
    {
     "name": "stderr",
     "output_type": "stream",
     "text": [
      "C:\\Users\\Jeff\\anaconda3\\lib\\site-packages\\eliteprospect\\eliteprospect_scraper.py:86: FutureWarning: The default value of regex will change from True to False in a future version.\n",
      "  df_players['playername'] = df_players['player'].str.replace(r\"\\(.*\\)\",\"\")\n",
      "C:\\Users\\Jeff\\AppData\\Local\\Temp\\ipykernel_6008\\3061923828.py:21: SettingWithCopyWarning: \n",
      "A value is trying to be set on a copy of a slice from a DataFrame\n",
      "\n",
      "See the caveats in the documentation: https://pandas.pydata.org/pandas-docs/stable/user_guide/indexing.html#returning-a-view-versus-a-copy\n",
      "  injuries_by_year['Injury Type'].replace({\"Facial\": \"Head\", \"Ear\": \"Head\", \"Concussion\": \"Head\", \"Eye\": \"Head\",\n",
      "C:\\Users\\Jeff\\AppData\\Local\\Temp\\ipykernel_6008\\3061923828.py:32: SettingWithCopyWarning: \n",
      "A value is trying to be set on a copy of a slice from a DataFrame.\n",
      "Try using .loc[row_indexer,col_indexer] = value instead\n",
      "\n",
      "See the caveats in the documentation: https://pandas.pydata.org/pandas-docs/stable/user_guide/indexing.html#returning-a-view-versus-a-copy\n",
      "  head_injuries['Name'] = new_names\n"
     ]
    },
    {
     "name": "stdout",
     "output_type": "stream",
     "text": [
      "Running on year: 2008-09\n"
     ]
    },
    {
     "name": "stderr",
     "output_type": "stream",
     "text": [
      "C:\\Users\\Jeff\\anaconda3\\lib\\site-packages\\eliteprospect\\eliteprospect_scraper.py:86: FutureWarning: The default value of regex will change from True to False in a future version.\n",
      "  df_players['playername'] = df_players['player'].str.replace(r\"\\(.*\\)\",\"\")\n",
      "C:\\Users\\Jeff\\AppData\\Local\\Temp\\ipykernel_6008\\3061923828.py:21: SettingWithCopyWarning: \n",
      "A value is trying to be set on a copy of a slice from a DataFrame\n",
      "\n",
      "See the caveats in the documentation: https://pandas.pydata.org/pandas-docs/stable/user_guide/indexing.html#returning-a-view-versus-a-copy\n",
      "  injuries_by_year['Injury Type'].replace({\"Facial\": \"Head\", \"Ear\": \"Head\", \"Concussion\": \"Head\", \"Eye\": \"Head\",\n",
      "C:\\Users\\Jeff\\AppData\\Local\\Temp\\ipykernel_6008\\3061923828.py:32: SettingWithCopyWarning: \n",
      "A value is trying to be set on a copy of a slice from a DataFrame.\n",
      "Try using .loc[row_indexer,col_indexer] = value instead\n",
      "\n",
      "See the caveats in the documentation: https://pandas.pydata.org/pandas-docs/stable/user_guide/indexing.html#returning-a-view-versus-a-copy\n",
      "  head_injuries['Name'] = new_names\n"
     ]
    },
    {
     "name": "stdout",
     "output_type": "stream",
     "text": [
      "Running on year: 2009-10\n"
     ]
    },
    {
     "name": "stderr",
     "output_type": "stream",
     "text": [
      "C:\\Users\\Jeff\\anaconda3\\lib\\site-packages\\eliteprospect\\eliteprospect_scraper.py:86: FutureWarning: The default value of regex will change from True to False in a future version.\n",
      "  df_players['playername'] = df_players['player'].str.replace(r\"\\(.*\\)\",\"\")\n",
      "C:\\Users\\Jeff\\AppData\\Local\\Temp\\ipykernel_6008\\3061923828.py:21: SettingWithCopyWarning: \n",
      "A value is trying to be set on a copy of a slice from a DataFrame\n",
      "\n",
      "See the caveats in the documentation: https://pandas.pydata.org/pandas-docs/stable/user_guide/indexing.html#returning-a-view-versus-a-copy\n",
      "  injuries_by_year['Injury Type'].replace({\"Facial\": \"Head\", \"Ear\": \"Head\", \"Concussion\": \"Head\", \"Eye\": \"Head\",\n",
      "C:\\Users\\Jeff\\AppData\\Local\\Temp\\ipykernel_6008\\3061923828.py:32: SettingWithCopyWarning: \n",
      "A value is trying to be set on a copy of a slice from a DataFrame.\n",
      "Try using .loc[row_indexer,col_indexer] = value instead\n",
      "\n",
      "See the caveats in the documentation: https://pandas.pydata.org/pandas-docs/stable/user_guide/indexing.html#returning-a-view-versus-a-copy\n",
      "  head_injuries['Name'] = new_names\n"
     ]
    },
    {
     "name": "stdout",
     "output_type": "stream",
     "text": [
      "Running on year: 2010-11\n"
     ]
    },
    {
     "name": "stderr",
     "output_type": "stream",
     "text": [
      "C:\\Users\\Jeff\\anaconda3\\lib\\site-packages\\eliteprospect\\eliteprospect_scraper.py:86: FutureWarning: The default value of regex will change from True to False in a future version.\n",
      "  df_players['playername'] = df_players['player'].str.replace(r\"\\(.*\\)\",\"\")\n",
      "C:\\Users\\Jeff\\AppData\\Local\\Temp\\ipykernel_6008\\3061923828.py:21: SettingWithCopyWarning: \n",
      "A value is trying to be set on a copy of a slice from a DataFrame\n",
      "\n",
      "See the caveats in the documentation: https://pandas.pydata.org/pandas-docs/stable/user_guide/indexing.html#returning-a-view-versus-a-copy\n",
      "  injuries_by_year['Injury Type'].replace({\"Facial\": \"Head\", \"Ear\": \"Head\", \"Concussion\": \"Head\", \"Eye\": \"Head\",\n",
      "C:\\Users\\Jeff\\AppData\\Local\\Temp\\ipykernel_6008\\3061923828.py:32: SettingWithCopyWarning: \n",
      "A value is trying to be set on a copy of a slice from a DataFrame.\n",
      "Try using .loc[row_indexer,col_indexer] = value instead\n",
      "\n",
      "See the caveats in the documentation: https://pandas.pydata.org/pandas-docs/stable/user_guide/indexing.html#returning-a-view-versus-a-copy\n",
      "  head_injuries['Name'] = new_names\n"
     ]
    },
    {
     "name": "stdout",
     "output_type": "stream",
     "text": [
      "Running on year: 2011-12\n"
     ]
    },
    {
     "name": "stderr",
     "output_type": "stream",
     "text": [
      "C:\\Users\\Jeff\\anaconda3\\lib\\site-packages\\eliteprospect\\eliteprospect_scraper.py:86: FutureWarning: The default value of regex will change from True to False in a future version.\n",
      "  df_players['playername'] = df_players['player'].str.replace(r\"\\(.*\\)\",\"\")\n",
      "C:\\Users\\Jeff\\AppData\\Local\\Temp\\ipykernel_6008\\3061923828.py:21: SettingWithCopyWarning: \n",
      "A value is trying to be set on a copy of a slice from a DataFrame\n",
      "\n",
      "See the caveats in the documentation: https://pandas.pydata.org/pandas-docs/stable/user_guide/indexing.html#returning-a-view-versus-a-copy\n",
      "  injuries_by_year['Injury Type'].replace({\"Facial\": \"Head\", \"Ear\": \"Head\", \"Concussion\": \"Head\", \"Eye\": \"Head\",\n",
      "C:\\Users\\Jeff\\AppData\\Local\\Temp\\ipykernel_6008\\3061923828.py:32: SettingWithCopyWarning: \n",
      "A value is trying to be set on a copy of a slice from a DataFrame.\n",
      "Try using .loc[row_indexer,col_indexer] = value instead\n",
      "\n",
      "See the caveats in the documentation: https://pandas.pydata.org/pandas-docs/stable/user_guide/indexing.html#returning-a-view-versus-a-copy\n",
      "  head_injuries['Name'] = new_names\n"
     ]
    },
    {
     "name": "stdout",
     "output_type": "stream",
     "text": [
      "Running on year: 2012-13\n"
     ]
    },
    {
     "name": "stderr",
     "output_type": "stream",
     "text": [
      "C:\\Users\\Jeff\\anaconda3\\lib\\site-packages\\eliteprospect\\eliteprospect_scraper.py:86: FutureWarning: The default value of regex will change from True to False in a future version.\n",
      "  df_players['playername'] = df_players['player'].str.replace(r\"\\(.*\\)\",\"\")\n",
      "C:\\Users\\Jeff\\AppData\\Local\\Temp\\ipykernel_6008\\3061923828.py:21: SettingWithCopyWarning: \n",
      "A value is trying to be set on a copy of a slice from a DataFrame\n",
      "\n",
      "See the caveats in the documentation: https://pandas.pydata.org/pandas-docs/stable/user_guide/indexing.html#returning-a-view-versus-a-copy\n",
      "  injuries_by_year['Injury Type'].replace({\"Facial\": \"Head\", \"Ear\": \"Head\", \"Concussion\": \"Head\", \"Eye\": \"Head\",\n",
      "C:\\Users\\Jeff\\AppData\\Local\\Temp\\ipykernel_6008\\3061923828.py:32: SettingWithCopyWarning: \n",
      "A value is trying to be set on a copy of a slice from a DataFrame.\n",
      "Try using .loc[row_indexer,col_indexer] = value instead\n",
      "\n",
      "See the caveats in the documentation: https://pandas.pydata.org/pandas-docs/stable/user_guide/indexing.html#returning-a-view-versus-a-copy\n",
      "  head_injuries['Name'] = new_names\n"
     ]
    },
    {
     "name": "stdout",
     "output_type": "stream",
     "text": [
      "Running on year: 2013-14\n"
     ]
    },
    {
     "name": "stderr",
     "output_type": "stream",
     "text": [
      "C:\\Users\\Jeff\\anaconda3\\lib\\site-packages\\eliteprospect\\eliteprospect_scraper.py:86: FutureWarning: The default value of regex will change from True to False in a future version.\n",
      "  df_players['playername'] = df_players['player'].str.replace(r\"\\(.*\\)\",\"\")\n",
      "C:\\Users\\Jeff\\AppData\\Local\\Temp\\ipykernel_6008\\3061923828.py:21: SettingWithCopyWarning: \n",
      "A value is trying to be set on a copy of a slice from a DataFrame\n",
      "\n",
      "See the caveats in the documentation: https://pandas.pydata.org/pandas-docs/stable/user_guide/indexing.html#returning-a-view-versus-a-copy\n",
      "  injuries_by_year['Injury Type'].replace({\"Facial\": \"Head\", \"Ear\": \"Head\", \"Concussion\": \"Head\", \"Eye\": \"Head\",\n",
      "C:\\Users\\Jeff\\AppData\\Local\\Temp\\ipykernel_6008\\3061923828.py:32: SettingWithCopyWarning: \n",
      "A value is trying to be set on a copy of a slice from a DataFrame.\n",
      "Try using .loc[row_indexer,col_indexer] = value instead\n",
      "\n",
      "See the caveats in the documentation: https://pandas.pydata.org/pandas-docs/stable/user_guide/indexing.html#returning-a-view-versus-a-copy\n",
      "  head_injuries['Name'] = new_names\n"
     ]
    },
    {
     "name": "stdout",
     "output_type": "stream",
     "text": [
      "Running on year: 2014-15\n"
     ]
    },
    {
     "name": "stderr",
     "output_type": "stream",
     "text": [
      "C:\\Users\\Jeff\\anaconda3\\lib\\site-packages\\eliteprospect\\eliteprospect_scraper.py:86: FutureWarning: The default value of regex will change from True to False in a future version.\n",
      "  df_players['playername'] = df_players['player'].str.replace(r\"\\(.*\\)\",\"\")\n",
      "C:\\Users\\Jeff\\AppData\\Local\\Temp\\ipykernel_6008\\3061923828.py:21: SettingWithCopyWarning: \n",
      "A value is trying to be set on a copy of a slice from a DataFrame\n",
      "\n",
      "See the caveats in the documentation: https://pandas.pydata.org/pandas-docs/stable/user_guide/indexing.html#returning-a-view-versus-a-copy\n",
      "  injuries_by_year['Injury Type'].replace({\"Facial\": \"Head\", \"Ear\": \"Head\", \"Concussion\": \"Head\", \"Eye\": \"Head\",\n",
      "C:\\Users\\Jeff\\AppData\\Local\\Temp\\ipykernel_6008\\3061923828.py:32: SettingWithCopyWarning: \n",
      "A value is trying to be set on a copy of a slice from a DataFrame.\n",
      "Try using .loc[row_indexer,col_indexer] = value instead\n",
      "\n",
      "See the caveats in the documentation: https://pandas.pydata.org/pandas-docs/stable/user_guide/indexing.html#returning-a-view-versus-a-copy\n",
      "  head_injuries['Name'] = new_names\n"
     ]
    },
    {
     "name": "stdout",
     "output_type": "stream",
     "text": [
      "Running on year: 2015-16\n"
     ]
    },
    {
     "name": "stderr",
     "output_type": "stream",
     "text": [
      "C:\\Users\\Jeff\\anaconda3\\lib\\site-packages\\eliteprospect\\eliteprospect_scraper.py:86: FutureWarning: The default value of regex will change from True to False in a future version.\n",
      "  df_players['playername'] = df_players['player'].str.replace(r\"\\(.*\\)\",\"\")\n",
      "C:\\Users\\Jeff\\AppData\\Local\\Temp\\ipykernel_6008\\3061923828.py:21: SettingWithCopyWarning: \n",
      "A value is trying to be set on a copy of a slice from a DataFrame\n",
      "\n",
      "See the caveats in the documentation: https://pandas.pydata.org/pandas-docs/stable/user_guide/indexing.html#returning-a-view-versus-a-copy\n",
      "  injuries_by_year['Injury Type'].replace({\"Facial\": \"Head\", \"Ear\": \"Head\", \"Concussion\": \"Head\", \"Eye\": \"Head\",\n",
      "C:\\Users\\Jeff\\AppData\\Local\\Temp\\ipykernel_6008\\3061923828.py:32: SettingWithCopyWarning: \n",
      "A value is trying to be set on a copy of a slice from a DataFrame.\n",
      "Try using .loc[row_indexer,col_indexer] = value instead\n",
      "\n",
      "See the caveats in the documentation: https://pandas.pydata.org/pandas-docs/stable/user_guide/indexing.html#returning-a-view-versus-a-copy\n",
      "  head_injuries['Name'] = new_names\n"
     ]
    },
    {
     "name": "stdout",
     "output_type": "stream",
     "text": [
      "Running on year: 2016-17\n"
     ]
    },
    {
     "name": "stderr",
     "output_type": "stream",
     "text": [
      "C:\\Users\\Jeff\\anaconda3\\lib\\site-packages\\eliteprospect\\eliteprospect_scraper.py:86: FutureWarning: The default value of regex will change from True to False in a future version.\n",
      "  df_players['playername'] = df_players['player'].str.replace(r\"\\(.*\\)\",\"\")\n",
      "C:\\Users\\Jeff\\AppData\\Local\\Temp\\ipykernel_6008\\3061923828.py:21: SettingWithCopyWarning: \n",
      "A value is trying to be set on a copy of a slice from a DataFrame\n",
      "\n",
      "See the caveats in the documentation: https://pandas.pydata.org/pandas-docs/stable/user_guide/indexing.html#returning-a-view-versus-a-copy\n",
      "  injuries_by_year['Injury Type'].replace({\"Facial\": \"Head\", \"Ear\": \"Head\", \"Concussion\": \"Head\", \"Eye\": \"Head\",\n",
      "C:\\Users\\Jeff\\AppData\\Local\\Temp\\ipykernel_6008\\3061923828.py:32: SettingWithCopyWarning: \n",
      "A value is trying to be set on a copy of a slice from a DataFrame.\n",
      "Try using .loc[row_indexer,col_indexer] = value instead\n",
      "\n",
      "See the caveats in the documentation: https://pandas.pydata.org/pandas-docs/stable/user_guide/indexing.html#returning-a-view-versus-a-copy\n",
      "  head_injuries['Name'] = new_names\n"
     ]
    },
    {
     "name": "stdout",
     "output_type": "stream",
     "text": [
      "Running on year: 2017-18\n"
     ]
    },
    {
     "name": "stderr",
     "output_type": "stream",
     "text": [
      "C:\\Users\\Jeff\\anaconda3\\lib\\site-packages\\eliteprospect\\eliteprospect_scraper.py:86: FutureWarning: The default value of regex will change from True to False in a future version.\n",
      "  df_players['playername'] = df_players['player'].str.replace(r\"\\(.*\\)\",\"\")\n",
      "C:\\Users\\Jeff\\AppData\\Local\\Temp\\ipykernel_6008\\3061923828.py:21: SettingWithCopyWarning: \n",
      "A value is trying to be set on a copy of a slice from a DataFrame\n",
      "\n",
      "See the caveats in the documentation: https://pandas.pydata.org/pandas-docs/stable/user_guide/indexing.html#returning-a-view-versus-a-copy\n",
      "  injuries_by_year['Injury Type'].replace({\"Facial\": \"Head\", \"Ear\": \"Head\", \"Concussion\": \"Head\", \"Eye\": \"Head\",\n",
      "C:\\Users\\Jeff\\AppData\\Local\\Temp\\ipykernel_6008\\3061923828.py:32: SettingWithCopyWarning: \n",
      "A value is trying to be set on a copy of a slice from a DataFrame.\n",
      "Try using .loc[row_indexer,col_indexer] = value instead\n",
      "\n",
      "See the caveats in the documentation: https://pandas.pydata.org/pandas-docs/stable/user_guide/indexing.html#returning-a-view-versus-a-copy\n",
      "  head_injuries['Name'] = new_names\n"
     ]
    },
    {
     "name": "stdout",
     "output_type": "stream",
     "text": [
      "Running on year: 2018-19\n"
     ]
    },
    {
     "name": "stderr",
     "output_type": "stream",
     "text": [
      "C:\\Users\\Jeff\\anaconda3\\lib\\site-packages\\eliteprospect\\eliteprospect_scraper.py:86: FutureWarning: The default value of regex will change from True to False in a future version.\n",
      "  df_players['playername'] = df_players['player'].str.replace(r\"\\(.*\\)\",\"\")\n",
      "C:\\Users\\Jeff\\AppData\\Local\\Temp\\ipykernel_6008\\3061923828.py:21: SettingWithCopyWarning: \n",
      "A value is trying to be set on a copy of a slice from a DataFrame\n",
      "\n",
      "See the caveats in the documentation: https://pandas.pydata.org/pandas-docs/stable/user_guide/indexing.html#returning-a-view-versus-a-copy\n",
      "  injuries_by_year['Injury Type'].replace({\"Facial\": \"Head\", \"Ear\": \"Head\", \"Concussion\": \"Head\", \"Eye\": \"Head\",\n",
      "C:\\Users\\Jeff\\AppData\\Local\\Temp\\ipykernel_6008\\3061923828.py:32: SettingWithCopyWarning: \n",
      "A value is trying to be set on a copy of a slice from a DataFrame.\n",
      "Try using .loc[row_indexer,col_indexer] = value instead\n",
      "\n",
      "See the caveats in the documentation: https://pandas.pydata.org/pandas-docs/stable/user_guide/indexing.html#returning-a-view-versus-a-copy\n",
      "  head_injuries['Name'] = new_names\n"
     ]
    },
    {
     "name": "stdout",
     "output_type": "stream",
     "text": [
      "Running on year: 2019-20\n"
     ]
    },
    {
     "name": "stderr",
     "output_type": "stream",
     "text": [
      "C:\\Users\\Jeff\\anaconda3\\lib\\site-packages\\eliteprospect\\eliteprospect_scraper.py:86: FutureWarning: The default value of regex will change from True to False in a future version.\n",
      "  df_players['playername'] = df_players['player'].str.replace(r\"\\(.*\\)\",\"\")\n",
      "C:\\Users\\Jeff\\AppData\\Local\\Temp\\ipykernel_6008\\3061923828.py:21: SettingWithCopyWarning: \n",
      "A value is trying to be set on a copy of a slice from a DataFrame\n",
      "\n",
      "See the caveats in the documentation: https://pandas.pydata.org/pandas-docs/stable/user_guide/indexing.html#returning-a-view-versus-a-copy\n",
      "  injuries_by_year['Injury Type'].replace({\"Facial\": \"Head\", \"Ear\": \"Head\", \"Concussion\": \"Head\", \"Eye\": \"Head\",\n",
      "C:\\Users\\Jeff\\AppData\\Local\\Temp\\ipykernel_6008\\3061923828.py:32: SettingWithCopyWarning: \n",
      "A value is trying to be set on a copy of a slice from a DataFrame.\n",
      "Try using .loc[row_indexer,col_indexer] = value instead\n",
      "\n",
      "See the caveats in the documentation: https://pandas.pydata.org/pandas-docs/stable/user_guide/indexing.html#returning-a-view-versus-a-copy\n",
      "  head_injuries['Name'] = new_names\n"
     ]
    },
    {
     "name": "stdout",
     "output_type": "stream",
     "text": [
      "Running on year: 2020-21\n"
     ]
    },
    {
     "name": "stderr",
     "output_type": "stream",
     "text": [
      "C:\\Users\\Jeff\\anaconda3\\lib\\site-packages\\eliteprospect\\eliteprospect_scraper.py:86: FutureWarning: The default value of regex will change from True to False in a future version.\n",
      "  df_players['playername'] = df_players['player'].str.replace(r\"\\(.*\\)\",\"\")\n",
      "C:\\Users\\Jeff\\AppData\\Local\\Temp\\ipykernel_6008\\3061923828.py:21: SettingWithCopyWarning: \n",
      "A value is trying to be set on a copy of a slice from a DataFrame\n",
      "\n",
      "See the caveats in the documentation: https://pandas.pydata.org/pandas-docs/stable/user_guide/indexing.html#returning-a-view-versus-a-copy\n",
      "  injuries_by_year['Injury Type'].replace({\"Facial\": \"Head\", \"Ear\": \"Head\", \"Concussion\": \"Head\", \"Eye\": \"Head\",\n",
      "C:\\Users\\Jeff\\AppData\\Local\\Temp\\ipykernel_6008\\3061923828.py:32: SettingWithCopyWarning: \n",
      "A value is trying to be set on a copy of a slice from a DataFrame.\n",
      "Try using .loc[row_indexer,col_indexer] = value instead\n",
      "\n",
      "See the caveats in the documentation: https://pandas.pydata.org/pandas-docs/stable/user_guide/indexing.html#returning-a-view-versus-a-copy\n",
      "  head_injuries['Name'] = new_names\n"
     ]
    }
   ],
   "source": [
    "years_to_grab = ['2000-01', '2001-02', '2002-03', '2003-04', '2004-05', '2005-06', '2006-07', '2007-08',\n",
    "                 '2008-09', '2009-10', '2010-11', '2011-12', '2012-13', '2013-14', '2014-15', '2015-16',\n",
    "                 '2016-17', '2017-18', '2018-19', '2019-20', '2020-21']\n",
    "head_injury_years = ['2001/02', '2002/03', '2003/04', '2004/05', '2005/06', '2006/07', '2007/08','2008/09',\n",
    "                    '2009/10', '2010/11', '2011/12', '2012/13', '2013/14', '2014/15','2015/16', '2016/17',\n",
    "                    '2017/18', '2018/19', '2019/20', '2020/21', '2021/22']\n",
    "\n",
    "# load in concussion csv\n",
    "\n",
    "injuries = pd.read_csv('data/nhl_injury.csv', encoding='latin')\n",
    "\n",
    "for year, head_injury_year in zip(years_to_grab, head_injury_years):\n",
    "    print(f'Running on year: {year}')\n",
    "    nhl_data = ep.getPlayers('nhl', year)\n",
    "    \n",
    "    # combine with concussion data\n",
    "    # concussion data = year + 1\n",
    "    injuries_by_year = injuries[injuries['ï»¿Season'] == head_injury_year]\n",
    "    \n",
    "    # filter for head injuries\n",
    "    injuries_by_year['Injury Type'].replace({\"Facial\": \"Head\", \"Ear\": \"Head\", \"Concussion\": \"Head\", \"Eye\": \"Head\",\n",
    "                                         \"Nose\": \"Head\", \"Jaw\": \"Head\", \"Migraine\": \"Head\", \"Mouth\": \"Head\"}, inplace=True)\n",
    "\n",
    "    # filter to only be injury type of Head\n",
    "    head_injuries = injuries_by_year[injuries_by_year['Injury Type'] == 'Head']\n",
    "    \n",
    "    # make new name variable to join between the 2 datasets \n",
    "    new_names = head_injuries['Player'].map(lambda x: x.split(' ')[1]) + ' ' + head_injuries['Player'].map(lambda x: x.split(' ')[0])\n",
    "    \n",
    "    new_names = [x.replace(',', '') for x in new_names]\n",
    "    \n",
    "    head_injuries['Name'] = new_names\n",
    "    \n",
    "    # combine 2 datasets (nhl_data and concussion data)\n",
    "    nhl_data['playername'] = nhl_data['playername'].map(lambda x: x.strip())\n",
    "    \n",
    "    # join 2 datasets \n",
    "    joined_data = nhl_data.merge(head_injuries[['Name', 'Games Missed']],\n",
    "                        how='left', left_on='playername',\n",
    "                        right_on='Name')\n",
    "    \n",
    "    # fill in missing values with 0 \n",
    "    joined_data.fillna(0, inplace=True)\n",
    "    \n",
    "    # create a concussion column\n",
    "    \n",
    "    joined_data['head_injuries'] = np.where(joined_data['Name'] == 0, 0, 1)\n",
    "    \n",
    "    \n",
    "    # save to csv \n",
    "    \n",
    "    # final_df.to_csv(index=False)\n",
    "    # final_df = nhl_data + concussion_data\n",
    "    joined_data.to_csv(f'data/{year}.csv', index=False)"
   ]
  },
  {
   "cell_type": "markdown",
   "id": "59e56152",
   "metadata": {},
   "source": [
    "In this code cell, the file path is specified where all the CSV files are stored. The glob function is used to extract the file names of all the CSV files in the path. Then, a list is initialized and each CSV file is loaded into a Pandas DataFrame and appended to this list. Finally, all the DataFrames in the list are concatenated into a single DataFrame, ignoring the index of the individual DataFrames."
   ]
  },
  {
   "cell_type": "code",
   "execution_count": 3,
   "id": "c504bd34",
   "metadata": {},
   "outputs": [],
   "source": [
    "path = \"C:\\\\Users\\\\Jeff\\\\Desktop\\\\phase_5_project\\\\data\"\n",
    "all_files = glob.glob(os.path.join(path , \"*.csv\"))\n",
    "\n",
    "li = []\n",
    "\n",
    "for filename in all_files:\n",
    "    df = pd.read_csv(filename, index_col=None, header=0)\n",
    "    li.append(df)\n",
    "\n",
    "df = pd.concat(li, axis=0, ignore_index=True)"
   ]
  },
  {
   "cell_type": "code",
   "execution_count": 4,
   "id": "0075af8d",
   "metadata": {},
   "outputs": [
    {
     "data": {
      "text/html": [
       "<div>\n",
       "<style scoped>\n",
       "    .dataframe tbody tr th:only-of-type {\n",
       "        vertical-align: middle;\n",
       "    }\n",
       "\n",
       "    .dataframe tbody tr th {\n",
       "        vertical-align: top;\n",
       "    }\n",
       "\n",
       "    .dataframe thead th {\n",
       "        text-align: right;\n",
       "    }\n",
       "</style>\n",
       "<table border=\"1\" class=\"dataframe\">\n",
       "  <thead>\n",
       "    <tr style=\"text-align: right;\">\n",
       "      <th></th>\n",
       "      <th>player</th>\n",
       "      <th>team</th>\n",
       "      <th>gp</th>\n",
       "      <th>g</th>\n",
       "      <th>a</th>\n",
       "      <th>tp</th>\n",
       "      <th>ppg</th>\n",
       "      <th>pim</th>\n",
       "      <th>+/-</th>\n",
       "      <th>link</th>\n",
       "      <th>season</th>\n",
       "      <th>league</th>\n",
       "      <th>playername</th>\n",
       "      <th>position</th>\n",
       "      <th>fw_def</th>\n",
       "      <th>Name</th>\n",
       "      <th>Games Missed</th>\n",
       "      <th>head_injuries</th>\n",
       "    </tr>\n",
       "  </thead>\n",
       "  <tbody>\n",
       "    <tr>\n",
       "      <th>0</th>\n",
       "      <td>Jaromír Jágr (RW)</td>\n",
       "      <td>Pittsburgh Penguins</td>\n",
       "      <td>81</td>\n",
       "      <td>52</td>\n",
       "      <td>69</td>\n",
       "      <td>121</td>\n",
       "      <td>1.49</td>\n",
       "      <td>42</td>\n",
       "      <td>19</td>\n",
       "      <td>https://www.eliteprospects.com/player/8627/jar...</td>\n",
       "      <td>2000-01</td>\n",
       "      <td>nhl</td>\n",
       "      <td>Jaromír Jágr</td>\n",
       "      <td>RW</td>\n",
       "      <td>FW</td>\n",
       "      <td>0</td>\n",
       "      <td>0.0</td>\n",
       "      <td>0</td>\n",
       "    </tr>\n",
       "    <tr>\n",
       "      <th>1</th>\n",
       "      <td>Joe Sakic (C)</td>\n",
       "      <td>Colorado Avalanche</td>\n",
       "      <td>82</td>\n",
       "      <td>54</td>\n",
       "      <td>64</td>\n",
       "      <td>118</td>\n",
       "      <td>1.44</td>\n",
       "      <td>30</td>\n",
       "      <td>45</td>\n",
       "      <td>https://www.eliteprospects.com/player/8862/joe...</td>\n",
       "      <td>2000-01</td>\n",
       "      <td>nhl</td>\n",
       "      <td>Joe Sakic</td>\n",
       "      <td>C</td>\n",
       "      <td>FW</td>\n",
       "      <td>0</td>\n",
       "      <td>0.0</td>\n",
       "      <td>0</td>\n",
       "    </tr>\n",
       "    <tr>\n",
       "      <th>2</th>\n",
       "      <td>Patrik Elias (LW)</td>\n",
       "      <td>New Jersey Devils</td>\n",
       "      <td>82</td>\n",
       "      <td>40</td>\n",
       "      <td>56</td>\n",
       "      <td>96</td>\n",
       "      <td>1.17</td>\n",
       "      <td>51</td>\n",
       "      <td>45</td>\n",
       "      <td>https://www.eliteprospects.com/player/8698/pat...</td>\n",
       "      <td>2000-01</td>\n",
       "      <td>nhl</td>\n",
       "      <td>Patrik Elias</td>\n",
       "      <td>LW</td>\n",
       "      <td>FW</td>\n",
       "      <td>0</td>\n",
       "      <td>0.0</td>\n",
       "      <td>0</td>\n",
       "    </tr>\n",
       "    <tr>\n",
       "      <th>3</th>\n",
       "      <td>Alexei Kovalev (RW)</td>\n",
       "      <td>Pittsburgh Penguins</td>\n",
       "      <td>79</td>\n",
       "      <td>44</td>\n",
       "      <td>51</td>\n",
       "      <td>95</td>\n",
       "      <td>1.2</td>\n",
       "      <td>96</td>\n",
       "      <td>12</td>\n",
       "      <td>https://www.eliteprospects.com/player/8670/ale...</td>\n",
       "      <td>2000-01</td>\n",
       "      <td>nhl</td>\n",
       "      <td>Alexei Kovalev</td>\n",
       "      <td>RW</td>\n",
       "      <td>FW</td>\n",
       "      <td>0</td>\n",
       "      <td>0.0</td>\n",
       "      <td>0</td>\n",
       "    </tr>\n",
       "    <tr>\n",
       "      <th>4</th>\n",
       "      <td>Jason Allison (C)</td>\n",
       "      <td>Boston Bruins</td>\n",
       "      <td>82</td>\n",
       "      <td>36</td>\n",
       "      <td>59</td>\n",
       "      <td>95</td>\n",
       "      <td>1.16</td>\n",
       "      <td>85</td>\n",
       "      <td>-8</td>\n",
       "      <td>https://www.eliteprospects.com/player/9064/jas...</td>\n",
       "      <td>2000-01</td>\n",
       "      <td>nhl</td>\n",
       "      <td>Jason Allison</td>\n",
       "      <td>C</td>\n",
       "      <td>FW</td>\n",
       "      <td>0</td>\n",
       "      <td>0.0</td>\n",
       "      <td>0</td>\n",
       "    </tr>\n",
       "  </tbody>\n",
       "</table>\n",
       "</div>"
      ],
      "text/plain": [
       "                player                 team  gp   g   a   tp   ppg pim +/-  \\\n",
       "0    Jaromír Jágr (RW)  Pittsburgh Penguins  81  52  69  121  1.49  42  19   \n",
       "1        Joe Sakic (C)   Colorado Avalanche  82  54  64  118  1.44  30  45   \n",
       "2    Patrik Elias (LW)    New Jersey Devils  82  40  56   96  1.17  51  45   \n",
       "3  Alexei Kovalev (RW)  Pittsburgh Penguins  79  44  51   95   1.2  96  12   \n",
       "4    Jason Allison (C)        Boston Bruins  82  36  59   95  1.16  85  -8   \n",
       "\n",
       "                                                link   season league  \\\n",
       "0  https://www.eliteprospects.com/player/8627/jar...  2000-01    nhl   \n",
       "1  https://www.eliteprospects.com/player/8862/joe...  2000-01    nhl   \n",
       "2  https://www.eliteprospects.com/player/8698/pat...  2000-01    nhl   \n",
       "3  https://www.eliteprospects.com/player/8670/ale...  2000-01    nhl   \n",
       "4  https://www.eliteprospects.com/player/9064/jas...  2000-01    nhl   \n",
       "\n",
       "       playername position fw_def Name  Games Missed  head_injuries  \n",
       "0    Jaromír Jágr       RW     FW    0           0.0              0  \n",
       "1       Joe Sakic        C     FW    0           0.0              0  \n",
       "2    Patrik Elias       LW     FW    0           0.0              0  \n",
       "3  Alexei Kovalev       RW     FW    0           0.0              0  \n",
       "4   Jason Allison        C     FW    0           0.0              0  "
      ]
     },
     "execution_count": 4,
     "metadata": {},
     "output_type": "execute_result"
    }
   ],
   "source": [
    "# view dataframe\n",
    "df.head()"
   ]
  },
  {
   "cell_type": "code",
   "execution_count": 5,
   "id": "671fcd42",
   "metadata": {},
   "outputs": [
    {
     "data": {
      "text/plain": [
       "(18750, 18)"
      ]
     },
     "execution_count": 5,
     "metadata": {},
     "output_type": "execute_result"
    }
   ],
   "source": [
    "# view row and column count of dataframe\n",
    "df.shape"
   ]
  },
  {
   "cell_type": "code",
   "execution_count": 6,
   "id": "667c55c4",
   "metadata": {},
   "outputs": [
    {
     "data": {
      "text/plain": [
       "player            object\n",
       "team              object\n",
       "gp                 int64\n",
       "g                  int64\n",
       "a                  int64\n",
       "tp                 int64\n",
       "ppg               object\n",
       "pim               object\n",
       "+/-               object\n",
       "link              object\n",
       "season            object\n",
       "league            object\n",
       "playername        object\n",
       "position          object\n",
       "fw_def            object\n",
       "Name              object\n",
       "Games Missed     float64\n",
       "head_injuries      int64\n",
       "dtype: object"
      ]
     },
     "execution_count": 6,
     "metadata": {},
     "output_type": "execute_result"
    }
   ],
   "source": [
    "# view column names and datatypes.\n",
    "df.dtypes"
   ]
  },
  {
   "cell_type": "markdown",
   "id": "a0cca32f",
   "metadata": {},
   "source": [
    "This code saves DataFrame df to a CSV file called \"df.csv\" in the current working directory. The index parameter is set to False to exclude the index column from being written to the CSV file."
   ]
  },
  {
   "cell_type": "code",
   "execution_count": 7,
   "id": "f46e3629",
   "metadata": {},
   "outputs": [],
   "source": [
    "df.to_csv(\"data/df.csv\", index=False)"
   ]
  }
 ],
 "metadata": {
  "kernelspec": {
   "display_name": "Python 3 (ipykernel)",
   "language": "python",
   "name": "python3"
  },
  "language_info": {
   "codemirror_mode": {
    "name": "ipython",
    "version": 3
   },
   "file_extension": ".py",
   "mimetype": "text/x-python",
   "name": "python",
   "nbconvert_exporter": "python",
   "pygments_lexer": "ipython3",
   "version": "3.9.12"
  }
 },
 "nbformat": 4,
 "nbformat_minor": 5
}
