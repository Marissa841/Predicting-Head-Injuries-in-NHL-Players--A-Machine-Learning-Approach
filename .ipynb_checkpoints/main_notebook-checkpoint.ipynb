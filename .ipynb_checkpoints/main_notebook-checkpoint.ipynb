{
 "cells": [
  {
   "cell_type": "markdown",
   "id": "62cebdcf",
   "metadata": {},
   "source": [
    "# Business Problem"
   ]
  },
  {
   "cell_type": "markdown",
   "id": "993d6623",
   "metadata": {},
   "source": [
    "Head injuries and concussions have become a serious issue in professional sports, affecting the health of players and the winning potential of teams. The goal of this project is to predict which NHL players are more likely to suffer head injuries based on their past performance and other relevant information. This analysis is targeted towards NHL teams and team managers to help them take proactive measures to prevent head injuries and minimize the impact of such injuries on the team’s performance."
   ]
  },
  {
   "cell_type": "markdown",
   "id": "44dbaba5",
   "metadata": {},
   "source": [
    "### 1. Obtain"
   ]
  },
  {
   "cell_type": "markdown",
   "id": "7151282d",
   "metadata": {},
   "source": [
    "Imports the packages including pandas, numpy, matplotlib, scipy, seaborn, scikit-learn, and imblearn. It also sets the random seed to ensure reproducibility. Also, imports a function named model_helper from a module, model_helper.py."
   ]
  },
  {
   "cell_type": "code",
   "execution_count": 1,
   "id": "3925afb9",
   "metadata": {},
   "outputs": [],
   "source": [
    "import pandas as pd\n",
    "import numpy as np\n",
    "import random\n",
    "\n",
    "import matplotlib.pyplot as plt\n",
    "from scipy import stats\n",
    "import seaborn as sns\n",
    "\n",
    "from sklearn.model_selection import train_test_split\n",
    "from sklearn.linear_model import LogisticRegression\n",
    "from sklearn.tree import DecisionTreeClassifier\n",
    "from sklearn.ensemble import RandomForestClassifier\n",
    "from sklearn.svm import SVC\n",
    "from sklearn.ensemble import GradientBoostingClassifier\n",
    "from sklearn.model_selection import GridSearchCV\n",
    "from sklearn.dummy import DummyClassifier\n",
    "from sklearn.metrics import f1_score, accuracy_score, confusion_matrix,ConfusionMatrixDisplay\n",
    "\n",
    "from imblearn.over_sampling import SMOTE\n",
    "\n",
    "from model_helper import model_helper\n",
    "\n",
    "\n",
    "np.random.seed(86)\n",
    "random.seed(86)"
   ]
  },
  {
   "cell_type": "markdown",
   "id": "c5131695",
   "metadata": {},
   "source": [
    "This code reads a csv file named \"df.csv\" into a Pandas DataFrame called \"df\" and then displays the DataFrame using the head() method."
   ]
  },
  {
   "cell_type": "code",
   "execution_count": 2,
   "id": "a174d3fd",
   "metadata": {},
   "outputs": [
    {
     "data": {
      "text/html": [
       "<div>\n",
       "<style scoped>\n",
       "    .dataframe tbody tr th:only-of-type {\n",
       "        vertical-align: middle;\n",
       "    }\n",
       "\n",
       "    .dataframe tbody tr th {\n",
       "        vertical-align: top;\n",
       "    }\n",
       "\n",
       "    .dataframe thead th {\n",
       "        text-align: right;\n",
       "    }\n",
       "</style>\n",
       "<table border=\"1\" class=\"dataframe\">\n",
       "  <thead>\n",
       "    <tr style=\"text-align: right;\">\n",
       "      <th></th>\n",
       "      <th>player</th>\n",
       "      <th>team</th>\n",
       "      <th>gp</th>\n",
       "      <th>g</th>\n",
       "      <th>a</th>\n",
       "      <th>tp</th>\n",
       "      <th>ppg</th>\n",
       "      <th>pim</th>\n",
       "      <th>+/-</th>\n",
       "      <th>link</th>\n",
       "      <th>season</th>\n",
       "      <th>league</th>\n",
       "      <th>playername</th>\n",
       "      <th>position</th>\n",
       "      <th>fw_def</th>\n",
       "      <th>Name</th>\n",
       "      <th>Games Missed</th>\n",
       "      <th>head_injuries</th>\n",
       "    </tr>\n",
       "  </thead>\n",
       "  <tbody>\n",
       "    <tr>\n",
       "      <th>0</th>\n",
       "      <td>Jaromír Jágr (RW)</td>\n",
       "      <td>Pittsburgh Penguins</td>\n",
       "      <td>81</td>\n",
       "      <td>52</td>\n",
       "      <td>69</td>\n",
       "      <td>121</td>\n",
       "      <td>1.49</td>\n",
       "      <td>42</td>\n",
       "      <td>19</td>\n",
       "      <td>https://www.eliteprospects.com/player/8627/jar...</td>\n",
       "      <td>2000-01</td>\n",
       "      <td>nhl</td>\n",
       "      <td>Jaromír Jágr</td>\n",
       "      <td>RW</td>\n",
       "      <td>FW</td>\n",
       "      <td>0</td>\n",
       "      <td>0.0</td>\n",
       "      <td>0</td>\n",
       "    </tr>\n",
       "    <tr>\n",
       "      <th>1</th>\n",
       "      <td>Joe Sakic (C)</td>\n",
       "      <td>Colorado Avalanche</td>\n",
       "      <td>82</td>\n",
       "      <td>54</td>\n",
       "      <td>64</td>\n",
       "      <td>118</td>\n",
       "      <td>1.44</td>\n",
       "      <td>30</td>\n",
       "      <td>45</td>\n",
       "      <td>https://www.eliteprospects.com/player/8862/joe...</td>\n",
       "      <td>2000-01</td>\n",
       "      <td>nhl</td>\n",
       "      <td>Joe Sakic</td>\n",
       "      <td>C</td>\n",
       "      <td>FW</td>\n",
       "      <td>0</td>\n",
       "      <td>0.0</td>\n",
       "      <td>0</td>\n",
       "    </tr>\n",
       "    <tr>\n",
       "      <th>2</th>\n",
       "      <td>Patrik Elias (LW)</td>\n",
       "      <td>New Jersey Devils</td>\n",
       "      <td>82</td>\n",
       "      <td>40</td>\n",
       "      <td>56</td>\n",
       "      <td>96</td>\n",
       "      <td>1.17</td>\n",
       "      <td>51</td>\n",
       "      <td>45</td>\n",
       "      <td>https://www.eliteprospects.com/player/8698/pat...</td>\n",
       "      <td>2000-01</td>\n",
       "      <td>nhl</td>\n",
       "      <td>Patrik Elias</td>\n",
       "      <td>LW</td>\n",
       "      <td>FW</td>\n",
       "      <td>0</td>\n",
       "      <td>0.0</td>\n",
       "      <td>0</td>\n",
       "    </tr>\n",
       "    <tr>\n",
       "      <th>3</th>\n",
       "      <td>Alexei Kovalev (RW)</td>\n",
       "      <td>Pittsburgh Penguins</td>\n",
       "      <td>79</td>\n",
       "      <td>44</td>\n",
       "      <td>51</td>\n",
       "      <td>95</td>\n",
       "      <td>1.2</td>\n",
       "      <td>96</td>\n",
       "      <td>12</td>\n",
       "      <td>https://www.eliteprospects.com/player/8670/ale...</td>\n",
       "      <td>2000-01</td>\n",
       "      <td>nhl</td>\n",
       "      <td>Alexei Kovalev</td>\n",
       "      <td>RW</td>\n",
       "      <td>FW</td>\n",
       "      <td>0</td>\n",
       "      <td>0.0</td>\n",
       "      <td>0</td>\n",
       "    </tr>\n",
       "    <tr>\n",
       "      <th>4</th>\n",
       "      <td>Jason Allison (C)</td>\n",
       "      <td>Boston Bruins</td>\n",
       "      <td>82</td>\n",
       "      <td>36</td>\n",
       "      <td>59</td>\n",
       "      <td>95</td>\n",
       "      <td>1.16</td>\n",
       "      <td>85</td>\n",
       "      <td>-8</td>\n",
       "      <td>https://www.eliteprospects.com/player/9064/jas...</td>\n",
       "      <td>2000-01</td>\n",
       "      <td>nhl</td>\n",
       "      <td>Jason Allison</td>\n",
       "      <td>C</td>\n",
       "      <td>FW</td>\n",
       "      <td>0</td>\n",
       "      <td>0.0</td>\n",
       "      <td>0</td>\n",
       "    </tr>\n",
       "  </tbody>\n",
       "</table>\n",
       "</div>"
      ],
      "text/plain": [
       "                player                 team  gp   g   a   tp   ppg pim +/-  \\\n",
       "0    Jaromír Jágr (RW)  Pittsburgh Penguins  81  52  69  121  1.49  42  19   \n",
       "1        Joe Sakic (C)   Colorado Avalanche  82  54  64  118  1.44  30  45   \n",
       "2    Patrik Elias (LW)    New Jersey Devils  82  40  56   96  1.17  51  45   \n",
       "3  Alexei Kovalev (RW)  Pittsburgh Penguins  79  44  51   95   1.2  96  12   \n",
       "4    Jason Allison (C)        Boston Bruins  82  36  59   95  1.16  85  -8   \n",
       "\n",
       "                                                link   season league  \\\n",
       "0  https://www.eliteprospects.com/player/8627/jar...  2000-01    nhl   \n",
       "1  https://www.eliteprospects.com/player/8862/joe...  2000-01    nhl   \n",
       "2  https://www.eliteprospects.com/player/8698/pat...  2000-01    nhl   \n",
       "3  https://www.eliteprospects.com/player/8670/ale...  2000-01    nhl   \n",
       "4  https://www.eliteprospects.com/player/9064/jas...  2000-01    nhl   \n",
       "\n",
       "       playername position fw_def Name  Games Missed  head_injuries  \n",
       "0    Jaromír Jágr       RW     FW    0           0.0              0  \n",
       "1       Joe Sakic        C     FW    0           0.0              0  \n",
       "2    Patrik Elias       LW     FW    0           0.0              0  \n",
       "3  Alexei Kovalev       RW     FW    0           0.0              0  \n",
       "4   Jason Allison        C     FW    0           0.0              0  "
      ]
     },
     "execution_count": 2,
     "metadata": {},
     "output_type": "execute_result"
    }
   ],
   "source": [
    "df = pd.read_csv(\"data/df.csv\")\n",
    "df.head()"
   ]
  },
  {
   "cell_type": "markdown",
   "id": "535bda5d",
   "metadata": {},
   "source": [
    "### 2. Scrub"
   ]
  },
  {
   "cell_type": "markdown",
   "id": "1b315d7c",
   "metadata": {},
   "source": [
    "The code in this cell outputs a list of unique values in the \"season\" column of the dataframe \"df\". This can be useful for getting an overview of the different seasons included in the data."
   ]
  },
  {
   "cell_type": "code",
   "execution_count": 3,
   "id": "3b1007a7",
   "metadata": {},
   "outputs": [
    {
     "data": {
      "text/plain": [
       "array(['2000-01', '2001-02', '2002-03', '2003-04', '2004-05', '2005-06',\n",
       "       '2006-07', '2007-08', '2008-09', '2009-10', '2010-11', '2011-12',\n",
       "       '2012-13', '2013-14', '2014-15', '2015-16', '2016-17', '2017-18',\n",
       "       '2018-19', '2019-20', '2020-21'], dtype=object)"
      ]
     },
     "execution_count": 3,
     "metadata": {},
     "output_type": "execute_result"
    }
   ],
   "source": [
    "# check unique values of \"season\" column\n",
    "df[\"season\"].unique()"
   ]
  },
  {
   "cell_type": "markdown",
   "id": "4d15a21e",
   "metadata": {},
   "source": [
    "Checking for null values in the df DataFrame using the isnull() method. The sum() method is then used to count the number of null values in each column. The result shows the total count of null values for each column in the DataFrame."
   ]
  },
  {
   "cell_type": "code",
   "execution_count": 4,
   "id": "7407713f",
   "metadata": {},
   "outputs": [
    {
     "data": {
      "text/plain": [
       "player           0\n",
       "team             0\n",
       "gp               0\n",
       "g                0\n",
       "a                0\n",
       "tp               0\n",
       "ppg              0\n",
       "pim              0\n",
       "+/-              0\n",
       "link             0\n",
       "season           0\n",
       "league           0\n",
       "playername       0\n",
       "position         0\n",
       "fw_def           0\n",
       "Name             0\n",
       "Games Missed     0\n",
       "head_injuries    0\n",
       "dtype: int64"
      ]
     },
     "execution_count": 4,
     "metadata": {},
     "output_type": "execute_result"
    }
   ],
   "source": [
    "# look for missing values\n",
    "df.isnull().sum()"
   ]
  },
  {
   "cell_type": "markdown",
   "id": "e46b470a",
   "metadata": {},
   "source": [
    "Checking for duplicated rows in the df dataframe and assigns them to the variable duplicates"
   ]
  },
  {
   "cell_type": "code",
   "execution_count": 5,
   "id": "9bf328b6",
   "metadata": {},
   "outputs": [
    {
     "data": {
      "text/html": [
       "<div>\n",
       "<style scoped>\n",
       "    .dataframe tbody tr th:only-of-type {\n",
       "        vertical-align: middle;\n",
       "    }\n",
       "\n",
       "    .dataframe tbody tr th {\n",
       "        vertical-align: top;\n",
       "    }\n",
       "\n",
       "    .dataframe thead th {\n",
       "        text-align: right;\n",
       "    }\n",
       "</style>\n",
       "<table border=\"1\" class=\"dataframe\">\n",
       "  <thead>\n",
       "    <tr style=\"text-align: right;\">\n",
       "      <th></th>\n",
       "      <th>player</th>\n",
       "      <th>team</th>\n",
       "      <th>gp</th>\n",
       "      <th>g</th>\n",
       "      <th>a</th>\n",
       "      <th>tp</th>\n",
       "      <th>ppg</th>\n",
       "      <th>pim</th>\n",
       "      <th>+/-</th>\n",
       "      <th>link</th>\n",
       "      <th>season</th>\n",
       "      <th>league</th>\n",
       "      <th>playername</th>\n",
       "      <th>position</th>\n",
       "      <th>fw_def</th>\n",
       "      <th>Name</th>\n",
       "      <th>Games Missed</th>\n",
       "      <th>head_injuries</th>\n",
       "    </tr>\n",
       "  </thead>\n",
       "  <tbody>\n",
       "    <tr>\n",
       "      <th>234</th>\n",
       "      <td>Serge Aubin (C/LW)</td>\n",
       "      <td>Columbus Blue Jackets</td>\n",
       "      <td>81</td>\n",
       "      <td>13</td>\n",
       "      <td>17</td>\n",
       "      <td>30</td>\n",
       "      <td>0.37</td>\n",
       "      <td>107</td>\n",
       "      <td>-20</td>\n",
       "      <td>https://www.eliteprospects.com/player/8785/ser...</td>\n",
       "      <td>2000-01</td>\n",
       "      <td>nhl</td>\n",
       "      <td>Serge Aubin</td>\n",
       "      <td>C/LW</td>\n",
       "      <td>FW</td>\n",
       "      <td>Serge Aubin</td>\n",
       "      <td>2.0</td>\n",
       "      <td>1</td>\n",
       "    </tr>\n",
       "    <tr>\n",
       "      <th>1552</th>\n",
       "      <td>Brad Bombardir (D)</td>\n",
       "      <td>Minnesota Wild</td>\n",
       "      <td>28</td>\n",
       "      <td>1</td>\n",
       "      <td>2</td>\n",
       "      <td>3</td>\n",
       "      <td>0.11</td>\n",
       "      <td>14</td>\n",
       "      <td>-6</td>\n",
       "      <td>https://www.eliteprospects.com/player/25131/br...</td>\n",
       "      <td>2001-02</td>\n",
       "      <td>nhl</td>\n",
       "      <td>Brad Bombardir</td>\n",
       "      <td>D</td>\n",
       "      <td>DEF</td>\n",
       "      <td>Brad Bombardir</td>\n",
       "      <td>1.0</td>\n",
       "      <td>1</td>\n",
       "    </tr>\n",
       "    <tr>\n",
       "      <th>5528</th>\n",
       "      <td>Matt Cullen (C)</td>\n",
       "      <td>New York Rangers</td>\n",
       "      <td>80</td>\n",
       "      <td>16</td>\n",
       "      <td>25</td>\n",
       "      <td>41</td>\n",
       "      <td>0.51</td>\n",
       "      <td>52</td>\n",
       "      <td>0</td>\n",
       "      <td>https://www.eliteprospects.com/player/8754/mat...</td>\n",
       "      <td>2006-07</td>\n",
       "      <td>nhl</td>\n",
       "      <td>Matt Cullen</td>\n",
       "      <td>C</td>\n",
       "      <td>FW</td>\n",
       "      <td>Matt Cullen</td>\n",
       "      <td>7.0</td>\n",
       "      <td>1</td>\n",
       "    </tr>\n",
       "    <tr>\n",
       "      <th>7386</th>\n",
       "      <td>Brent Seabrook (D)</td>\n",
       "      <td>Chicago Blackhawks</td>\n",
       "      <td>82</td>\n",
       "      <td>8</td>\n",
       "      <td>18</td>\n",
       "      <td>26</td>\n",
       "      <td>0.32</td>\n",
       "      <td>62</td>\n",
       "      <td>23</td>\n",
       "      <td>https://www.eliteprospects.com/player/8879/bre...</td>\n",
       "      <td>2008-09</td>\n",
       "      <td>nhl</td>\n",
       "      <td>Brent Seabrook</td>\n",
       "      <td>D</td>\n",
       "      <td>DEF</td>\n",
       "      <td>Brent Seabrook</td>\n",
       "      <td>2.0</td>\n",
       "      <td>1</td>\n",
       "    </tr>\n",
       "    <tr>\n",
       "      <th>7781</th>\n",
       "      <td>Derek Boogaard (LW)</td>\n",
       "      <td>Minnesota Wild</td>\n",
       "      <td>51</td>\n",
       "      <td>0</td>\n",
       "      <td>3</td>\n",
       "      <td>3</td>\n",
       "      <td>0.06</td>\n",
       "      <td>87</td>\n",
       "      <td>3</td>\n",
       "      <td>https://www.eliteprospects.com/player/9084/der...</td>\n",
       "      <td>2008-09</td>\n",
       "      <td>nhl</td>\n",
       "      <td>Derek Boogaard</td>\n",
       "      <td>LW</td>\n",
       "      <td>FW</td>\n",
       "      <td>Derek Boogaard</td>\n",
       "      <td>5.0</td>\n",
       "      <td>1</td>\n",
       "    </tr>\n",
       "    <tr>\n",
       "      <th>10560</th>\n",
       "      <td>Patrick Eaves (RW/LW)</td>\n",
       "      <td>Detroit Red Wings</td>\n",
       "      <td>10</td>\n",
       "      <td>0</td>\n",
       "      <td>1</td>\n",
       "      <td>1</td>\n",
       "      <td>0.1</td>\n",
       "      <td>2</td>\n",
       "      <td>0</td>\n",
       "      <td>https://www.eliteprospects.com/player/9144/pat...</td>\n",
       "      <td>2011-12</td>\n",
       "      <td>nhl</td>\n",
       "      <td>Patrick Eaves</td>\n",
       "      <td>RW/LW</td>\n",
       "      <td>FW</td>\n",
       "      <td>Patrick Eaves</td>\n",
       "      <td>1.0</td>\n",
       "      <td>1</td>\n",
       "    </tr>\n",
       "    <tr>\n",
       "      <th>14045</th>\n",
       "      <td>Pavel Zacha (C/LW)</td>\n",
       "      <td>New Jersey Devils</td>\n",
       "      <td>1</td>\n",
       "      <td>0</td>\n",
       "      <td>2</td>\n",
       "      <td>2</td>\n",
       "      <td>2.0</td>\n",
       "      <td>0</td>\n",
       "      <td>4</td>\n",
       "      <td>https://www.eliteprospects.com/player/130786/p...</td>\n",
       "      <td>2015-16</td>\n",
       "      <td>nhl</td>\n",
       "      <td>Pavel Zacha</td>\n",
       "      <td>C/LW</td>\n",
       "      <td>FW</td>\n",
       "      <td>Pavel Zacha</td>\n",
       "      <td>4.0</td>\n",
       "      <td>1</td>\n",
       "    </tr>\n",
       "  </tbody>\n",
       "</table>\n",
       "</div>"
      ],
      "text/plain": [
       "                      player                   team  gp   g   a  tp   ppg  \\\n",
       "234       Serge Aubin (C/LW)  Columbus Blue Jackets  81  13  17  30  0.37   \n",
       "1552      Brad Bombardir (D)         Minnesota Wild  28   1   2   3  0.11   \n",
       "5528         Matt Cullen (C)       New York Rangers  80  16  25  41  0.51   \n",
       "7386      Brent Seabrook (D)     Chicago Blackhawks  82   8  18  26  0.32   \n",
       "7781     Derek Boogaard (LW)         Minnesota Wild  51   0   3   3  0.06   \n",
       "10560  Patrick Eaves (RW/LW)      Detroit Red Wings  10   0   1   1   0.1   \n",
       "14045     Pavel Zacha (C/LW)      New Jersey Devils   1   0   2   2   2.0   \n",
       "\n",
       "       pim  +/-                                               link   season  \\\n",
       "234    107  -20  https://www.eliteprospects.com/player/8785/ser...  2000-01   \n",
       "1552    14   -6  https://www.eliteprospects.com/player/25131/br...  2001-02   \n",
       "5528    52    0  https://www.eliteprospects.com/player/8754/mat...  2006-07   \n",
       "7386    62   23  https://www.eliteprospects.com/player/8879/bre...  2008-09   \n",
       "7781    87    3  https://www.eliteprospects.com/player/9084/der...  2008-09   \n",
       "10560    2    0  https://www.eliteprospects.com/player/9144/pat...  2011-12   \n",
       "14045    0    4  https://www.eliteprospects.com/player/130786/p...  2015-16   \n",
       "\n",
       "      league      playername position fw_def            Name  Games Missed  \\\n",
       "234      nhl     Serge Aubin     C/LW     FW     Serge Aubin           2.0   \n",
       "1552     nhl  Brad Bombardir        D    DEF  Brad Bombardir           1.0   \n",
       "5528     nhl     Matt Cullen        C     FW     Matt Cullen           7.0   \n",
       "7386     nhl  Brent Seabrook        D    DEF  Brent Seabrook           2.0   \n",
       "7781     nhl  Derek Boogaard       LW     FW  Derek Boogaard           5.0   \n",
       "10560    nhl   Patrick Eaves    RW/LW     FW   Patrick Eaves           1.0   \n",
       "14045    nhl     Pavel Zacha     C/LW     FW     Pavel Zacha           4.0   \n",
       "\n",
       "       head_injuries  \n",
       "234                1  \n",
       "1552               1  \n",
       "5528               1  \n",
       "7386               1  \n",
       "7781               1  \n",
       "10560              1  \n",
       "14045              1  "
      ]
     },
     "execution_count": 5,
     "metadata": {},
     "output_type": "execute_result"
    }
   ],
   "source": [
    "# check for duplicate values \n",
    "duplicates = df[df.duplicated()]\n",
    "duplicates"
   ]
  },
  {
   "cell_type": "markdown",
   "id": "4d5a980d",
   "metadata": {},
   "source": [
    "This code removes duplicates from the DataFrame df and updates it."
   ]
  },
  {
   "cell_type": "code",
   "execution_count": 6,
   "id": "5c012e6b",
   "metadata": {},
   "outputs": [],
   "source": [
    "# drop duplicates\n",
    "df = df.drop_duplicates()"
   ]
  },
  {
   "cell_type": "markdown",
   "id": "96ecd47f",
   "metadata": {},
   "source": [
    "This code renames the columns of the df DataFrame using the rename() method."
   ]
  },
  {
   "cell_type": "code",
   "execution_count": 7,
   "id": "899de52f",
   "metadata": {},
   "outputs": [],
   "source": [
    "# rename columns\n",
    "df.rename(columns={'gp': 'games_played', 'g': 'goals', 'a': 'assists',\n",
    "                   'tp': 'total_points', 'ppg': 'points_per_game', 'pim': 'penalty_minutes',\n",
    "                  '+/-': 'team_goal_differential', 'playername': 'player_name', 'fw_def': 'forward_defense',\n",
    "                  'Name': 'name', 'Games Missed': 'games_missed'}, inplace=True)\n"
   ]
  },
  {
   "cell_type": "code",
   "execution_count": 8,
   "id": "37ee2c9d",
   "metadata": {
    "scrolled": true
   },
   "outputs": [
    {
     "data": {
      "text/plain": [
       "Index(['player', 'team', 'games_played', 'goals', 'assists', 'total_points',\n",
       "       'points_per_game', 'penalty_minutes', 'team_goal_differential', 'link',\n",
       "       'season', 'league', 'player_name', 'position', 'forward_defense',\n",
       "       'name', 'games_missed', 'head_injuries'],\n",
       "      dtype='object')"
      ]
     },
     "execution_count": 8,
     "metadata": {},
     "output_type": "execute_result"
    }
   ],
   "source": [
    "# view updated column names\n",
    "df.columns"
   ]
  },
  {
   "cell_type": "markdown",
   "id": "b58193a7",
   "metadata": {},
   "source": [
    "#### New Feature"
   ]
  },
  {
   "cell_type": "markdown",
   "id": "75b6749f",
   "metadata": {},
   "source": [
    "This cell adds a new column called 'year' to 'df', which is taken from the 'season' column. The 'map()' method is used to apply a lambda function to each value of the 'season' column, which splits the string at the '-' character and takes the first part (i.e., the starting year of the season). The values are then converted to integers and added to the new 'year' column. "
   ]
  },
  {
   "cell_type": "code",
   "execution_count": 9,
   "id": "9aace201",
   "metadata": {
    "scrolled": true
   },
   "outputs": [
    {
     "data": {
      "text/html": [
       "<div>\n",
       "<style scoped>\n",
       "    .dataframe tbody tr th:only-of-type {\n",
       "        vertical-align: middle;\n",
       "    }\n",
       "\n",
       "    .dataframe tbody tr th {\n",
       "        vertical-align: top;\n",
       "    }\n",
       "\n",
       "    .dataframe thead th {\n",
       "        text-align: right;\n",
       "    }\n",
       "</style>\n",
       "<table border=\"1\" class=\"dataframe\">\n",
       "  <thead>\n",
       "    <tr style=\"text-align: right;\">\n",
       "      <th></th>\n",
       "      <th>player</th>\n",
       "      <th>team</th>\n",
       "      <th>games_played</th>\n",
       "      <th>goals</th>\n",
       "      <th>assists</th>\n",
       "      <th>total_points</th>\n",
       "      <th>points_per_game</th>\n",
       "      <th>penalty_minutes</th>\n",
       "      <th>team_goal_differential</th>\n",
       "      <th>link</th>\n",
       "      <th>season</th>\n",
       "      <th>league</th>\n",
       "      <th>player_name</th>\n",
       "      <th>position</th>\n",
       "      <th>forward_defense</th>\n",
       "      <th>name</th>\n",
       "      <th>games_missed</th>\n",
       "      <th>head_injuries</th>\n",
       "      <th>year</th>\n",
       "    </tr>\n",
       "  </thead>\n",
       "  <tbody>\n",
       "    <tr>\n",
       "      <th>0</th>\n",
       "      <td>Jaromír Jágr (RW)</td>\n",
       "      <td>Pittsburgh Penguins</td>\n",
       "      <td>81</td>\n",
       "      <td>52</td>\n",
       "      <td>69</td>\n",
       "      <td>121</td>\n",
       "      <td>1.49</td>\n",
       "      <td>42</td>\n",
       "      <td>19</td>\n",
       "      <td>https://www.eliteprospects.com/player/8627/jar...</td>\n",
       "      <td>2000-01</td>\n",
       "      <td>nhl</td>\n",
       "      <td>Jaromír Jágr</td>\n",
       "      <td>RW</td>\n",
       "      <td>FW</td>\n",
       "      <td>0</td>\n",
       "      <td>0.0</td>\n",
       "      <td>0</td>\n",
       "      <td>2000</td>\n",
       "    </tr>\n",
       "    <tr>\n",
       "      <th>1</th>\n",
       "      <td>Joe Sakic (C)</td>\n",
       "      <td>Colorado Avalanche</td>\n",
       "      <td>82</td>\n",
       "      <td>54</td>\n",
       "      <td>64</td>\n",
       "      <td>118</td>\n",
       "      <td>1.44</td>\n",
       "      <td>30</td>\n",
       "      <td>45</td>\n",
       "      <td>https://www.eliteprospects.com/player/8862/joe...</td>\n",
       "      <td>2000-01</td>\n",
       "      <td>nhl</td>\n",
       "      <td>Joe Sakic</td>\n",
       "      <td>C</td>\n",
       "      <td>FW</td>\n",
       "      <td>0</td>\n",
       "      <td>0.0</td>\n",
       "      <td>0</td>\n",
       "      <td>2000</td>\n",
       "    </tr>\n",
       "    <tr>\n",
       "      <th>2</th>\n",
       "      <td>Patrik Elias (LW)</td>\n",
       "      <td>New Jersey Devils</td>\n",
       "      <td>82</td>\n",
       "      <td>40</td>\n",
       "      <td>56</td>\n",
       "      <td>96</td>\n",
       "      <td>1.17</td>\n",
       "      <td>51</td>\n",
       "      <td>45</td>\n",
       "      <td>https://www.eliteprospects.com/player/8698/pat...</td>\n",
       "      <td>2000-01</td>\n",
       "      <td>nhl</td>\n",
       "      <td>Patrik Elias</td>\n",
       "      <td>LW</td>\n",
       "      <td>FW</td>\n",
       "      <td>0</td>\n",
       "      <td>0.0</td>\n",
       "      <td>0</td>\n",
       "      <td>2000</td>\n",
       "    </tr>\n",
       "    <tr>\n",
       "      <th>3</th>\n",
       "      <td>Alexei Kovalev (RW)</td>\n",
       "      <td>Pittsburgh Penguins</td>\n",
       "      <td>79</td>\n",
       "      <td>44</td>\n",
       "      <td>51</td>\n",
       "      <td>95</td>\n",
       "      <td>1.2</td>\n",
       "      <td>96</td>\n",
       "      <td>12</td>\n",
       "      <td>https://www.eliteprospects.com/player/8670/ale...</td>\n",
       "      <td>2000-01</td>\n",
       "      <td>nhl</td>\n",
       "      <td>Alexei Kovalev</td>\n",
       "      <td>RW</td>\n",
       "      <td>FW</td>\n",
       "      <td>0</td>\n",
       "      <td>0.0</td>\n",
       "      <td>0</td>\n",
       "      <td>2000</td>\n",
       "    </tr>\n",
       "    <tr>\n",
       "      <th>4</th>\n",
       "      <td>Jason Allison (C)</td>\n",
       "      <td>Boston Bruins</td>\n",
       "      <td>82</td>\n",
       "      <td>36</td>\n",
       "      <td>59</td>\n",
       "      <td>95</td>\n",
       "      <td>1.16</td>\n",
       "      <td>85</td>\n",
       "      <td>-8</td>\n",
       "      <td>https://www.eliteprospects.com/player/9064/jas...</td>\n",
       "      <td>2000-01</td>\n",
       "      <td>nhl</td>\n",
       "      <td>Jason Allison</td>\n",
       "      <td>C</td>\n",
       "      <td>FW</td>\n",
       "      <td>0</td>\n",
       "      <td>0.0</td>\n",
       "      <td>0</td>\n",
       "      <td>2000</td>\n",
       "    </tr>\n",
       "  </tbody>\n",
       "</table>\n",
       "</div>"
      ],
      "text/plain": [
       "                player                 team  games_played  goals  assists  \\\n",
       "0    Jaromír Jágr (RW)  Pittsburgh Penguins            81     52       69   \n",
       "1        Joe Sakic (C)   Colorado Avalanche            82     54       64   \n",
       "2    Patrik Elias (LW)    New Jersey Devils            82     40       56   \n",
       "3  Alexei Kovalev (RW)  Pittsburgh Penguins            79     44       51   \n",
       "4    Jason Allison (C)        Boston Bruins            82     36       59   \n",
       "\n",
       "   total_points points_per_game penalty_minutes team_goal_differential  \\\n",
       "0           121            1.49              42                     19   \n",
       "1           118            1.44              30                     45   \n",
       "2            96            1.17              51                     45   \n",
       "3            95             1.2              96                     12   \n",
       "4            95            1.16              85                     -8   \n",
       "\n",
       "                                                link   season league  \\\n",
       "0  https://www.eliteprospects.com/player/8627/jar...  2000-01    nhl   \n",
       "1  https://www.eliteprospects.com/player/8862/joe...  2000-01    nhl   \n",
       "2  https://www.eliteprospects.com/player/8698/pat...  2000-01    nhl   \n",
       "3  https://www.eliteprospects.com/player/8670/ale...  2000-01    nhl   \n",
       "4  https://www.eliteprospects.com/player/9064/jas...  2000-01    nhl   \n",
       "\n",
       "      player_name position forward_defense name  games_missed  head_injuries  \\\n",
       "0    Jaromír Jágr       RW              FW    0           0.0              0   \n",
       "1       Joe Sakic        C              FW    0           0.0              0   \n",
       "2    Patrik Elias       LW              FW    0           0.0              0   \n",
       "3  Alexei Kovalev       RW              FW    0           0.0              0   \n",
       "4   Jason Allison        C              FW    0           0.0              0   \n",
       "\n",
       "   year  \n",
       "0  2000  \n",
       "1  2000  \n",
       "2  2000  \n",
       "3  2000  \n",
       "4  2000  "
      ]
     },
     "execution_count": 9,
     "metadata": {},
     "output_type": "execute_result"
    }
   ],
   "source": [
    "# filter dataframe to only be the player and for the season to be before the season that I am checking\n",
    "df['year'] = df['season'].map(lambda x: int(x.split('-')[0]))\n",
    "df.head()"
   ]
  },
  {
   "cell_type": "markdown",
   "id": "22d9c2e7",
   "metadata": {},
   "source": [
    "This code cell adds a new column to the dataframe named 'previous_head_injuries', and iterates through each row of the dataframe to calculate the total number of head injuries a player has had in previous years.The count of head injuries is calculated by filtering the rows where the player name matches the current player, and the year is less than the current year, and then summing the total head injuries for those rows. The calculated value is then assigned to the 'previous_head_injuries' column of the current row."
   ]
  },
  {
   "cell_type": "code",
   "execution_count": 10,
   "id": "65558c98",
   "metadata": {},
   "outputs": [],
   "source": [
    "# feature engineer a new column that illustrates whether a player had a previous head injury\n",
    "df['previous_head_injuries'] = 0\n",
    "for index, row in df.iterrows():\n",
    "    number_of_head_injuries = df[(df['player'] == row['player']) & \n",
    "                              (df['year'] < row['year'])]['head_injuries'].sum()\n",
    "    df.loc[index, 'previous_head_injuries'] = number_of_head_injuries"
   ]
  },
  {
   "cell_type": "markdown",
   "id": "6cfae8fb",
   "metadata": {},
   "source": [
    "This code drops several columns from the DataFrame df using the drop() method, namely 'player', 'link', 'name', 'season', 'forward_defense', 'games_missed', and 'year'."
   ]
  },
  {
   "cell_type": "code",
   "execution_count": 11,
   "id": "5af239ee",
   "metadata": {},
   "outputs": [],
   "source": [
    "# drop unnecessary columns\n",
    "df.drop(columns=['player', 'link', 'name', 'season', 'forward_defense', 'games_missed', 'year'], \n",
    "        axis=1, inplace=True)"
   ]
  },
  {
   "cell_type": "code",
   "execution_count": 12,
   "id": "f87e6904",
   "metadata": {},
   "outputs": [
    {
     "data": {
      "text/html": [
       "<div>\n",
       "<style scoped>\n",
       "    .dataframe tbody tr th:only-of-type {\n",
       "        vertical-align: middle;\n",
       "    }\n",
       "\n",
       "    .dataframe tbody tr th {\n",
       "        vertical-align: top;\n",
       "    }\n",
       "\n",
       "    .dataframe thead th {\n",
       "        text-align: right;\n",
       "    }\n",
       "</style>\n",
       "<table border=\"1\" class=\"dataframe\">\n",
       "  <thead>\n",
       "    <tr style=\"text-align: right;\">\n",
       "      <th></th>\n",
       "      <th>team</th>\n",
       "      <th>games_played</th>\n",
       "      <th>goals</th>\n",
       "      <th>assists</th>\n",
       "      <th>total_points</th>\n",
       "      <th>points_per_game</th>\n",
       "      <th>penalty_minutes</th>\n",
       "      <th>team_goal_differential</th>\n",
       "      <th>league</th>\n",
       "      <th>player_name</th>\n",
       "      <th>position</th>\n",
       "      <th>head_injuries</th>\n",
       "      <th>previous_head_injuries</th>\n",
       "    </tr>\n",
       "  </thead>\n",
       "  <tbody>\n",
       "    <tr>\n",
       "      <th>0</th>\n",
       "      <td>Pittsburgh Penguins</td>\n",
       "      <td>81</td>\n",
       "      <td>52</td>\n",
       "      <td>69</td>\n",
       "      <td>121</td>\n",
       "      <td>1.49</td>\n",
       "      <td>42</td>\n",
       "      <td>19</td>\n",
       "      <td>nhl</td>\n",
       "      <td>Jaromír Jágr</td>\n",
       "      <td>RW</td>\n",
       "      <td>0</td>\n",
       "      <td>0</td>\n",
       "    </tr>\n",
       "    <tr>\n",
       "      <th>1</th>\n",
       "      <td>Colorado Avalanche</td>\n",
       "      <td>82</td>\n",
       "      <td>54</td>\n",
       "      <td>64</td>\n",
       "      <td>118</td>\n",
       "      <td>1.44</td>\n",
       "      <td>30</td>\n",
       "      <td>45</td>\n",
       "      <td>nhl</td>\n",
       "      <td>Joe Sakic</td>\n",
       "      <td>C</td>\n",
       "      <td>0</td>\n",
       "      <td>0</td>\n",
       "    </tr>\n",
       "    <tr>\n",
       "      <th>2</th>\n",
       "      <td>New Jersey Devils</td>\n",
       "      <td>82</td>\n",
       "      <td>40</td>\n",
       "      <td>56</td>\n",
       "      <td>96</td>\n",
       "      <td>1.17</td>\n",
       "      <td>51</td>\n",
       "      <td>45</td>\n",
       "      <td>nhl</td>\n",
       "      <td>Patrik Elias</td>\n",
       "      <td>LW</td>\n",
       "      <td>0</td>\n",
       "      <td>0</td>\n",
       "    </tr>\n",
       "    <tr>\n",
       "      <th>3</th>\n",
       "      <td>Pittsburgh Penguins</td>\n",
       "      <td>79</td>\n",
       "      <td>44</td>\n",
       "      <td>51</td>\n",
       "      <td>95</td>\n",
       "      <td>1.2</td>\n",
       "      <td>96</td>\n",
       "      <td>12</td>\n",
       "      <td>nhl</td>\n",
       "      <td>Alexei Kovalev</td>\n",
       "      <td>RW</td>\n",
       "      <td>0</td>\n",
       "      <td>0</td>\n",
       "    </tr>\n",
       "    <tr>\n",
       "      <th>4</th>\n",
       "      <td>Boston Bruins</td>\n",
       "      <td>82</td>\n",
       "      <td>36</td>\n",
       "      <td>59</td>\n",
       "      <td>95</td>\n",
       "      <td>1.16</td>\n",
       "      <td>85</td>\n",
       "      <td>-8</td>\n",
       "      <td>nhl</td>\n",
       "      <td>Jason Allison</td>\n",
       "      <td>C</td>\n",
       "      <td>0</td>\n",
       "      <td>0</td>\n",
       "    </tr>\n",
       "  </tbody>\n",
       "</table>\n",
       "</div>"
      ],
      "text/plain": [
       "                  team  games_played  goals  assists  total_points  \\\n",
       "0  Pittsburgh Penguins            81     52       69           121   \n",
       "1   Colorado Avalanche            82     54       64           118   \n",
       "2    New Jersey Devils            82     40       56            96   \n",
       "3  Pittsburgh Penguins            79     44       51            95   \n",
       "4        Boston Bruins            82     36       59            95   \n",
       "\n",
       "  points_per_game penalty_minutes team_goal_differential league  \\\n",
       "0            1.49              42                     19    nhl   \n",
       "1            1.44              30                     45    nhl   \n",
       "2            1.17              51                     45    nhl   \n",
       "3             1.2              96                     12    nhl   \n",
       "4            1.16              85                     -8    nhl   \n",
       "\n",
       "      player_name position  head_injuries  previous_head_injuries  \n",
       "0    Jaromír Jágr       RW              0                       0  \n",
       "1       Joe Sakic        C              0                       0  \n",
       "2    Patrik Elias       LW              0                       0  \n",
       "3  Alexei Kovalev       RW              0                       0  \n",
       "4   Jason Allison        C              0                       0  "
      ]
     },
     "execution_count": 12,
     "metadata": {},
     "output_type": "execute_result"
    }
   ],
   "source": [
    "# view updated dataframe\n",
    "df.head()"
   ]
  },
  {
   "cell_type": "markdown",
   "id": "63d6ee53",
   "metadata": {},
   "source": [
    "Checking for more than one value in this column, but it only displays one value"
   ]
  },
  {
   "cell_type": "code",
   "execution_count": 13,
   "id": "137f08d5",
   "metadata": {},
   "outputs": [
    {
     "data": {
      "text/plain": [
       "'nhl'"
      ]
     },
     "execution_count": 13,
     "metadata": {},
     "output_type": "execute_result"
    }
   ],
   "source": [
    "# view unique values in 'league' column. \n",
    "df['league'].unique().sum()"
   ]
  },
  {
   "cell_type": "markdown",
   "id": "5a53b0d7",
   "metadata": {},
   "source": [
    "Drop player_name and league from the dataframe. The column, 'player_name' is not needed and 'league' has only one value"
   ]
  },
  {
   "cell_type": "code",
   "execution_count": 14,
   "id": "92caaca6",
   "metadata": {},
   "outputs": [],
   "source": [
    "df.drop(columns=['player_name', 'league'], axis=1, inplace=True)"
   ]
  },
  {
   "cell_type": "code",
   "execution_count": 15,
   "id": "3bc6fada",
   "metadata": {},
   "outputs": [
    {
     "data": {
      "text/plain": [
       "(18743, 11)"
      ]
     },
     "execution_count": 15,
     "metadata": {},
     "output_type": "execute_result"
    }
   ],
   "source": [
    "# view number of rows and columns of dataframe\n",
    "df.shape"
   ]
  },
  {
   "cell_type": "markdown",
   "id": "13b9ddc8",
   "metadata": {},
   "source": [
    "The dataframe 'df' has six numerical columns: games_played, goals, assists, total_points, head_injuries, and previous_head_injuries. The minimum value of the 'games_played' column is 0, and the maximum value is 85, with a mean of 47.98 and a standard deviation of 28.50. For `head_injuries` and the `previous_head_injuries` columns, both contain binary data."
   ]
  },
  {
   "cell_type": "code",
   "execution_count": 16,
   "id": "5b108cee",
   "metadata": {},
   "outputs": [
    {
     "data": {
      "text/html": [
       "<div>\n",
       "<style scoped>\n",
       "    .dataframe tbody tr th:only-of-type {\n",
       "        vertical-align: middle;\n",
       "    }\n",
       "\n",
       "    .dataframe tbody tr th {\n",
       "        vertical-align: top;\n",
       "    }\n",
       "\n",
       "    .dataframe thead th {\n",
       "        text-align: right;\n",
       "    }\n",
       "</style>\n",
       "<table border=\"1\" class=\"dataframe\">\n",
       "  <thead>\n",
       "    <tr style=\"text-align: right;\">\n",
       "      <th></th>\n",
       "      <th>games_played</th>\n",
       "      <th>goals</th>\n",
       "      <th>assists</th>\n",
       "      <th>total_points</th>\n",
       "      <th>head_injuries</th>\n",
       "      <th>previous_head_injuries</th>\n",
       "    </tr>\n",
       "  </thead>\n",
       "  <tbody>\n",
       "    <tr>\n",
       "      <th>count</th>\n",
       "      <td>18743.00000</td>\n",
       "      <td>18743.000000</td>\n",
       "      <td>18743.000000</td>\n",
       "      <td>18743.000000</td>\n",
       "      <td>18743.000000</td>\n",
       "      <td>18743.000000</td>\n",
       "    </tr>\n",
       "    <tr>\n",
       "      <th>mean</th>\n",
       "      <td>47.98250</td>\n",
       "      <td>7.374006</td>\n",
       "      <td>12.543296</td>\n",
       "      <td>19.917409</td>\n",
       "      <td>0.059756</td>\n",
       "      <td>0.275089</td>\n",
       "    </tr>\n",
       "    <tr>\n",
       "      <th>std</th>\n",
       "      <td>28.50025</td>\n",
       "      <td>8.773579</td>\n",
       "      <td>12.970725</td>\n",
       "      <td>20.590198</td>\n",
       "      <td>0.237040</td>\n",
       "      <td>0.683886</td>\n",
       "    </tr>\n",
       "    <tr>\n",
       "      <th>min</th>\n",
       "      <td>0.00000</td>\n",
       "      <td>0.000000</td>\n",
       "      <td>0.000000</td>\n",
       "      <td>0.000000</td>\n",
       "      <td>0.000000</td>\n",
       "      <td>0.000000</td>\n",
       "    </tr>\n",
       "    <tr>\n",
       "      <th>25%</th>\n",
       "      <td>20.00000</td>\n",
       "      <td>1.000000</td>\n",
       "      <td>2.000000</td>\n",
       "      <td>3.000000</td>\n",
       "      <td>0.000000</td>\n",
       "      <td>0.000000</td>\n",
       "    </tr>\n",
       "    <tr>\n",
       "      <th>50%</th>\n",
       "      <td>55.00000</td>\n",
       "      <td>4.000000</td>\n",
       "      <td>9.000000</td>\n",
       "      <td>13.000000</td>\n",
       "      <td>0.000000</td>\n",
       "      <td>0.000000</td>\n",
       "    </tr>\n",
       "    <tr>\n",
       "      <th>75%</th>\n",
       "      <td>75.00000</td>\n",
       "      <td>11.000000</td>\n",
       "      <td>19.000000</td>\n",
       "      <td>31.000000</td>\n",
       "      <td>0.000000</td>\n",
       "      <td>0.000000</td>\n",
       "    </tr>\n",
       "    <tr>\n",
       "      <th>max</th>\n",
       "      <td>85.00000</td>\n",
       "      <td>65.000000</td>\n",
       "      <td>96.000000</td>\n",
       "      <td>128.000000</td>\n",
       "      <td>1.000000</td>\n",
       "      <td>11.000000</td>\n",
       "    </tr>\n",
       "  </tbody>\n",
       "</table>\n",
       "</div>"
      ],
      "text/plain": [
       "       games_played         goals       assists  total_points  head_injuries  \\\n",
       "count   18743.00000  18743.000000  18743.000000  18743.000000   18743.000000   \n",
       "mean       47.98250      7.374006     12.543296     19.917409       0.059756   \n",
       "std        28.50025      8.773579     12.970725     20.590198       0.237040   \n",
       "min         0.00000      0.000000      0.000000      0.000000       0.000000   \n",
       "25%        20.00000      1.000000      2.000000      3.000000       0.000000   \n",
       "50%        55.00000      4.000000      9.000000     13.000000       0.000000   \n",
       "75%        75.00000     11.000000     19.000000     31.000000       0.000000   \n",
       "max        85.00000     65.000000     96.000000    128.000000       1.000000   \n",
       "\n",
       "       previous_head_injuries  \n",
       "count            18743.000000  \n",
       "mean                 0.275089  \n",
       "std                  0.683886  \n",
       "min                  0.000000  \n",
       "25%                  0.000000  \n",
       "50%                  0.000000  \n",
       "75%                  0.000000  \n",
       "max                 11.000000  "
      ]
     },
     "execution_count": 16,
     "metadata": {},
     "output_type": "execute_result"
    }
   ],
   "source": [
    "# view distribution of numerical columns\n",
    "df.describe()"
   ]
  },
  {
   "cell_type": "markdown",
   "id": "f459c8df",
   "metadata": {},
   "source": [
    "The following code uses pandas library to replace values in the 'position' column of a dataframe 'df' with the values in the dictionary 'mapping'."
   ]
  },
  {
   "cell_type": "code",
   "execution_count": 17,
   "id": "83a18026",
   "metadata": {
    "scrolled": true
   },
   "outputs": [
    {
     "data": {
      "text/html": [
       "<div>\n",
       "<style scoped>\n",
       "    .dataframe tbody tr th:only-of-type {\n",
       "        vertical-align: middle;\n",
       "    }\n",
       "\n",
       "    .dataframe tbody tr th {\n",
       "        vertical-align: top;\n",
       "    }\n",
       "\n",
       "    .dataframe thead th {\n",
       "        text-align: right;\n",
       "    }\n",
       "</style>\n",
       "<table border=\"1\" class=\"dataframe\">\n",
       "  <thead>\n",
       "    <tr style=\"text-align: right;\">\n",
       "      <th></th>\n",
       "      <th>team</th>\n",
       "      <th>games_played</th>\n",
       "      <th>goals</th>\n",
       "      <th>assists</th>\n",
       "      <th>total_points</th>\n",
       "      <th>points_per_game</th>\n",
       "      <th>penalty_minutes</th>\n",
       "      <th>team_goal_differential</th>\n",
       "      <th>position</th>\n",
       "      <th>head_injuries</th>\n",
       "      <th>previous_head_injuries</th>\n",
       "    </tr>\n",
       "  </thead>\n",
       "  <tbody>\n",
       "    <tr>\n",
       "      <th>0</th>\n",
       "      <td>Pittsburgh Penguins</td>\n",
       "      <td>81</td>\n",
       "      <td>52</td>\n",
       "      <td>69</td>\n",
       "      <td>121</td>\n",
       "      <td>1.49</td>\n",
       "      <td>42</td>\n",
       "      <td>19</td>\n",
       "      <td>Wing</td>\n",
       "      <td>0</td>\n",
       "      <td>0</td>\n",
       "    </tr>\n",
       "    <tr>\n",
       "      <th>1</th>\n",
       "      <td>Colorado Avalanche</td>\n",
       "      <td>82</td>\n",
       "      <td>54</td>\n",
       "      <td>64</td>\n",
       "      <td>118</td>\n",
       "      <td>1.44</td>\n",
       "      <td>30</td>\n",
       "      <td>45</td>\n",
       "      <td>Wing</td>\n",
       "      <td>0</td>\n",
       "      <td>0</td>\n",
       "    </tr>\n",
       "    <tr>\n",
       "      <th>2</th>\n",
       "      <td>New Jersey Devils</td>\n",
       "      <td>82</td>\n",
       "      <td>40</td>\n",
       "      <td>56</td>\n",
       "      <td>96</td>\n",
       "      <td>1.17</td>\n",
       "      <td>51</td>\n",
       "      <td>45</td>\n",
       "      <td>Wing</td>\n",
       "      <td>0</td>\n",
       "      <td>0</td>\n",
       "    </tr>\n",
       "    <tr>\n",
       "      <th>3</th>\n",
       "      <td>Pittsburgh Penguins</td>\n",
       "      <td>79</td>\n",
       "      <td>44</td>\n",
       "      <td>51</td>\n",
       "      <td>95</td>\n",
       "      <td>1.2</td>\n",
       "      <td>96</td>\n",
       "      <td>12</td>\n",
       "      <td>Wing</td>\n",
       "      <td>0</td>\n",
       "      <td>0</td>\n",
       "    </tr>\n",
       "    <tr>\n",
       "      <th>4</th>\n",
       "      <td>Boston Bruins</td>\n",
       "      <td>82</td>\n",
       "      <td>36</td>\n",
       "      <td>59</td>\n",
       "      <td>95</td>\n",
       "      <td>1.16</td>\n",
       "      <td>85</td>\n",
       "      <td>-8</td>\n",
       "      <td>Wing</td>\n",
       "      <td>0</td>\n",
       "      <td>0</td>\n",
       "    </tr>\n",
       "  </tbody>\n",
       "</table>\n",
       "</div>"
      ],
      "text/plain": [
       "                  team  games_played  goals  assists  total_points  \\\n",
       "0  Pittsburgh Penguins            81     52       69           121   \n",
       "1   Colorado Avalanche            82     54       64           118   \n",
       "2    New Jersey Devils            82     40       56            96   \n",
       "3  Pittsburgh Penguins            79     44       51            95   \n",
       "4        Boston Bruins            82     36       59            95   \n",
       "\n",
       "  points_per_game penalty_minutes team_goal_differential position  \\\n",
       "0            1.49              42                     19     Wing   \n",
       "1            1.44              30                     45     Wing   \n",
       "2            1.17              51                     45     Wing   \n",
       "3             1.2              96                     12     Wing   \n",
       "4            1.16              85                     -8     Wing   \n",
       "\n",
       "   head_injuries  previous_head_injuries  \n",
       "0              0                       0  \n",
       "1              0                       0  \n",
       "2              0                       0  \n",
       "3              0                       0  \n",
       "4              0                       0  "
      ]
     },
     "execution_count": 17,
     "metadata": {},
     "output_type": "execute_result"
    }
   ],
   "source": [
    "# condense values in the \"position\" column to be either center, wing, or defense\n",
    "# Define the mapping for column 'position'\n",
    "mapping = {'RW': 'Wing', 'C': 'Wing', 'LW': 'Wing', 'D': 'Defense', 'LW/RW': 'Wing', 'RW/LW': 'Wing', 'W/C': 'Wing',\n",
    "           'C/LW': 'Center', 'C/RW': 'Center', 'RW/C': 'Wing', 'LW/C': 'Wing', 'D/RW': 'Defense', 'D/LW': 'Defense', 'D/C':\n",
    "           'Defense', 'RW/D': 'Wing', 'C/W': 'Center', 'C/D': 'Center', 'F': 'Wing','LW/D': 'Wing', 'D/W': 'Defense'}\n",
    "\n",
    "# Replace the values in column 'position'\n",
    "df['position'] = df['position'].replace(mapping)\n",
    "df.head()"
   ]
  },
  {
   "cell_type": "markdown",
   "id": "0db620e3",
   "metadata": {},
   "source": [
    "The columns,'points_per_game', 'penalty_minutes', 'team_goal_differential', and 'position', are objects. These columns need to be changed to numerical or dummied."
   ]
  },
  {
   "cell_type": "code",
   "execution_count": 18,
   "id": "e030d88e",
   "metadata": {},
   "outputs": [
    {
     "data": {
      "text/plain": [
       "team                      object\n",
       "games_played               int64\n",
       "goals                      int64\n",
       "assists                    int64\n",
       "total_points               int64\n",
       "points_per_game           object\n",
       "penalty_minutes           object\n",
       "team_goal_differential    object\n",
       "position                  object\n",
       "head_injuries              int64\n",
       "previous_head_injuries     int64\n",
       "dtype: object"
      ]
     },
     "execution_count": 18,
     "metadata": {},
     "output_type": "execute_result"
    }
   ],
   "source": [
    "# view df data types\n",
    "df.dtypes"
   ]
  },
  {
   "cell_type": "markdown",
   "id": "30061753",
   "metadata": {},
   "source": [
    "This code selects three columns from the dataframe 'df' specified by the list of column names 'columns'. For each of these columns, the code filters out any rows where the column value is '-' using the '!= operator'. Then, the code converts the remaining values in the column to floating-point numbers using the 'astype()' method. The dataframe is stored in 'df'."
   ]
  },
  {
   "cell_type": "code",
   "execution_count": 19,
   "id": "111d09c4",
   "metadata": {},
   "outputs": [],
   "source": [
    "# change incorrectly labeled string columns to floats\n",
    "columns = ['points_per_game', 'penalty_minutes', 'team_goal_differential']\n",
    "for column in columns:\n",
    "    df = df[df[column] != '-']\n",
    "    df[column] = df[column].astype(float)"
   ]
  },
  {
   "cell_type": "markdown",
   "id": "8c7355ac",
   "metadata": {},
   "source": [
    "The following code creates a heatmap visualization for a dataframe 'df'. This code first selects the columns with continuous variables from the 'df' dataframe using the 'select_dtypes()' method and stores them in a new dataframe 'df_continuous'. Then, it creates a correlation matrix from the continuous variables in the 'df_continuous' dataframe using the 'corr()' method. The code uses 'heatmap()' function to make a visualization from the correlation matrix. Finally, the heatmap is displayed using the 'show()' method. The heatmap displays the correlations between pairs of continuous variables in the dataframe. "
   ]
  },
  {
   "cell_type": "code",
   "execution_count": 20,
   "id": "27fac2a6",
   "metadata": {},
   "outputs": [
    {
     "data": {
      "image/png": "[encoded data removed]",
      "text/plain": [
       "<Figure size 432x288 with 2 Axes>"
      ]
     },
     "metadata": {
      "needs_background": "light"
     },
     "output_type": "display_data"
    }
   ],
   "source": [
    "# heatmap of dataframe\n",
    "\n",
    "# Select only the continuous variables from the DataFrame\n",
    "df_continuous = df.select_dtypes(include=[np.number])\n",
    "\n",
    "# create a correlation matrix from the dataFrame\n",
    "corr_matrix = df_continuous.corr()\n",
    "\n",
    "# create a heatmap from the correlation matrix\n",
    "sns.heatmap(corr_matrix, annot=True, cmap='plasma' )\n",
    "\n",
    "# display the heatmap\n",
    "plt.show()"
   ]
  },
  {
   "cell_type": "markdown",
   "id": "1972b6e3",
   "metadata": {},
   "source": [
    "Dataframe currently has 18,723 rows and 11 columns"
   ]
  },
  {
   "cell_type": "code",
   "execution_count": 21,
   "id": "9593b991",
   "metadata": {},
   "outputs": [
    {
     "data": {
      "text/plain": [
       "(18723, 11)"
      ]
     },
     "execution_count": 21,
     "metadata": {},
     "output_type": "execute_result"
    }
   ],
   "source": [
    "df.shape"
   ]
  },
  {
   "cell_type": "code",
   "execution_count": 22,
   "id": "a7e90b3f",
   "metadata": {},
   "outputs": [
    {
     "data": {
      "text/html": [
       "<div>\n",
       "<style scoped>\n",
       "    .dataframe tbody tr th:only-of-type {\n",
       "        vertical-align: middle;\n",
       "    }\n",
       "\n",
       "    .dataframe tbody tr th {\n",
       "        vertical-align: top;\n",
       "    }\n",
       "\n",
       "    .dataframe thead th {\n",
       "        text-align: right;\n",
       "    }\n",
       "</style>\n",
       "<table border=\"1\" class=\"dataframe\">\n",
       "  <thead>\n",
       "    <tr style=\"text-align: right;\">\n",
       "      <th></th>\n",
       "      <th>team</th>\n",
       "      <th>games_played</th>\n",
       "      <th>goals</th>\n",
       "      <th>assists</th>\n",
       "      <th>total_points</th>\n",
       "      <th>points_per_game</th>\n",
       "      <th>penalty_minutes</th>\n",
       "      <th>team_goal_differential</th>\n",
       "      <th>position</th>\n",
       "      <th>head_injuries</th>\n",
       "      <th>previous_head_injuries</th>\n",
       "    </tr>\n",
       "  </thead>\n",
       "  <tbody>\n",
       "    <tr>\n",
       "      <th>0</th>\n",
       "      <td>Pittsburgh Penguins</td>\n",
       "      <td>81</td>\n",
       "      <td>52</td>\n",
       "      <td>69</td>\n",
       "      <td>121</td>\n",
       "      <td>1.49</td>\n",
       "      <td>42.0</td>\n",
       "      <td>19.0</td>\n",
       "      <td>Wing</td>\n",
       "      <td>0</td>\n",
       "      <td>0</td>\n",
       "    </tr>\n",
       "    <tr>\n",
       "      <th>1</th>\n",
       "      <td>Colorado Avalanche</td>\n",
       "      <td>82</td>\n",
       "      <td>54</td>\n",
       "      <td>64</td>\n",
       "      <td>118</td>\n",
       "      <td>1.44</td>\n",
       "      <td>30.0</td>\n",
       "      <td>45.0</td>\n",
       "      <td>Wing</td>\n",
       "      <td>0</td>\n",
       "      <td>0</td>\n",
       "    </tr>\n",
       "    <tr>\n",
       "      <th>2</th>\n",
       "      <td>New Jersey Devils</td>\n",
       "      <td>82</td>\n",
       "      <td>40</td>\n",
       "      <td>56</td>\n",
       "      <td>96</td>\n",
       "      <td>1.17</td>\n",
       "      <td>51.0</td>\n",
       "      <td>45.0</td>\n",
       "      <td>Wing</td>\n",
       "      <td>0</td>\n",
       "      <td>0</td>\n",
       "    </tr>\n",
       "    <tr>\n",
       "      <th>3</th>\n",
       "      <td>Pittsburgh Penguins</td>\n",
       "      <td>79</td>\n",
       "      <td>44</td>\n",
       "      <td>51</td>\n",
       "      <td>95</td>\n",
       "      <td>1.20</td>\n",
       "      <td>96.0</td>\n",
       "      <td>12.0</td>\n",
       "      <td>Wing</td>\n",
       "      <td>0</td>\n",
       "      <td>0</td>\n",
       "    </tr>\n",
       "    <tr>\n",
       "      <th>4</th>\n",
       "      <td>Boston Bruins</td>\n",
       "      <td>82</td>\n",
       "      <td>36</td>\n",
       "      <td>59</td>\n",
       "      <td>95</td>\n",
       "      <td>1.16</td>\n",
       "      <td>85.0</td>\n",
       "      <td>-8.0</td>\n",
       "      <td>Wing</td>\n",
       "      <td>0</td>\n",
       "      <td>0</td>\n",
       "    </tr>\n",
       "  </tbody>\n",
       "</table>\n",
       "</div>"
      ],
      "text/plain": [
       "                  team  games_played  goals  assists  total_points  \\\n",
       "0  Pittsburgh Penguins            81     52       69           121   \n",
       "1   Colorado Avalanche            82     54       64           118   \n",
       "2    New Jersey Devils            82     40       56            96   \n",
       "3  Pittsburgh Penguins            79     44       51            95   \n",
       "4        Boston Bruins            82     36       59            95   \n",
       "\n",
       "   points_per_game  penalty_minutes  team_goal_differential position  \\\n",
       "0             1.49             42.0                    19.0     Wing   \n",
       "1             1.44             30.0                    45.0     Wing   \n",
       "2             1.17             51.0                    45.0     Wing   \n",
       "3             1.20             96.0                    12.0     Wing   \n",
       "4             1.16             85.0                    -8.0     Wing   \n",
       "\n",
       "   head_injuries  previous_head_injuries  \n",
       "0              0                       0  \n",
       "1              0                       0  \n",
       "2              0                       0  \n",
       "3              0                       0  \n",
       "4              0                       0  "
      ]
     },
     "execution_count": 22,
     "metadata": {},
     "output_type": "execute_result"
    }
   ],
   "source": [
    "# view dataframe\n",
    "df.head()"
   ]
  },
  {
   "cell_type": "markdown",
   "id": "75215a34",
   "metadata": {},
   "source": [
    "The columns, `team` and `position` still have the object datatype and need to be dummied."
   ]
  },
  {
   "cell_type": "code",
   "execution_count": 23,
   "id": "4f4ca713",
   "metadata": {},
   "outputs": [
    {
     "data": {
      "text/plain": [
       "team                       object\n",
       "games_played                int64\n",
       "goals                       int64\n",
       "assists                     int64\n",
       "total_points                int64\n",
       "points_per_game           float64\n",
       "penalty_minutes           float64\n",
       "team_goal_differential    float64\n",
       "position                   object\n",
       "head_injuries               int64\n",
       "previous_head_injuries      int64\n",
       "dtype: object"
      ]
     },
     "execution_count": 23,
     "metadata": {},
     "output_type": "execute_result"
    }
   ],
   "source": [
    "# view datatypes\n",
    "df.dtypes"
   ]
  },
  {
   "cell_type": "markdown",
   "id": "a697a078",
   "metadata": {},
   "source": [
    "Histogram shows the target column, `head_injuries` as an imbalanced class."
   ]
  },
  {
   "cell_type": "code",
   "execution_count": 24,
   "id": "adb3c10f",
   "metadata": {},
   "outputs": [
    {
     "data": {
      "image/png": "[encoded data removed]",
      "text/plain": [
       "<Figure size 432x288 with 1 Axes>"
      ]
     },
     "metadata": {
      "needs_background": "light"
     },
     "output_type": "display_data"
    }
   ],
   "source": [
    "# histogram\n",
    "# create a histogram of the 'head_injuries' column\n",
    "plt.hist(df['head_injuries'])\n",
    "\n",
    "# add labels and title to the plot\n",
    "plt.xlabel('Concussions')\n",
    "plt.ylabel('Frequency')\n",
    "plt.title('Histogram of Concussion column')\n",
    "\n",
    "# display the plot\n",
    "plt.show()"
   ]
  },
  {
   "cell_type": "markdown",
   "id": "a00597c9",
   "metadata": {},
   "source": [
    "### 3. Explore"
   ]
  },
  {
   "cell_type": "markdown",
   "id": "be7ca748",
   "metadata": {},
   "source": [
    "Defense positions in hockey have a slightly higher number of head injuries demonstrated by the below bar plot."
   ]
  },
  {
   "cell_type": "code",
   "execution_count": 25,
   "id": "6a71005c",
   "metadata": {},
   "outputs": [
    {
     "data": {
      "image/png": "[encoded data removed]",
      "text/plain": [
       "<Figure size 432x288 with 1 Axes>"
      ]
     },
     "metadata": {
      "needs_background": "light"
     },
     "output_type": "display_data"
    }
   ],
   "source": [
    "# Plot a bar plot of the head_injuries and a positions columns\n",
    "sns.barplot(x=df['position'], y=df['head_injuries'])\n",
    "plt.xlabel('Positions')\n",
    "plt.ylabel('Head injuries')\n",
    "plt.title('Bar plot of the head injuries and hockey positions')\n",
    "plt.show()\n"
   ]
  },
  {
   "cell_type": "markdown",
   "id": "8e774640",
   "metadata": {},
   "source": [
    "Buffalo Sabres, Edmonton Oilers, and Colorado Avalanche are at the top of this bar plot with the most number of head injuries. "
   ]
  },
  {
   "cell_type": "code",
   "execution_count": 26,
   "id": "db93aee0",
   "metadata": {},
   "outputs": [
    {
     "data": {
      "image/png": "[encoded data removed]",
      "text/plain": [
       "<Figure size 864x576 with 1 Axes>"
      ]
     },
     "metadata": {
      "needs_background": "light"
     },
     "output_type": "display_data"
    }
   ],
   "source": [
    "# Plot a bar plot of the head_injuries and the team column\n",
    "fig = plt.figure(figsize=(12, 8))\n",
    "# Define the order of the categories\n",
    "order = df.groupby('team')['head_injuries'].mean().sort_values(ascending=False).index\n",
    "sns.barplot(x=df['team'], y=df['head_injuries'], order=order)\n",
    "plt.xticks(rotation=90, fontsize=12)\n",
    "plt.xlabel('Teams')\n",
    "plt.ylabel('Head injuries')\n",
    "plt.title('Bar plot of the head injuries and teams')\n",
    "plt.show()"
   ]
  },
  {
   "cell_type": "markdown",
   "id": "07965c47",
   "metadata": {},
   "source": [
    "This code creates dummy variables for all categorical columns in the df. Identifies all the categorical columns using select_dtypes(include=['object']) method and assigns them to the categorical_columns variable. Then it loops through each column in the categorical_columns variable, creates dummy variables using the get_dummies() function, and prefixes the column name to each dummy variable using the prefix argument.\n",
    "\n",
    "It then concatenates the df with the newly created dummy variables along the column axis, drops the original categorical column using the drop() method along the column axis, and assigns the resulting DataFrame to df"
   ]
  },
  {
   "cell_type": "code",
   "execution_count": 27,
   "id": "352204fe",
   "metadata": {},
   "outputs": [],
   "source": [
    "# dummy categorical columns\n",
    "# Get list of all categorical columns\n",
    "categorical_columns = df.select_dtypes(include=['object']).columns\n",
    "\n",
    "# Dummy all categorical columns\n",
    "for column in categorical_columns:\n",
    "    dummies = pd.get_dummies(df[column], prefix=column)\n",
    "    df = pd.concat([df, dummies], axis=1)\n",
    "    df.drop(column, axis=1, inplace=True)"
   ]
  },
  {
   "cell_type": "markdown",
   "id": "e6286171",
   "metadata": {},
   "source": [
    "### 4. Model"
   ]
  },
  {
   "cell_type": "markdown",
   "id": "456372a4",
   "metadata": {},
   "source": [
    "Set the variable, X, by dropping the target variable, `head_injuries` and set the variable, y, to equal `df['head_injuries`]."
   ]
  },
  {
   "cell_type": "code",
   "execution_count": 28,
   "id": "a0e0b7cc",
   "metadata": {},
   "outputs": [],
   "source": [
    "# Separate the features and target variable\n",
    "X = df.drop('head_injuries', axis=1)\n",
    "y = df['head_injuries']"
   ]
  },
  {
   "cell_type": "markdown",
   "id": "fa74981d",
   "metadata": {},
   "source": [
    "#### Model_helper function"
   ]
  },
  {
   "cell_type": "markdown",
   "id": "30a4e3d7",
   "metadata": {},
   "source": [
    "This code is running 5 different classification models to compare their f1_score results. The best F1 score here is with the Random Forest Classifier, F1 Score (Training): 0.9796814936847885 and F1 Score (Testing): 0.16923076923076924."
   ]
  },
  {
   "cell_type": "code",
   "execution_count": 29,
   "id": "791cf2df",
   "metadata": {},
   "outputs": [
    {
     "name": "stdout",
     "output_type": "stream",
     "text": [
      "Results for LogisticRegression\n"
     ]
    },
    {
     "name": "stderr",
     "output_type": "stream",
     "text": [
      "C:\\Users\\Jeff\\anaconda3\\lib\\site-packages\\sklearn\\linear_model\\_logistic.py:814: ConvergenceWarning: lbfgs failed to converge (status=1):\n",
      "STOP: TOTAL NO. of ITERATIONS REACHED LIMIT.\n",
      "\n",
      "Increase the number of iterations (max_iter) or scale the data as shown in:\n",
      "    https://scikit-learn.org/stable/modules/preprocessing.html\n",
      "Please also refer to the documentation for alternative solver options:\n",
      "    https://scikit-learn.org/stable/modules/linear_model.html#logistic-regression\n",
      "  n_iter_i = _check_optimize_result(\n"
     ]
    },
    {
     "name": "stdout",
     "output_type": "stream",
     "text": [
      "Training Score: 0.9177460275070103\n",
      "Testing Score: 0.9279038718291055\n",
      "F1 Score (Training): 0.05810397553516819\n",
      "F1 Score (Testing): 0.028776978417266185\n",
      "--------------------------------------------------------------------------------\n",
      "Results for DecisionTreeClassifier\n",
      "Training Score: 0.9975297102416878\n",
      "Testing Score: 0.8875834445927904\n",
      "F1 Score (Training): 0.979591836734694\n",
      "F1 Score (Testing): 0.1596806387225549\n",
      "--------------------------------------------------------------------------------\n",
      "Results for RandomForestClassifier\n",
      "Training Score: 0.9975297102416878\n",
      "Testing Score: 0.9423230974632844\n",
      "F1 Score (Training): 0.9796814936847885\n",
      "F1 Score (Testing): 0.16923076923076924\n",
      "--------------------------------------------------------------------------------\n",
      "Results for SVC\n",
      "Training Score: 0.527840833222059\n",
      "Testing Score: 0.5238985313751668\n",
      "F1 Score (Training): 0.15\n",
      "F1 Score (Testing): 0.13151485630784218\n",
      "--------------------------------------------------------------------------------\n",
      "Results for GradientBoostingClassifier\n",
      "Training Score: 0.9183469087995727\n",
      "Testing Score: 0.9158878504672897\n",
      "F1 Score (Training): 0.203257328990228\n",
      "F1 Score (Testing): 0.10256410256410256\n",
      "--------------------------------------------------------------------------------\n"
     ]
    }
   ],
   "source": [
    "# running 5 models to see which one has the best f1_score\n",
    "models = [LogisticRegression(), \n",
    "          DecisionTreeClassifier(),\n",
    "          RandomForestClassifier(random_state=86),\n",
    "          SVC(),\n",
    "          GradientBoostingClassifier()]\n",
    "\n",
    "for model in models:\n",
    "    print(f\"Results for {type(model).__name__}\")\n",
    "    model_helper(X, y, model)\n",
    "    print('----------------'*5)\n"
   ]
  },
  {
   "cell_type": "markdown",
   "id": "2232d3f7",
   "metadata": {},
   "source": [
    "Applying grid search to the best model, random forest classifier. Shows that a random forest classifier with these hyperparameters, 'max_depth': None, 'min_samples_leaf': 1, 'min_samples_split': 5, 'n_estimators': 100 will produce the best f1_score of F1 Score (Training): 0.804642166344294 and F1 Score (Testing): 0.12658227848101267.\n"
   ]
  },
  {
   "cell_type": "code",
   "execution_count": null,
   "id": "f1bd62ac",
   "metadata": {
    "scrolled": true
   },
   "outputs": [
    {
     "name": "stdout",
     "output_type": "stream",
     "text": [
      "Fitting 3 folds for each of 108 candidates, totalling 324 fits\n"
     ]
    }
   ],
   "source": [
    "# Since the RandomForestClassifier has the best, albiet low, f1_score, I will apply a grid search\n",
    "# to find the best hyperparameters\n",
    "X_train, X_test, y_train, y_test = train_test_split(X, y, test_size = .2, random_state = 86)\n",
    "\n",
    "# Define the hyperparameters to tune\n",
    "param_grid = {\n",
    "    'n_estimators': [100, 200, 300],\n",
    "    'max_depth': [None, 5, 10, 15],\n",
    "    'min_samples_split': [2, 5, 10],\n",
    "    'min_samples_leaf': [1, 2, 4]\n",
    "}\n",
    "\n",
    "# Create a random forest classifier\n",
    "rf = RandomForestClassifier(random_state=86)\n",
    "\n",
    "# Use GridSearchCV to find the best hyperparameters\n",
    "grid_search = GridSearchCV(estimator=rf, param_grid=param_grid, cv=3, scoring='f1', n_jobs=-1,\n",
    "                  verbose=4)\n",
    "grid_search.fit(X, y)\n",
    "\n",
    "# Print the best hyperparameters and the corresponding f1 score\n",
    "print(\"Best Hyperparameters:\", grid_search.best_params_)\n",
    "rf_optimal = RandomForestClassifier(**grid_search.best_params_, random_state=86)\n",
    "model_helper(X, y, rf_optimal, feature_importance=True)"
   ]
  },
  {
   "cell_type": "markdown",
   "id": "dde5f9a3",
   "metadata": {},
   "source": [
    "Try 3 years instead of 1 to predict head injuries"
   ]
  },
  {
   "cell_type": "markdown",
   "id": "55477f69",
   "metadata": {},
   "source": [
    "Since the random forest classifier with grid search did not achieve a high f1_score, I want to try the OSEMN method again, but this time with combining the target variable to include 3 years. Is it possible to better predict if a player will get a head injury in the next three years, rather than in the next year as I tried in the previous code?"
   ]
  },
  {
   "cell_type": "markdown",
   "id": "4ae372f5",
   "metadata": {},
   "source": [
    "### Obtain:"
   ]
  },
  {
   "cell_type": "markdown",
   "id": "884f20b3",
   "metadata": {},
   "source": [
    "The first line loads the data from the CSV file and assigns it to the df_3 variable. The second line adds a new column to the DataFrame called \"year\" using the map() method to apply a lambda function to each element of the \"season\" column, which extracts the first part of the season string and converts it to an integer. "
   ]
  },
  {
   "cell_type": "code",
   "execution_count": null,
   "id": "6a319ff6",
   "metadata": {},
   "outputs": [],
   "source": [
    "# head injury in the next 3 years \n",
    "df_3 = pd.read_csv(\"df.csv\")\n",
    "# add column, \"year\"\n",
    "df_3['year'] = df_3['season'].map(lambda x: int(x.split('-')[0]))\n"
   ]
  },
  {
   "cell_type": "markdown",
   "id": "859690a1",
   "metadata": {},
   "source": [
    "### Scrub/Explore:"
   ]
  },
  {
   "cell_type": "markdown",
   "id": "40a31e27",
   "metadata": {},
   "source": [
    "Make a new column, `head_injury_3`, that will be used to bin head_injury data for the next 3 years, rather than just the next year."
   ]
  },
  {
   "cell_type": "code",
   "execution_count": null,
   "id": "60f1bac8",
   "metadata": {},
   "outputs": [],
   "source": [
    "df_3['head_injury_3'] = 0\n",
    "\n",
    "for index, row in df_3.iterrows():\n",
    "    num_head_inj = df_3[(df_3['player'] == row['player']) & (df_3['year'] > row['year']) & \n",
    "      (df_3['year'] <= row['year'] + 5)]['head_injuries'].sum()\n",
    "    df_3.loc[index, 'head_injury_3'] = num_head_inj"
   ]
  },
  {
   "cell_type": "markdown",
   "id": "641a3cf4",
   "metadata": {},
   "source": [
    "Remove duplicates from dataframe, df_3."
   ]
  },
  {
   "cell_type": "code",
   "execution_count": null,
   "id": "d1e725c9",
   "metadata": {},
   "outputs": [],
   "source": [
    "# find and remove duplicates\n",
    "duplicates = df_3[df_3.duplicated()]\n",
    "df_3 = df_3.drop_duplicates()"
   ]
  },
  {
   "cell_type": "markdown",
   "id": "fb853fb2",
   "metadata": {},
   "source": [
    "Same as before, converting columns to floats to better run in the models."
   ]
  },
  {
   "cell_type": "code",
   "execution_count": null,
   "id": "96d198fa",
   "metadata": {},
   "outputs": [],
   "source": [
    "# Convert columns with numeric values to floats\n",
    "columns = ['pim', 'ppg', '+/-']\n",
    "for column in columns:\n",
    "    df_3 = df_3[df_3[column] != '-']\n",
    "    df_3[column] = df_3[column].astype(float)"
   ]
  },
  {
   "cell_type": "markdown",
   "id": "0bda889e",
   "metadata": {},
   "source": [
    "Rename columns in a standardized, readable format."
   ]
  },
  {
   "cell_type": "code",
   "execution_count": null,
   "id": "c2711094",
   "metadata": {},
   "outputs": [],
   "source": [
    "# Rename columns\n",
    "df_3.rename(columns={'gp': 'games_played', 'g': 'goals', 'a': 'assists',\n",
    "                       'tp': 'total_points', 'ppg': 'points_per_game', 'pim': 'penalty_minutes',\n",
    "                      '+/-': 'team_goal_differential', 'playername': 'player_name', 'fw_def': 'forward_defense',\n",
    "                      'Name': 'name', 'Games Missed': 'games_missed'}, inplace=True)"
   ]
  },
  {
   "cell_type": "code",
   "execution_count": null,
   "id": "851b630d",
   "metadata": {},
   "outputs": [],
   "source": [
    "df_3.head()"
   ]
  },
  {
   "cell_type": "markdown",
   "id": "b45308d9",
   "metadata": {},
   "source": [
    "Change values in the position column to be only center, wing, or defense, will dummy later. "
   ]
  },
  {
   "cell_type": "code",
   "execution_count": null,
   "id": "a7db2a59",
   "metadata": {},
   "outputs": [],
   "source": [
    "# Condense values in the \"position\" column to be either center, wing, or defense\n",
    "mapping = {'RW': 'Wing', 'C': 'Wing', 'LW': 'Wing', 'D': 'Defense', 'LW/RW': 'Wing', 'RW/LW': 'Wing', 'W/C': 'Wing',\n",
    "           'C/LW': 'Center', 'C/RW': 'Center', 'RW/C': 'Wing', 'LW/C': 'Wing', 'D/RW': 'Defense', 'D/LW': 'Defense',\n",
    "           'D/C': 'Defense', 'RW/D': 'Wing', 'C/W': 'Center', 'C/D': 'Center', 'F': 'Wing','LW/D': 'Wing',\n",
    "           'D/W': 'Defense'}\n",
    "df_3['position'] = df_3['position'].replace(mapping)"
   ]
  },
  {
   "cell_type": "markdown",
   "id": "ae09e4e8",
   "metadata": {},
   "source": [
    "The following Python code creates a new binary column in the DataFrame `df_3` based on the values in the `head_injury_3` column."
   ]
  },
  {
   "cell_type": "code",
   "execution_count": null,
   "id": "8b8e3864",
   "metadata": {},
   "outputs": [],
   "source": [
    "# Add new column \"head_injury_3_bin\" and populate it based on the values in \"head_injury_3\"\n",
    "df_3['head_injury_3_bin'] = np.where(df_3['head_injury_3'] > 0, 1, 0)\n"
   ]
  },
  {
   "cell_type": "markdown",
   "id": "0259807c",
   "metadata": {},
   "source": [
    "View the difference between the original distribution of the target variable and the new target variable, 'head_injury_3_bin`. The original target variable had 6% percent head injuries, whereas the new target variable has 13% head injuries. "
   ]
  },
  {
   "cell_type": "code",
   "execution_count": null,
   "id": "e16c3d35",
   "metadata": {},
   "outputs": [],
   "source": [
    "# Print value counts of \"head_injuries\" and \"head_injury_3_bin\"\n",
    "print(df_3['head_injuries'].value_counts(normalize=True))\n",
    "print(df_3['head_injury_3_bin'].value_counts(normalize=True))"
   ]
  },
  {
   "cell_type": "code",
   "execution_count": null,
   "id": "a3a1cda2",
   "metadata": {},
   "outputs": [],
   "source": [
    "# view dataframe\n",
    "df_3.head(2)"
   ]
  },
  {
   "cell_type": "markdown",
   "id": "4b055b58",
   "metadata": {},
   "source": [
    "Drop columns so that it matches the original dataframe, df."
   ]
  },
  {
   "cell_type": "code",
   "execution_count": null,
   "id": "40fd7cbe",
   "metadata": {},
   "outputs": [],
   "source": [
    "# drop unnecessary columns\n",
    "df_3.drop(columns=['player', 'link', 'league', 'player_name',  'name', 'season', 'forward_defense',\n",
    "                   'games_missed', 'year', 'head_injuries', 'head_injury_3'], \n",
    "        axis=1, inplace=True)"
   ]
  },
  {
   "cell_type": "code",
   "execution_count": null,
   "id": "e2494021",
   "metadata": {},
   "outputs": [],
   "source": [
    "# view dataframe\n",
    "df_3.head()"
   ]
  },
  {
   "cell_type": "markdown",
   "id": "1174ef14",
   "metadata": {},
   "source": [
    "Datatypes in df_3 still have two object columns."
   ]
  },
  {
   "cell_type": "code",
   "execution_count": null,
   "id": "805e968d",
   "metadata": {},
   "outputs": [],
   "source": [
    "# check datatypes\n",
    "df_3.dtypes"
   ]
  },
  {
   "cell_type": "markdown",
   "id": "7063d02e",
   "metadata": {},
   "source": [
    "Use get_dummies() to dummify the remaining two object columns. "
   ]
  },
  {
   "cell_type": "code",
   "execution_count": null,
   "id": "5146f882",
   "metadata": {},
   "outputs": [],
   "source": [
    "# dummy categorical columns\n",
    "# Get list of all categorical columns\n",
    "categorical_columns = df_3.select_dtypes(include=['object']).columns\n",
    "\n",
    "# Dummy all categorical columns\n",
    "for column in categorical_columns:\n",
    "    dummies = pd.get_dummies(df_3[column], prefix=column)\n",
    "    df_3 = pd.concat([df_3, dummies], axis=1)\n",
    "    df_3.drop(column, axis=1, inplace=True)"
   ]
  },
  {
   "cell_type": "code",
   "execution_count": null,
   "id": "fcd5e642",
   "metadata": {},
   "outputs": [],
   "source": [
    "# view dataframe\n",
    "df_3.head()"
   ]
  },
  {
   "cell_type": "markdown",
   "id": "e27a853a",
   "metadata": {},
   "source": [
    "Create the X and y variables for modeling using `head_injury_3_bin` as the target variable. "
   ]
  },
  {
   "cell_type": "code",
   "execution_count": null,
   "id": "8ce59995",
   "metadata": {},
   "outputs": [],
   "source": [
    "# Separate the features and target variable\n",
    "X = df_3.drop('head_injury_3_bin', axis=1)\n",
    "y = df_3['head_injury_3_bin']"
   ]
  },
  {
   "cell_type": "markdown",
   "id": "4c16e0df",
   "metadata": {},
   "source": [
    "A random forest classifier is instantiated with RandomForestClassifier(random_state=86). This classifier is passed, along with the predictor variables X, target variable y, and a boolean flag feature_importance=True, to the model_helper() function.\n",
    "\n",
    "The F1 score is provided for both the training and testing data. The F1 score is a measure of the classifier's accuracy that takes into account both precision and recall. The model that provided the best F1 score is 0.24079320113314448.\n",
    "\n",
    "The output shows the importance of each feature in the classifier's prediction.The features show the most important feature (penalty_minutes) listed first and the least important feature (team_Mighty Ducks of Anaheim) listed last.\n"
   ]
  },
  {
   "cell_type": "code",
   "execution_count": null,
   "id": "de0a76f1",
   "metadata": {},
   "outputs": [],
   "source": [
    "rf_3 = RandomForestClassifier(random_state=86)\n",
    "\n",
    "model_helper(X, y, rf_3, feature_importance=True)"
   ]
  },
  {
   "cell_type": "markdown",
   "id": "93e52ed9",
   "metadata": {},
   "source": [
    "A dummy classifier is shown here to illustrate that using a baseline model, the F1 score is 0. It passes the model to the function model_helper() along with other arguments (X, y, and feature_importance)."
   ]
  },
  {
   "cell_type": "code",
   "execution_count": null,
   "id": "cbca61da",
   "metadata": {},
   "outputs": [],
   "source": [
    "dummy = DummyClassifier(random_state=86)\n",
    "\n",
    "model_helper(X, y, dummy,\n",
    "             feature_importance=False)"
   ]
  },
  {
   "cell_type": "markdown",
   "id": "32061196",
   "metadata": {},
   "source": [
    "### 5. Interpret"
   ]
  },
  {
   "cell_type": "code",
   "execution_count": null,
   "id": "9b95edee",
   "metadata": {},
   "outputs": [],
   "source": [
    "# Interpret the results\n",
    "# Make predictions on the testing data\n",
    "y_pred = model.predict(X_test)\n",
    "\n",
    "# Calculate the accuracy of the model\n",
    "accuracy = accuracy_score(y_test, y_pred)\n",
    "print(\"Accuracy:\", accuracy)\n",
    "\n",
    "# Create a confusion matrix to evaluate the model's performance\n",
    "cm = confusion_matrix(y_test, y_pred)\n",
    "#print(\"Confusion matrix:\\n\", cm)\n",
    "disp = ConfusionMatrixDisplay(cm, display_labels=['No Head Injury', 'Head Injury'])\n",
    "disp.plot()\n",
    "plt.show()"
   ]
  },
  {
   "cell_type": "code",
   "execution_count": null,
   "id": "33957824",
   "metadata": {},
   "outputs": [],
   "source": [
    "### ADD in players affected in the next 3 years."
   ]
  },
  {
   "cell_type": "code",
   "execution_count": null,
   "id": "bda358dc",
   "metadata": {},
   "outputs": [],
   "source": [
    "# original_data = pd.read_csv('df.csv')"
   ]
  }
 ],
 "metadata": {
  "kernelspec": {
   "display_name": "Python 3 (ipykernel)",
   "language": "python",
   "name": "python3"
  },
  "language_info": {
   "codemirror_mode": {
    "name": "ipython",
    "version": 3
   },
   "file_extension": ".py",
   "mimetype": "text/x-python",
   "name": "python",
   "nbconvert_exporter": "python",
   "pygments_lexer": "ipython3",
   "version": "3.9.12"
  }
 },
 "nbformat": 4,
 "nbformat_minor": 5
}
